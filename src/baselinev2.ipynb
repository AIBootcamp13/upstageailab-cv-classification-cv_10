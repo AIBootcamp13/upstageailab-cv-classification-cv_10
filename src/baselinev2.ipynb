{
 "cells": [
  {
   "cell_type": "markdown",
   "id": "e0e65c9a",
   "metadata": {},
   "source": [
    "## 임포트"
   ]
  },
  {
   "cell_type": "code",
   "execution_count": 1,
   "id": "76e38eb3",
   "metadata": {},
   "outputs": [],
   "source": [
    "import os\n",
    "import time\n",
    "import json\n",
    "import random\n",
    "\n",
    "import wandb\n",
    "import timm\n",
    "import torch\n",
    "import pandas as pd\n",
    "import numpy as np\n",
    "import torch.nn as nn\n",
    "import torchvision.models as tv_models\n",
    "from torch.optim import Adam\n",
    "from torchvision import transforms\n",
    "from torch.utils.data import Dataset, DataLoader, Subset\n",
    "from PIL import Image\n",
    "from tqdm import tqdm\n",
    "from sklearn.metrics import accuracy_score, f1_score, precision_score, recall_score, roc_auc_score\n",
    "from sklearn.model_selection import train_test_split\n",
    "from sklearn.preprocessing import label_binarize\n",
    "\n"
   ]
  },
  {
   "cell_type": "markdown",
   "id": "18900608",
   "metadata": {},
   "source": [
    "## 파라미터 and Wandb"
   ]
  },
  {
   "cell_type": "code",
   "execution_count": 17,
   "id": "c00ebed6",
   "metadata": {},
   "outputs": [
    {
     "name": "stdout",
     "output_type": "stream",
     "text": [
      "cuda\n"
     ]
    },
    {
     "data": {
      "text/html": [],
      "text/plain": [
       "<IPython.core.display.HTML object>"
      ]
     },
     "metadata": {},
     "output_type": "display_data"
    },
    {
     "data": {
      "text/html": [
       "<br>    <style><br>        .wandb-row {<br>            display: flex;<br>            flex-direction: row;<br>            flex-wrap: wrap;<br>            justify-content: flex-start;<br>            width: 100%;<br>        }<br>        .wandb-col {<br>            display: flex;<br>            flex-direction: column;<br>            flex-basis: 100%;<br>            flex: 1;<br>            padding: 10px;<br>        }<br>    </style><br><div class=\"wandb-row\"><div class=\"wandb-col\"><h3>Run history:</h3><br/><table class=\"wandb\"><tr><td>f1_score</td><td>▁▁▂▁▃▄▅▅▅▅▅▅▆▆▆▇▇▇██</td></tr><tr><td>precision</td><td>▁▂▂▂▃▅▅▅▅▅▅▅▆▆▆▇▇▇██</td></tr><tr><td>recall</td><td>▁▁▂▂▃▄▅▅▅▅▅▅▆▆▆▇▇▇██</td></tr><tr><td>roc_auc</td><td>▁▄▅▅▅▇▇▇▇▇▇▇████████</td></tr><tr><td>train_loss</td><td>█▆▅▄▃▃▃▂▂▂▂▂▂▂▁▁▁▁▁▁</td></tr><tr><td>val_acc</td><td>▁▁▂▂▄▅▆▆▆▆▇▇▇▇▇█████</td></tr><tr><td>val_loss</td><td>█▅▄▄▃▃▂▂▂▂▂▂▁▁▁▁▁▁▁▁</td></tr></table><br/></div><div class=\"wandb-col\"><h3>Run summary:</h3><br/><table class=\"wandb\"><tr><td>f1_score</td><td>0.51791</td></tr><tr><td>precision</td><td>0.55042</td></tr><tr><td>recall</td><td>0.53676</td></tr><tr><td>roc_auc</td><td>0.9617</td></tr><tr><td>train_loss</td><td>1.01795</td></tr><tr><td>val_acc</td><td>66.35892</td></tr><tr><td>val_loss</td><td>1.07566</td></tr></table><br/></div></div>"
      ],
      "text/plain": [
       "<IPython.core.display.HTML object>"
      ]
     },
     "metadata": {},
     "output_type": "display_data"
    },
    {
     "data": {
      "text/html": [
       " View run <strong style=\"color:#cdcd00\">modelefficientnet_b3_EPOCHs20_lr1e-05_bs32</strong> at: <a href='https://wandb.ai/hoppure-/upstage-DC-project/runs/17s20cmx' target=\"_blank\">https://wandb.ai/hoppure-/upstage-DC-project/runs/17s20cmx</a><br> View project at: <a href='https://wandb.ai/hoppure-/upstage-DC-project' target=\"_blank\">https://wandb.ai/hoppure-/upstage-DC-project</a><br>Synced 5 W&B file(s), 0 media file(s), 0 artifact file(s) and 0 other file(s)"
      ],
      "text/plain": [
       "<IPython.core.display.HTML object>"
      ]
     },
     "metadata": {},
     "output_type": "display_data"
    },
    {
     "data": {
      "text/html": [
       "Find logs at: <code>./wandb/run-20250626_123203-17s20cmx/logs</code>"
      ],
      "text/plain": [
       "<IPython.core.display.HTML object>"
      ]
     },
     "metadata": {},
     "output_type": "display_data"
    },
    {
     "data": {
      "text/html": [
       "Tracking run with wandb version 0.19.9"
      ],
      "text/plain": [
       "<IPython.core.display.HTML object>"
      ]
     },
     "metadata": {},
     "output_type": "display_data"
    },
    {
     "data": {
      "text/html": [
       "Run data is saved locally in <code>/data/ephemeral/home/dev/dc/src/wandb/run-20250626_155626-smeadptg</code>"
      ],
      "text/plain": [
       "<IPython.core.display.HTML object>"
      ]
     },
     "metadata": {},
     "output_type": "display_data"
    },
    {
     "data": {
      "text/html": [
       "Syncing run <strong><a href='https://wandb.ai/hoppure-/upstage-DC-project/runs/smeadptg' target=\"_blank\">modelresnet101_EPOCHs20_lr1e-05_bs32</a></strong> to <a href='https://wandb.ai/hoppure-/upstage-DC-project' target=\"_blank\">Weights & Biases</a> (<a href='https://wandb.me/developer-guide' target=\"_blank\">docs</a>)<br>"
      ],
      "text/plain": [
       "<IPython.core.display.HTML object>"
      ]
     },
     "metadata": {},
     "output_type": "display_data"
    },
    {
     "data": {
      "text/html": [
       " View project at <a href='https://wandb.ai/hoppure-/upstage-DC-project' target=\"_blank\">https://wandb.ai/hoppure-/upstage-DC-project</a>"
      ],
      "text/plain": [
       "<IPython.core.display.HTML object>"
      ]
     },
     "metadata": {},
     "output_type": "display_data"
    },
    {
     "data": {
      "text/html": [
       " View run at <a href='https://wandb.ai/hoppure-/upstage-DC-project/runs/smeadptg' target=\"_blank\">https://wandb.ai/hoppure-/upstage-DC-project/runs/smeadptg</a>"
      ],
      "text/plain": [
       "<IPython.core.display.HTML object>"
      ]
     },
     "metadata": {},
     "output_type": "display_data"
    },
    {
     "data": {
      "text/html": [
       "<button onClick=\"this.nextSibling.style.display='block';this.style.display='none';\">Display W&B run</button><iframe src='https://wandb.ai/hoppure-/upstage-DC-project/runs/smeadptg?jupyter=true' style='border:none;width:100%;height:420px;display:none;'></iframe>"
      ],
      "text/plain": [
       "<wandb.sdk.wandb_run.Run at 0x7f5a99c81e10>"
      ]
     },
     "execution_count": 17,
     "metadata": {},
     "output_type": "execute_result"
    }
   ],
   "source": [
    "# device\n",
    "device = torch.device('cuda' if torch.cuda.is_available() else 'cpu')\n",
    "print(device)\n",
    "\n",
    "# data config\n",
    "data_path = '../data/'\n",
    "train_path = '../data/train/'\n",
    "test_path = '../data/test/'\n",
    "\n",
    "\n",
    "# 모델 이름과 weights enum 매핑\n",
    "weights_mapping = {\n",
    "    'resnet50': tv_models.ResNet50_Weights,\n",
    "    'resnet34': tv_models.ResNet34_Weights,\n",
    "    'resnet101': tv_models.ResNet101_Weights,\n",
    "    'efficientnet_b0': tv_models.EfficientNet_B0_Weights,\n",
    "    'efficientnet_b3': tv_models.EfficientNet_B3_Weights,\n",
    "\n",
    "    # 필요시 다른 모델도 추가\n",
    "}\n",
    "\n",
    "# training config\n",
    "CFS = {'model_name': 'resnet101',  # 'resnet34' 'efficientnet_b0', ...\n",
    "       'img_size': 224,\n",
    "       'num_classes': 45,  # Adjust based on your dataset\n",
    "       'LR': 1e-5, # Learning rate 가 이 숫자보다 크면 학습이 잘 안되는 것 같습니다.\n",
    "       'EPOCHS': 20,\n",
    "       'BATCH_SIZE': 32,\n",
    "       'num_workers': 16\n",
    "      }\n",
    "\n",
    "# 프로젝트 이름과 하이퍼파라미터를 지정해 run을 시작\n",
    "wandb.init(\n",
    "    project=\"upstage-DC-project\",  # 원하는 프로젝트 이름\n",
    "    config=CFS,  # 하이퍼파라미터 설정\n",
    "    name=f\"model{CFS['model_name']}_EPOCHs{CFS['EPOCHS']}_lr{CFS['LR']}_bs{CFS['BATCH_SIZE']}\"\n",
    "\n",
    ")\n",
    "\n",
    "# 터미널에서 wandb init"
   ]
  },
  {
   "cell_type": "markdown",
   "id": "60315b06",
   "metadata": {},
   "source": [
    "## class dictionary"
   ]
  },
  {
   "cell_type": "code",
   "execution_count": 18,
   "id": "332550ba",
   "metadata": {},
   "outputs": [],
   "source": [
    "classes_to_idx = {\n",
    "            '물류선하증권': 0,\n",
    "            '주민생활지원': 1,\n",
    "            '개인신용정보조회동의서(계약체결)': 2,\n",
    "            '모집경위서': 3,\n",
    "            '학자금대출신청서': 4,\n",
    "            '금융증권신고서': 5,\n",
    "            '개인신용정보조회동의서(상품소개)': 6,\n",
    "            '농림.축산지원': 7,\n",
    "            '회계.예산': 8,\n",
    "            '금융은행위임장': 9,\n",
    "            '금융증권위임장': 10,\n",
    "            '금융은행신고서': 11,\n",
    "            '물류포장명세서': 12,\n",
    "            '지역문화': 13,\n",
    "            '고객확인서(변경/정정)': 14,\n",
    "            '금융보험합의서': 15,\n",
    "            '금융증권확인서': 16,\n",
    "            '물류기타': 17,\n",
    "            '상수도관리': 18,\n",
    "            '계약전알릴의무사항': 19,\n",
    "            '상.하수도관리': 20,\n",
    "            '사실조사확인서': 21,\n",
    "            '금융보험위임장': 22,\n",
    "            '금융보험청구서': 23,\n",
    "            '금융보험동의서': 24,\n",
    "            '금융보험확인서': 25,\n",
    "            '주민복지': 26,\n",
    "            '지역환경.산림': 27,\n",
    "            '물류상업송장': 28,\n",
    "            '보험차익 세제관련 안내확인서': 29,\n",
    "            '물류원산지증명서': 30,\n",
    "            '인.허가': 31,\n",
    "            '산업진흥': 32,\n",
    "            '금융증권신청서': 33,\n",
    "            '청약서': 34,\n",
    "            '주민자치': 35,\n",
    "            '보험계약 변경신청 위임장': 36,\n",
    "            '부동산대출신청서': 37,\n",
    "            '일반행정': 38,\n",
    "            '금융은행신청서': 39,\n",
    "            '금융보험신청서': 40,\n",
    "            '은행거래신청서(계좌개설)': 41,\n",
    "            '정보보안동의서': 42,\n",
    "            '도시개발': 43,\n",
    "            '금융은행확인서': 44\n",
    "        }\n"
   ]
  },
  {
   "cell_type": "markdown",
   "id": "c5bf1546",
   "metadata": {},
   "source": [
    "## seed"
   ]
  },
  {
   "cell_type": "code",
   "execution_count": 19,
   "id": "8686ad68",
   "metadata": {},
   "outputs": [],
   "source": [
    "def seed_everything(seed):\n",
    "    random.seed(seed)\n",
    "    os.environ['PYTHONHASHSEED'] = str(seed)\n",
    "    np.random.seed(seed)\n",
    "    torch.manual_seed(seed)\n",
    "    torch.cuda.manual_seed(seed)\n",
    "    torch.backends.cudnn.deterministic = True\n",
    "    torch.backends.cudnn.benchmark = False\n",
    "\n",
    "seed_everything(42) # Seed 고정"
   ]
  },
  {
   "cell_type": "markdown",
   "id": "e2625705",
   "metadata": {},
   "source": [
    "## transfrom"
   ]
  },
  {
   "cell_type": "code",
   "execution_count": 20,
   "id": "245a4272",
   "metadata": {},
   "outputs": [],
   "source": [
    "\n",
    "train_transform = transforms.Compose([\n",
    "    transforms.Resize((CFS['img_size'], CFS['img_size'])),\n",
    "    transforms.ToTensor(),\n",
    "    transforms.Normalize(mean=[0.485, 0.456, 0.406],\n",
    "                         std=[0.229, 0.224, 0.225])\n",
    "])\n",
    "test_transform = transforms.Compose([\n",
    "    transforms.Resize((CFS['img_size'], CFS['img_size'])),\n",
    "    transforms.ToTensor(),\n",
    "    transforms.Normalize(mean=[0.485, 0.456, 0.406],\n",
    "                         std=[0.229, 0.224, 0.225])\n",
    "])"
   ]
  },
  {
   "cell_type": "markdown",
   "id": "c944d91e",
   "metadata": {},
   "source": [
    "## label "
   ]
  },
  {
   "cell_type": "code",
   "execution_count": 21,
   "id": "317cf1c0",
   "metadata": {},
   "outputs": [],
   "source": [
    "\n",
    "def get_label(filename):\n",
    "    \"\"\"\n",
    "    classification.py\n",
    "    \"\"\"\n",
    "    # print(f\"get_label: {filename}\")\n",
    "    with open(filename, 'r', encoding='utf-8') as file:\n",
    "        data = json.load(file)\n",
    "\n",
    "    if 'images' in data and len(data['images']) > 0:\n",
    "        first_image = data['images'][0]\n",
    "        if 'image.category' in first_image:\n",
    "            image_category = first_image['image.category']\n",
    "        elif 'document_name' in first_image:\n",
    "            image_category = first_image['document_name']\n",
    "    else:\n",
    "        dic = {0: '은행', 1: '보험', 2: '증권', 3: '기타'}\n",
    "        form_type = data['Images']['form_type']\n",
    "        # print(f\"form_type: {form_type}\")\n",
    "        if \"form_industry\" in data['Images']:\n",
    "            industry = data['Images']['form_industry']\n",
    "            image_category = \"금융\" + dic[industry] + data['Images']['form_type']\n",
    "        else:\n",
    "            image_category = \"물류\" + data['Images']['form_type']\n",
    "\n",
    "    # print(image_category)  # 출력: 주민자치\n",
    "\n",
    "    return image_category"
   ]
  },
  {
   "cell_type": "markdown",
   "id": "42a03650",
   "metadata": {},
   "source": [
    "## custom image Dataset"
   ]
  },
  {
   "cell_type": "code",
   "execution_count": 22,
   "id": "c92db814",
   "metadata": {},
   "outputs": [],
   "source": [
    "# 데이터셋 클래스를 정의합니다.\n",
    "class ImageDataset(Dataset):\n",
    "    def __init__(self, path, transform=None,):\n",
    "        self.path = path\n",
    "        self.transform = transform\n",
    "        self.samples = []\n",
    "        self.classes_to_idx = classes_to_idx  # 클래스 인덱스 매핑\n",
    "\n",
    "        label_set = set()\n",
    "        for folder in os.listdir(self.path):\n",
    "            folder_path = os.path.join(self.path, folder)\n",
    "            if not os.path.isdir(folder_path):\n",
    "                continue\n",
    "            for f in os.listdir(folder_path):\n",
    "                if f.lower().endswith(('.jpg', '.png')):\n",
    "                    img_path = os.path.join(folder_path, f)\n",
    "                    json_path = img_path.rsplit('.', 1)[0] + '.json'\n",
    "                    label = get_label(json_path) # 라벨을 가져옵니다\n",
    "                    self.samples.append((img_path, self.classes_to_idx[label]))\n",
    "\n",
    "    def __len__(self):\n",
    "        return len(self.samples)\n",
    "\n",
    "    def __getitem__(self, idx):\n",
    "        img_path, label = self.samples[idx]\n",
    "        label = torch.tensor(label)\n",
    "        image = Image.open(img_path).convert('RGB')\n",
    "        if self.transform:\n",
    "            image = self.transform(image)\n",
    "        return image, label\n",
    "            "
   ]
  },
  {
   "cell_type": "markdown",
   "id": "057add04",
   "metadata": {},
   "source": [
    "## Dataloader"
   ]
  },
  {
   "cell_type": "code",
   "execution_count": 23,
   "id": "cf5576d1",
   "metadata": {},
   "outputs": [
    {
     "name": "stdout",
     "output_type": "stream",
     "text": [
      "원본 데이터셋 크기: 8662\n",
      "클래스 수: 45\n",
      "클래스 이름: {0, 1, 2, 3, 4, 5, 6, 7, 8, 9, 10, 11, 12, 13, 14, 15, 16, 17, 18, 19, 20, 21, 22, 23, 24, 25, 26, 27, 28, 29, 30, 31, 32, 33, 34, 35, 36, 37, 38, 39, 40, 41, 42, 43, 44}\n",
      "train 이미지 수: 6929, valid 이미지 수: 1733\n"
     ]
    }
   ],
   "source": [
    "# 전체 데이터셋 로드\n",
    "full_dataset = ImageDataset(train_path, transform=None)\n",
    "print(f\"원본 데이터셋 크기: {len(full_dataset)}\")\n",
    "\n",
    "targets = [label for _, label in full_dataset.samples]\n",
    "print(f\"클래스 수: {len(set(targets))}\")\n",
    "print(f\"클래스 이름: {set(targets)}\")\n",
    "\n",
    "# Stratified Split\n",
    "train_idx, val_idx = train_test_split(\n",
    "    range(len(targets)), test_size=0.2, stratify=targets, random_state=42\n",
    ")\n",
    "\n",
    "# Subset + transform 각각 적용\n",
    "train_dataset = Subset(ImageDataset(train_path, transform=train_transform), train_idx)\n",
    "val_dataset = Subset(ImageDataset(train_path, transform=test_transform), val_idx)\n",
    "print(f'train 이미지 수: {len(train_dataset)}, valid 이미지 수: {len(val_dataset)}')\n",
    "\n",
    "# DataLoader 정의\n",
    "train_loader = DataLoader(\n",
    "    train_dataset,\n",
    "    batch_size=CFS['BATCH_SIZE'],\n",
    "    shuffle=True,\n",
    "    num_workers=CFS['num_workers'],\n",
    "    pin_memory=True,\n",
    "    drop_last=False\n",
    ")\n",
    "val_loader = DataLoader(\n",
    "    val_dataset,\n",
    "    batch_size=CFS['BATCH_SIZE'],\n",
    "    shuffle=False,\n",
    "    num_workers=int(CFS['num_workers'] / 2),\n",
    "    pin_memory=True\n",
    ")\n"
   ]
  },
  {
   "cell_type": "markdown",
   "id": "0a0e6ccf",
   "metadata": {},
   "source": [
    "## Model"
   ]
  },
  {
   "cell_type": "code",
   "execution_count": 24,
   "id": "110fbf19",
   "metadata": {},
   "outputs": [
    {
     "name": "stderr",
     "output_type": "stream",
     "text": [
      "Downloading: \"https://download.pytorch.org/models/resnet101-cd907fc2.pth\" to /data/ephemeral/home/.cache/torch/hub/checkpoints/resnet101-cd907fc2.pth\n",
      "100%|██████████| 171M/171M [00:01<00:00, 117MB/s] \n"
     ]
    },
    {
     "name": "stdout",
     "output_type": "stream",
     "text": [
      "ResNet(\n",
      "  (conv1): Conv2d(3, 64, kernel_size=(7, 7), stride=(2, 2), padding=(3, 3), bias=False)\n",
      "  (bn1): BatchNorm2d(64, eps=1e-05, momentum=0.1, affine=True, track_running_stats=True)\n",
      "  (relu): ReLU(inplace=True)\n",
      "  (maxpool): MaxPool2d(kernel_size=3, stride=2, padding=1, dilation=1, ceil_mode=False)\n",
      "  (layer1): Sequential(\n",
      "    (0): Bottleneck(\n",
      "      (conv1): Conv2d(64, 64, kernel_size=(1, 1), stride=(1, 1), bias=False)\n",
      "      (bn1): BatchNorm2d(64, eps=1e-05, momentum=0.1, affine=True, track_running_stats=True)\n",
      "      (conv2): Conv2d(64, 64, kernel_size=(3, 3), stride=(1, 1), padding=(1, 1), bias=False)\n",
      "      (bn2): BatchNorm2d(64, eps=1e-05, momentum=0.1, affine=True, track_running_stats=True)\n",
      "      (conv3): Conv2d(64, 256, kernel_size=(1, 1), stride=(1, 1), bias=False)\n",
      "      (bn3): BatchNorm2d(256, eps=1e-05, momentum=0.1, affine=True, track_running_stats=True)\n",
      "      (relu): ReLU(inplace=True)\n",
      "      (downsample): Sequential(\n",
      "        (0): Conv2d(64, 256, kernel_size=(1, 1), stride=(1, 1), bias=False)\n",
      "        (1): BatchNorm2d(256, eps=1e-05, momentum=0.1, affine=True, track_running_stats=True)\n",
      "      )\n",
      "    )\n",
      "    (1): Bottleneck(\n",
      "      (conv1): Conv2d(256, 64, kernel_size=(1, 1), stride=(1, 1), bias=False)\n",
      "      (bn1): BatchNorm2d(64, eps=1e-05, momentum=0.1, affine=True, track_running_stats=True)\n",
      "      (conv2): Conv2d(64, 64, kernel_size=(3, 3), stride=(1, 1), padding=(1, 1), bias=False)\n",
      "      (bn2): BatchNorm2d(64, eps=1e-05, momentum=0.1, affine=True, track_running_stats=True)\n",
      "      (conv3): Conv2d(64, 256, kernel_size=(1, 1), stride=(1, 1), bias=False)\n",
      "      (bn3): BatchNorm2d(256, eps=1e-05, momentum=0.1, affine=True, track_running_stats=True)\n",
      "      (relu): ReLU(inplace=True)\n",
      "    )\n",
      "    (2): Bottleneck(\n",
      "      (conv1): Conv2d(256, 64, kernel_size=(1, 1), stride=(1, 1), bias=False)\n",
      "      (bn1): BatchNorm2d(64, eps=1e-05, momentum=0.1, affine=True, track_running_stats=True)\n",
      "      (conv2): Conv2d(64, 64, kernel_size=(3, 3), stride=(1, 1), padding=(1, 1), bias=False)\n",
      "      (bn2): BatchNorm2d(64, eps=1e-05, momentum=0.1, affine=True, track_running_stats=True)\n",
      "      (conv3): Conv2d(64, 256, kernel_size=(1, 1), stride=(1, 1), bias=False)\n",
      "      (bn3): BatchNorm2d(256, eps=1e-05, momentum=0.1, affine=True, track_running_stats=True)\n",
      "      (relu): ReLU(inplace=True)\n",
      "    )\n",
      "  )\n",
      "  (layer2): Sequential(\n",
      "    (0): Bottleneck(\n",
      "      (conv1): Conv2d(256, 128, kernel_size=(1, 1), stride=(1, 1), bias=False)\n",
      "      (bn1): BatchNorm2d(128, eps=1e-05, momentum=0.1, affine=True, track_running_stats=True)\n",
      "      (conv2): Conv2d(128, 128, kernel_size=(3, 3), stride=(2, 2), padding=(1, 1), bias=False)\n",
      "      (bn2): BatchNorm2d(128, eps=1e-05, momentum=0.1, affine=True, track_running_stats=True)\n",
      "      (conv3): Conv2d(128, 512, kernel_size=(1, 1), stride=(1, 1), bias=False)\n",
      "      (bn3): BatchNorm2d(512, eps=1e-05, momentum=0.1, affine=True, track_running_stats=True)\n",
      "      (relu): ReLU(inplace=True)\n",
      "      (downsample): Sequential(\n",
      "        (0): Conv2d(256, 512, kernel_size=(1, 1), stride=(2, 2), bias=False)\n",
      "        (1): BatchNorm2d(512, eps=1e-05, momentum=0.1, affine=True, track_running_stats=True)\n",
      "      )\n",
      "    )\n",
      "    (1): Bottleneck(\n",
      "      (conv1): Conv2d(512, 128, kernel_size=(1, 1), stride=(1, 1), bias=False)\n",
      "      (bn1): BatchNorm2d(128, eps=1e-05, momentum=0.1, affine=True, track_running_stats=True)\n",
      "      (conv2): Conv2d(128, 128, kernel_size=(3, 3), stride=(1, 1), padding=(1, 1), bias=False)\n",
      "      (bn2): BatchNorm2d(128, eps=1e-05, momentum=0.1, affine=True, track_running_stats=True)\n",
      "      (conv3): Conv2d(128, 512, kernel_size=(1, 1), stride=(1, 1), bias=False)\n",
      "      (bn3): BatchNorm2d(512, eps=1e-05, momentum=0.1, affine=True, track_running_stats=True)\n",
      "      (relu): ReLU(inplace=True)\n",
      "    )\n",
      "    (2): Bottleneck(\n",
      "      (conv1): Conv2d(512, 128, kernel_size=(1, 1), stride=(1, 1), bias=False)\n",
      "      (bn1): BatchNorm2d(128, eps=1e-05, momentum=0.1, affine=True, track_running_stats=True)\n",
      "      (conv2): Conv2d(128, 128, kernel_size=(3, 3), stride=(1, 1), padding=(1, 1), bias=False)\n",
      "      (bn2): BatchNorm2d(128, eps=1e-05, momentum=0.1, affine=True, track_running_stats=True)\n",
      "      (conv3): Conv2d(128, 512, kernel_size=(1, 1), stride=(1, 1), bias=False)\n",
      "      (bn3): BatchNorm2d(512, eps=1e-05, momentum=0.1, affine=True, track_running_stats=True)\n",
      "      (relu): ReLU(inplace=True)\n",
      "    )\n",
      "    (3): Bottleneck(\n",
      "      (conv1): Conv2d(512, 128, kernel_size=(1, 1), stride=(1, 1), bias=False)\n",
      "      (bn1): BatchNorm2d(128, eps=1e-05, momentum=0.1, affine=True, track_running_stats=True)\n",
      "      (conv2): Conv2d(128, 128, kernel_size=(3, 3), stride=(1, 1), padding=(1, 1), bias=False)\n",
      "      (bn2): BatchNorm2d(128, eps=1e-05, momentum=0.1, affine=True, track_running_stats=True)\n",
      "      (conv3): Conv2d(128, 512, kernel_size=(1, 1), stride=(1, 1), bias=False)\n",
      "      (bn3): BatchNorm2d(512, eps=1e-05, momentum=0.1, affine=True, track_running_stats=True)\n",
      "      (relu): ReLU(inplace=True)\n",
      "    )\n",
      "  )\n",
      "  (layer3): Sequential(\n",
      "    (0): Bottleneck(\n",
      "      (conv1): Conv2d(512, 256, kernel_size=(1, 1), stride=(1, 1), bias=False)\n",
      "      (bn1): BatchNorm2d(256, eps=1e-05, momentum=0.1, affine=True, track_running_stats=True)\n",
      "      (conv2): Conv2d(256, 256, kernel_size=(3, 3), stride=(2, 2), padding=(1, 1), bias=False)\n",
      "      (bn2): BatchNorm2d(256, eps=1e-05, momentum=0.1, affine=True, track_running_stats=True)\n",
      "      (conv3): Conv2d(256, 1024, kernel_size=(1, 1), stride=(1, 1), bias=False)\n",
      "      (bn3): BatchNorm2d(1024, eps=1e-05, momentum=0.1, affine=True, track_running_stats=True)\n",
      "      (relu): ReLU(inplace=True)\n",
      "      (downsample): Sequential(\n",
      "        (0): Conv2d(512, 1024, kernel_size=(1, 1), stride=(2, 2), bias=False)\n",
      "        (1): BatchNorm2d(1024, eps=1e-05, momentum=0.1, affine=True, track_running_stats=True)\n",
      "      )\n",
      "    )\n",
      "    (1): Bottleneck(\n",
      "      (conv1): Conv2d(1024, 256, kernel_size=(1, 1), stride=(1, 1), bias=False)\n",
      "      (bn1): BatchNorm2d(256, eps=1e-05, momentum=0.1, affine=True, track_running_stats=True)\n",
      "      (conv2): Conv2d(256, 256, kernel_size=(3, 3), stride=(1, 1), padding=(1, 1), bias=False)\n",
      "      (bn2): BatchNorm2d(256, eps=1e-05, momentum=0.1, affine=True, track_running_stats=True)\n",
      "      (conv3): Conv2d(256, 1024, kernel_size=(1, 1), stride=(1, 1), bias=False)\n",
      "      (bn3): BatchNorm2d(1024, eps=1e-05, momentum=0.1, affine=True, track_running_stats=True)\n",
      "      (relu): ReLU(inplace=True)\n",
      "    )\n",
      "    (2): Bottleneck(\n",
      "      (conv1): Conv2d(1024, 256, kernel_size=(1, 1), stride=(1, 1), bias=False)\n",
      "      (bn1): BatchNorm2d(256, eps=1e-05, momentum=0.1, affine=True, track_running_stats=True)\n",
      "      (conv2): Conv2d(256, 256, kernel_size=(3, 3), stride=(1, 1), padding=(1, 1), bias=False)\n",
      "      (bn2): BatchNorm2d(256, eps=1e-05, momentum=0.1, affine=True, track_running_stats=True)\n",
      "      (conv3): Conv2d(256, 1024, kernel_size=(1, 1), stride=(1, 1), bias=False)\n",
      "      (bn3): BatchNorm2d(1024, eps=1e-05, momentum=0.1, affine=True, track_running_stats=True)\n",
      "      (relu): ReLU(inplace=True)\n",
      "    )\n",
      "    (3): Bottleneck(\n",
      "      (conv1): Conv2d(1024, 256, kernel_size=(1, 1), stride=(1, 1), bias=False)\n",
      "      (bn1): BatchNorm2d(256, eps=1e-05, momentum=0.1, affine=True, track_running_stats=True)\n",
      "      (conv2): Conv2d(256, 256, kernel_size=(3, 3), stride=(1, 1), padding=(1, 1), bias=False)\n",
      "      (bn2): BatchNorm2d(256, eps=1e-05, momentum=0.1, affine=True, track_running_stats=True)\n",
      "      (conv3): Conv2d(256, 1024, kernel_size=(1, 1), stride=(1, 1), bias=False)\n",
      "      (bn3): BatchNorm2d(1024, eps=1e-05, momentum=0.1, affine=True, track_running_stats=True)\n",
      "      (relu): ReLU(inplace=True)\n",
      "    )\n",
      "    (4): Bottleneck(\n",
      "      (conv1): Conv2d(1024, 256, kernel_size=(1, 1), stride=(1, 1), bias=False)\n",
      "      (bn1): BatchNorm2d(256, eps=1e-05, momentum=0.1, affine=True, track_running_stats=True)\n",
      "      (conv2): Conv2d(256, 256, kernel_size=(3, 3), stride=(1, 1), padding=(1, 1), bias=False)\n",
      "      (bn2): BatchNorm2d(256, eps=1e-05, momentum=0.1, affine=True, track_running_stats=True)\n",
      "      (conv3): Conv2d(256, 1024, kernel_size=(1, 1), stride=(1, 1), bias=False)\n",
      "      (bn3): BatchNorm2d(1024, eps=1e-05, momentum=0.1, affine=True, track_running_stats=True)\n",
      "      (relu): ReLU(inplace=True)\n",
      "    )\n",
      "    (5): Bottleneck(\n",
      "      (conv1): Conv2d(1024, 256, kernel_size=(1, 1), stride=(1, 1), bias=False)\n",
      "      (bn1): BatchNorm2d(256, eps=1e-05, momentum=0.1, affine=True, track_running_stats=True)\n",
      "      (conv2): Conv2d(256, 256, kernel_size=(3, 3), stride=(1, 1), padding=(1, 1), bias=False)\n",
      "      (bn2): BatchNorm2d(256, eps=1e-05, momentum=0.1, affine=True, track_running_stats=True)\n",
      "      (conv3): Conv2d(256, 1024, kernel_size=(1, 1), stride=(1, 1), bias=False)\n",
      "      (bn3): BatchNorm2d(1024, eps=1e-05, momentum=0.1, affine=True, track_running_stats=True)\n",
      "      (relu): ReLU(inplace=True)\n",
      "    )\n",
      "    (6): Bottleneck(\n",
      "      (conv1): Conv2d(1024, 256, kernel_size=(1, 1), stride=(1, 1), bias=False)\n",
      "      (bn1): BatchNorm2d(256, eps=1e-05, momentum=0.1, affine=True, track_running_stats=True)\n",
      "      (conv2): Conv2d(256, 256, kernel_size=(3, 3), stride=(1, 1), padding=(1, 1), bias=False)\n",
      "      (bn2): BatchNorm2d(256, eps=1e-05, momentum=0.1, affine=True, track_running_stats=True)\n",
      "      (conv3): Conv2d(256, 1024, kernel_size=(1, 1), stride=(1, 1), bias=False)\n",
      "      (bn3): BatchNorm2d(1024, eps=1e-05, momentum=0.1, affine=True, track_running_stats=True)\n",
      "      (relu): ReLU(inplace=True)\n",
      "    )\n",
      "    (7): Bottleneck(\n",
      "      (conv1): Conv2d(1024, 256, kernel_size=(1, 1), stride=(1, 1), bias=False)\n",
      "      (bn1): BatchNorm2d(256, eps=1e-05, momentum=0.1, affine=True, track_running_stats=True)\n",
      "      (conv2): Conv2d(256, 256, kernel_size=(3, 3), stride=(1, 1), padding=(1, 1), bias=False)\n",
      "      (bn2): BatchNorm2d(256, eps=1e-05, momentum=0.1, affine=True, track_running_stats=True)\n",
      "      (conv3): Conv2d(256, 1024, kernel_size=(1, 1), stride=(1, 1), bias=False)\n",
      "      (bn3): BatchNorm2d(1024, eps=1e-05, momentum=0.1, affine=True, track_running_stats=True)\n",
      "      (relu): ReLU(inplace=True)\n",
      "    )\n",
      "    (8): Bottleneck(\n",
      "      (conv1): Conv2d(1024, 256, kernel_size=(1, 1), stride=(1, 1), bias=False)\n",
      "      (bn1): BatchNorm2d(256, eps=1e-05, momentum=0.1, affine=True, track_running_stats=True)\n",
      "      (conv2): Conv2d(256, 256, kernel_size=(3, 3), stride=(1, 1), padding=(1, 1), bias=False)\n",
      "      (bn2): BatchNorm2d(256, eps=1e-05, momentum=0.1, affine=True, track_running_stats=True)\n",
      "      (conv3): Conv2d(256, 1024, kernel_size=(1, 1), stride=(1, 1), bias=False)\n",
      "      (bn3): BatchNorm2d(1024, eps=1e-05, momentum=0.1, affine=True, track_running_stats=True)\n",
      "      (relu): ReLU(inplace=True)\n",
      "    )\n",
      "    (9): Bottleneck(\n",
      "      (conv1): Conv2d(1024, 256, kernel_size=(1, 1), stride=(1, 1), bias=False)\n",
      "      (bn1): BatchNorm2d(256, eps=1e-05, momentum=0.1, affine=True, track_running_stats=True)\n",
      "      (conv2): Conv2d(256, 256, kernel_size=(3, 3), stride=(1, 1), padding=(1, 1), bias=False)\n",
      "      (bn2): BatchNorm2d(256, eps=1e-05, momentum=0.1, affine=True, track_running_stats=True)\n",
      "      (conv3): Conv2d(256, 1024, kernel_size=(1, 1), stride=(1, 1), bias=False)\n",
      "      (bn3): BatchNorm2d(1024, eps=1e-05, momentum=0.1, affine=True, track_running_stats=True)\n",
      "      (relu): ReLU(inplace=True)\n",
      "    )\n",
      "    (10): Bottleneck(\n",
      "      (conv1): Conv2d(1024, 256, kernel_size=(1, 1), stride=(1, 1), bias=False)\n",
      "      (bn1): BatchNorm2d(256, eps=1e-05, momentum=0.1, affine=True, track_running_stats=True)\n",
      "      (conv2): Conv2d(256, 256, kernel_size=(3, 3), stride=(1, 1), padding=(1, 1), bias=False)\n",
      "      (bn2): BatchNorm2d(256, eps=1e-05, momentum=0.1, affine=True, track_running_stats=True)\n",
      "      (conv3): Conv2d(256, 1024, kernel_size=(1, 1), stride=(1, 1), bias=False)\n",
      "      (bn3): BatchNorm2d(1024, eps=1e-05, momentum=0.1, affine=True, track_running_stats=True)\n",
      "      (relu): ReLU(inplace=True)\n",
      "    )\n",
      "    (11): Bottleneck(\n",
      "      (conv1): Conv2d(1024, 256, kernel_size=(1, 1), stride=(1, 1), bias=False)\n",
      "      (bn1): BatchNorm2d(256, eps=1e-05, momentum=0.1, affine=True, track_running_stats=True)\n",
      "      (conv2): Conv2d(256, 256, kernel_size=(3, 3), stride=(1, 1), padding=(1, 1), bias=False)\n",
      "      (bn2): BatchNorm2d(256, eps=1e-05, momentum=0.1, affine=True, track_running_stats=True)\n",
      "      (conv3): Conv2d(256, 1024, kernel_size=(1, 1), stride=(1, 1), bias=False)\n",
      "      (bn3): BatchNorm2d(1024, eps=1e-05, momentum=0.1, affine=True, track_running_stats=True)\n",
      "      (relu): ReLU(inplace=True)\n",
      "    )\n",
      "    (12): Bottleneck(\n",
      "      (conv1): Conv2d(1024, 256, kernel_size=(1, 1), stride=(1, 1), bias=False)\n",
      "      (bn1): BatchNorm2d(256, eps=1e-05, momentum=0.1, affine=True, track_running_stats=True)\n",
      "      (conv2): Conv2d(256, 256, kernel_size=(3, 3), stride=(1, 1), padding=(1, 1), bias=False)\n",
      "      (bn2): BatchNorm2d(256, eps=1e-05, momentum=0.1, affine=True, track_running_stats=True)\n",
      "      (conv3): Conv2d(256, 1024, kernel_size=(1, 1), stride=(1, 1), bias=False)\n",
      "      (bn3): BatchNorm2d(1024, eps=1e-05, momentum=0.1, affine=True, track_running_stats=True)\n",
      "      (relu): ReLU(inplace=True)\n",
      "    )\n",
      "    (13): Bottleneck(\n",
      "      (conv1): Conv2d(1024, 256, kernel_size=(1, 1), stride=(1, 1), bias=False)\n",
      "      (bn1): BatchNorm2d(256, eps=1e-05, momentum=0.1, affine=True, track_running_stats=True)\n",
      "      (conv2): Conv2d(256, 256, kernel_size=(3, 3), stride=(1, 1), padding=(1, 1), bias=False)\n",
      "      (bn2): BatchNorm2d(256, eps=1e-05, momentum=0.1, affine=True, track_running_stats=True)\n",
      "      (conv3): Conv2d(256, 1024, kernel_size=(1, 1), stride=(1, 1), bias=False)\n",
      "      (bn3): BatchNorm2d(1024, eps=1e-05, momentum=0.1, affine=True, track_running_stats=True)\n",
      "      (relu): ReLU(inplace=True)\n",
      "    )\n",
      "    (14): Bottleneck(\n",
      "      (conv1): Conv2d(1024, 256, kernel_size=(1, 1), stride=(1, 1), bias=False)\n",
      "      (bn1): BatchNorm2d(256, eps=1e-05, momentum=0.1, affine=True, track_running_stats=True)\n",
      "      (conv2): Conv2d(256, 256, kernel_size=(3, 3), stride=(1, 1), padding=(1, 1), bias=False)\n",
      "      (bn2): BatchNorm2d(256, eps=1e-05, momentum=0.1, affine=True, track_running_stats=True)\n",
      "      (conv3): Conv2d(256, 1024, kernel_size=(1, 1), stride=(1, 1), bias=False)\n",
      "      (bn3): BatchNorm2d(1024, eps=1e-05, momentum=0.1, affine=True, track_running_stats=True)\n",
      "      (relu): ReLU(inplace=True)\n",
      "    )\n",
      "    (15): Bottleneck(\n",
      "      (conv1): Conv2d(1024, 256, kernel_size=(1, 1), stride=(1, 1), bias=False)\n",
      "      (bn1): BatchNorm2d(256, eps=1e-05, momentum=0.1, affine=True, track_running_stats=True)\n",
      "      (conv2): Conv2d(256, 256, kernel_size=(3, 3), stride=(1, 1), padding=(1, 1), bias=False)\n",
      "      (bn2): BatchNorm2d(256, eps=1e-05, momentum=0.1, affine=True, track_running_stats=True)\n",
      "      (conv3): Conv2d(256, 1024, kernel_size=(1, 1), stride=(1, 1), bias=False)\n",
      "      (bn3): BatchNorm2d(1024, eps=1e-05, momentum=0.1, affine=True, track_running_stats=True)\n",
      "      (relu): ReLU(inplace=True)\n",
      "    )\n",
      "    (16): Bottleneck(\n",
      "      (conv1): Conv2d(1024, 256, kernel_size=(1, 1), stride=(1, 1), bias=False)\n",
      "      (bn1): BatchNorm2d(256, eps=1e-05, momentum=0.1, affine=True, track_running_stats=True)\n",
      "      (conv2): Conv2d(256, 256, kernel_size=(3, 3), stride=(1, 1), padding=(1, 1), bias=False)\n",
      "      (bn2): BatchNorm2d(256, eps=1e-05, momentum=0.1, affine=True, track_running_stats=True)\n",
      "      (conv3): Conv2d(256, 1024, kernel_size=(1, 1), stride=(1, 1), bias=False)\n",
      "      (bn3): BatchNorm2d(1024, eps=1e-05, momentum=0.1, affine=True, track_running_stats=True)\n",
      "      (relu): ReLU(inplace=True)\n",
      "    )\n",
      "    (17): Bottleneck(\n",
      "      (conv1): Conv2d(1024, 256, kernel_size=(1, 1), stride=(1, 1), bias=False)\n",
      "      (bn1): BatchNorm2d(256, eps=1e-05, momentum=0.1, affine=True, track_running_stats=True)\n",
      "      (conv2): Conv2d(256, 256, kernel_size=(3, 3), stride=(1, 1), padding=(1, 1), bias=False)\n",
      "      (bn2): BatchNorm2d(256, eps=1e-05, momentum=0.1, affine=True, track_running_stats=True)\n",
      "      (conv3): Conv2d(256, 1024, kernel_size=(1, 1), stride=(1, 1), bias=False)\n",
      "      (bn3): BatchNorm2d(1024, eps=1e-05, momentum=0.1, affine=True, track_running_stats=True)\n",
      "      (relu): ReLU(inplace=True)\n",
      "    )\n",
      "    (18): Bottleneck(\n",
      "      (conv1): Conv2d(1024, 256, kernel_size=(1, 1), stride=(1, 1), bias=False)\n",
      "      (bn1): BatchNorm2d(256, eps=1e-05, momentum=0.1, affine=True, track_running_stats=True)\n",
      "      (conv2): Conv2d(256, 256, kernel_size=(3, 3), stride=(1, 1), padding=(1, 1), bias=False)\n",
      "      (bn2): BatchNorm2d(256, eps=1e-05, momentum=0.1, affine=True, track_running_stats=True)\n",
      "      (conv3): Conv2d(256, 1024, kernel_size=(1, 1), stride=(1, 1), bias=False)\n",
      "      (bn3): BatchNorm2d(1024, eps=1e-05, momentum=0.1, affine=True, track_running_stats=True)\n",
      "      (relu): ReLU(inplace=True)\n",
      "    )\n",
      "    (19): Bottleneck(\n",
      "      (conv1): Conv2d(1024, 256, kernel_size=(1, 1), stride=(1, 1), bias=False)\n",
      "      (bn1): BatchNorm2d(256, eps=1e-05, momentum=0.1, affine=True, track_running_stats=True)\n",
      "      (conv2): Conv2d(256, 256, kernel_size=(3, 3), stride=(1, 1), padding=(1, 1), bias=False)\n",
      "      (bn2): BatchNorm2d(256, eps=1e-05, momentum=0.1, affine=True, track_running_stats=True)\n",
      "      (conv3): Conv2d(256, 1024, kernel_size=(1, 1), stride=(1, 1), bias=False)\n",
      "      (bn3): BatchNorm2d(1024, eps=1e-05, momentum=0.1, affine=True, track_running_stats=True)\n",
      "      (relu): ReLU(inplace=True)\n",
      "    )\n",
      "    (20): Bottleneck(\n",
      "      (conv1): Conv2d(1024, 256, kernel_size=(1, 1), stride=(1, 1), bias=False)\n",
      "      (bn1): BatchNorm2d(256, eps=1e-05, momentum=0.1, affine=True, track_running_stats=True)\n",
      "      (conv2): Conv2d(256, 256, kernel_size=(3, 3), stride=(1, 1), padding=(1, 1), bias=False)\n",
      "      (bn2): BatchNorm2d(256, eps=1e-05, momentum=0.1, affine=True, track_running_stats=True)\n",
      "      (conv3): Conv2d(256, 1024, kernel_size=(1, 1), stride=(1, 1), bias=False)\n",
      "      (bn3): BatchNorm2d(1024, eps=1e-05, momentum=0.1, affine=True, track_running_stats=True)\n",
      "      (relu): ReLU(inplace=True)\n",
      "    )\n",
      "    (21): Bottleneck(\n",
      "      (conv1): Conv2d(1024, 256, kernel_size=(1, 1), stride=(1, 1), bias=False)\n",
      "      (bn1): BatchNorm2d(256, eps=1e-05, momentum=0.1, affine=True, track_running_stats=True)\n",
      "      (conv2): Conv2d(256, 256, kernel_size=(3, 3), stride=(1, 1), padding=(1, 1), bias=False)\n",
      "      (bn2): BatchNorm2d(256, eps=1e-05, momentum=0.1, affine=True, track_running_stats=True)\n",
      "      (conv3): Conv2d(256, 1024, kernel_size=(1, 1), stride=(1, 1), bias=False)\n",
      "      (bn3): BatchNorm2d(1024, eps=1e-05, momentum=0.1, affine=True, track_running_stats=True)\n",
      "      (relu): ReLU(inplace=True)\n",
      "    )\n",
      "    (22): Bottleneck(\n",
      "      (conv1): Conv2d(1024, 256, kernel_size=(1, 1), stride=(1, 1), bias=False)\n",
      "      (bn1): BatchNorm2d(256, eps=1e-05, momentum=0.1, affine=True, track_running_stats=True)\n",
      "      (conv2): Conv2d(256, 256, kernel_size=(3, 3), stride=(1, 1), padding=(1, 1), bias=False)\n",
      "      (bn2): BatchNorm2d(256, eps=1e-05, momentum=0.1, affine=True, track_running_stats=True)\n",
      "      (conv3): Conv2d(256, 1024, kernel_size=(1, 1), stride=(1, 1), bias=False)\n",
      "      (bn3): BatchNorm2d(1024, eps=1e-05, momentum=0.1, affine=True, track_running_stats=True)\n",
      "      (relu): ReLU(inplace=True)\n",
      "    )\n",
      "  )\n",
      "  (layer4): Sequential(\n",
      "    (0): Bottleneck(\n",
      "      (conv1): Conv2d(1024, 512, kernel_size=(1, 1), stride=(1, 1), bias=False)\n",
      "      (bn1): BatchNorm2d(512, eps=1e-05, momentum=0.1, affine=True, track_running_stats=True)\n",
      "      (conv2): Conv2d(512, 512, kernel_size=(3, 3), stride=(2, 2), padding=(1, 1), bias=False)\n",
      "      (bn2): BatchNorm2d(512, eps=1e-05, momentum=0.1, affine=True, track_running_stats=True)\n",
      "      (conv3): Conv2d(512, 2048, kernel_size=(1, 1), stride=(1, 1), bias=False)\n",
      "      (bn3): BatchNorm2d(2048, eps=1e-05, momentum=0.1, affine=True, track_running_stats=True)\n",
      "      (relu): ReLU(inplace=True)\n",
      "      (downsample): Sequential(\n",
      "        (0): Conv2d(1024, 2048, kernel_size=(1, 1), stride=(2, 2), bias=False)\n",
      "        (1): BatchNorm2d(2048, eps=1e-05, momentum=0.1, affine=True, track_running_stats=True)\n",
      "      )\n",
      "    )\n",
      "    (1): Bottleneck(\n",
      "      (conv1): Conv2d(2048, 512, kernel_size=(1, 1), stride=(1, 1), bias=False)\n",
      "      (bn1): BatchNorm2d(512, eps=1e-05, momentum=0.1, affine=True, track_running_stats=True)\n",
      "      (conv2): Conv2d(512, 512, kernel_size=(3, 3), stride=(1, 1), padding=(1, 1), bias=False)\n",
      "      (bn2): BatchNorm2d(512, eps=1e-05, momentum=0.1, affine=True, track_running_stats=True)\n",
      "      (conv3): Conv2d(512, 2048, kernel_size=(1, 1), stride=(1, 1), bias=False)\n",
      "      (bn3): BatchNorm2d(2048, eps=1e-05, momentum=0.1, affine=True, track_running_stats=True)\n",
      "      (relu): ReLU(inplace=True)\n",
      "    )\n",
      "    (2): Bottleneck(\n",
      "      (conv1): Conv2d(2048, 512, kernel_size=(1, 1), stride=(1, 1), bias=False)\n",
      "      (bn1): BatchNorm2d(512, eps=1e-05, momentum=0.1, affine=True, track_running_stats=True)\n",
      "      (conv2): Conv2d(512, 512, kernel_size=(3, 3), stride=(1, 1), padding=(1, 1), bias=False)\n",
      "      (bn2): BatchNorm2d(512, eps=1e-05, momentum=0.1, affine=True, track_running_stats=True)\n",
      "      (conv3): Conv2d(512, 2048, kernel_size=(1, 1), stride=(1, 1), bias=False)\n",
      "      (bn3): BatchNorm2d(2048, eps=1e-05, momentum=0.1, affine=True, track_running_stats=True)\n",
      "      (relu): ReLU(inplace=True)\n",
      "    )\n",
      "  )\n",
      "  (avgpool): AdaptiveAvgPool2d(output_size=(1, 1))\n",
      "  (fc): Linear(in_features=2048, out_features=45, bias=True)\n",
      ")\n"
     ]
    }
   ],
   "source": [
    "# pretrained weights enum 가져오기\n",
    "weights_enum = weights_mapping.get(CFS['model_name'], None)\n",
    "weights = weights_enum.DEFAULT if weights_enum is not None else None\n",
    "\n",
    "# 모델 함수 가져오기\n",
    "model_fn = getattr(tv_models, CFS['model_name'], None)\n",
    "\n",
    "if model_fn is not None:\n",
    "    model = model_fn(weights=weights)\n",
    "    \n",
    "    # 마지막 레이어 교체\n",
    "    if CFS['model_name'].startswith('resnet'):\n",
    "        model.fc = torch.nn.Linear(model.fc.in_features, CFS['num_classes'])\n",
    "        model.to(device)\n",
    "    elif CFS['model_name'].startswith('efficientnet'):\n",
    "        # EfficientNet 계열의 구조는 버전에 따라 다를 수 있음\n",
    "        if isinstance(model.classifier, torch.nn.Sequential):\n",
    "            model.classifier[1] = torch.nn.Linear(model.classifier[1].in_features, CFS['num_classes'])\n",
    "            model.to(device)\n",
    "        else:\n",
    "            # 혹시 Sequential이 아니면 직접 구조를 확인 후 수정\n",
    "            print(model.classifier)\n",
    "else:\n",
    "    raise ValueError(f\"지원하지 않는 모델명: {CFS['model_name']}\")\n",
    "print(model)"
   ]
  },
  {
   "cell_type": "markdown",
   "id": "1e84989b",
   "metadata": {},
   "source": [
    "## Train"
   ]
  },
  {
   "cell_type": "code",
   "execution_count": null,
   "id": "ec00e112",
   "metadata": {},
   "outputs": [
    {
     "name": "stdout",
     "output_type": "stream",
     "text": [
      "training model: resnet101\n",
      "--------------------------------------------------\n"
     ]
    },
    {
     "name": "stderr",
     "output_type": "stream",
     "text": [
      "Epoch 1/20: 100%|██████████| 217/217 [06:56<00:00,  1.92s/it]\n",
      "Validation 1/20: 100%|██████████| 55/55 [01:43<00:00,  1.89s/it]\n"
     ]
    },
    {
     "name": "stdout",
     "output_type": "stream",
     "text": [
      "Epoch 1 | Train Loss: 2.9161 | Val Loss: 2.1700 | Valid Accuracy : 41.4887% | F1 Score: 0.0363 | Precision: 0.0691 | Recall: 0.0408 | \n"
     ]
    },
    {
     "name": "stderr",
     "output_type": "stream",
     "text": [
      "Epoch 2/20: 100%|██████████| 217/217 [06:57<00:00,  1.93s/it]\n",
      "Validation 2/20: 100%|██████████| 55/55 [01:43<00:00,  1.89s/it]\n"
     ]
    },
    {
     "name": "stdout",
     "output_type": "stream",
     "text": [
      "Epoch 2 | Train Loss: 1.8912 | Val Loss: 1.7692 | Valid Accuracy : 51.1252% | F1 Score: 0.0953 | Precision: 0.1253 | Recall: 0.1044 | \n"
     ]
    },
    {
     "name": "stderr",
     "output_type": "stream",
     "text": [
      "Epoch 3/20: 100%|██████████| 217/217 [06:57<00:00,  1.93s/it]\n",
      "Validation 3/20: 100%|██████████| 55/55 [01:43<00:00,  1.89s/it]\n"
     ]
    },
    {
     "name": "stdout",
     "output_type": "stream",
     "text": [
      "Epoch 3 | Train Loss: 1.5487 | Val Loss: 1.9063 | Valid Accuracy : 56.1454% | F1 Score: 0.1846 | Precision: 0.2145 | Recall: 0.1899 | \n"
     ]
    },
    {
     "name": "stderr",
     "output_type": "stream",
     "text": [
      "Epoch 4/20: 100%|██████████| 217/217 [06:57<00:00,  1.92s/it]\n",
      "Validation 4/20: 100%|██████████| 55/55 [01:43<00:00,  1.89s/it]\n"
     ]
    },
    {
     "name": "stdout",
     "output_type": "stream",
     "text": [
      "Epoch 4 | Train Loss: 1.3516 | Val Loss: 1.3799 | Valid Accuracy : 59.0306% | F1 Score: 0.2880 | Precision: 0.3270 | Recall: 0.2893 | \n"
     ]
    },
    {
     "name": "stderr",
     "output_type": "stream",
     "text": [
      "Epoch 5/20: 100%|██████████| 217/217 [06:57<00:00,  1.92s/it]\n",
      "Validation 5/20: 100%|██████████| 55/55 [01:43<00:00,  1.89s/it]\n"
     ]
    },
    {
     "name": "stdout",
     "output_type": "stream",
     "text": [
      "Epoch 5 | Train Loss: 1.2107 | Val Loss: 1.3064 | Valid Accuracy : 60.9348% | F1 Score: 0.3178 | Precision: 0.3588 | Recall: 0.3216 | \n"
     ]
    },
    {
     "name": "stderr",
     "output_type": "stream",
     "text": [
      "Epoch 6/20: 100%|██████████| 217/217 [06:56<00:00,  1.92s/it]\n",
      "Validation 6/20: 100%|██████████| 55/55 [01:43<00:00,  1.88s/it]\n"
     ]
    },
    {
     "name": "stdout",
     "output_type": "stream",
     "text": [
      "Epoch 6 | Train Loss: 1.0785 | Val Loss: 1.1933 | Valid Accuracy : 62.3774% | F1 Score: 0.3811 | Precision: 0.4059 | Recall: 0.3903 | \n"
     ]
    },
    {
     "name": "stderr",
     "output_type": "stream",
     "text": [
      "Epoch 7/20: 100%|██████████| 217/217 [06:55<00:00,  1.91s/it]\n",
      "Validation 7/20: 100%|██████████| 55/55 [01:43<00:00,  1.88s/it]\n"
     ]
    },
    {
     "name": "stdout",
     "output_type": "stream",
     "text": [
      "Epoch 7 | Train Loss: 0.9733 | Val Loss: 1.5216 | Valid Accuracy : 62.7813% | F1 Score: 0.4321 | Precision: 0.4581 | Recall: 0.4316 | \n"
     ]
    },
    {
     "name": "stderr",
     "output_type": "stream",
     "text": [
      "Epoch 8/20: 100%|██████████| 217/217 [06:55<00:00,  1.92s/it]\n",
      "Validation 8/20: 100%|██████████| 55/55 [01:43<00:00,  1.88s/it]\n"
     ]
    },
    {
     "name": "stdout",
     "output_type": "stream",
     "text": [
      "Epoch 8 | Train Loss: 0.8611 | Val Loss: 1.5237 | Valid Accuracy : 64.4547% | F1 Score: 0.5194 | Precision: 0.5748 | Recall: 0.5132 | \n"
     ]
    },
    {
     "name": "stderr",
     "output_type": "stream",
     "text": [
      "Epoch 9/20: 100%|██████████| 217/217 [06:57<00:00,  1.92s/it]\n",
      "Validation 9/20: 100%|██████████| 55/55 [01:43<00:00,  1.89s/it]\n"
     ]
    },
    {
     "name": "stdout",
     "output_type": "stream",
     "text": [
      "Epoch 9 | Train Loss: 0.7682 | Val Loss: 1.8938 | Valid Accuracy : 63.9354% | F1 Score: 0.5269 | Precision: 0.5576 | Recall: 0.5198 | \n"
     ]
    },
    {
     "name": "stderr",
     "output_type": "stream",
     "text": [
      "Epoch 10/20: 100%|██████████| 217/217 [06:58<00:00,  1.93s/it]\n",
      "Validation 10/20: 100%|██████████| 55/55 [01:43<00:00,  1.89s/it]\n"
     ]
    },
    {
     "name": "stdout",
     "output_type": "stream",
     "text": [
      "Epoch 10 | Train Loss: 0.6775 | Val Loss: 1.2532 | Valid Accuracy : 65.3780% | F1 Score: 0.5977 | Precision: 0.6242 | Recall: 0.5947 | \n"
     ]
    },
    {
     "name": "stderr",
     "output_type": "stream",
     "text": [
      "Epoch 11/20: 100%|██████████| 217/217 [06:55<00:00,  1.92s/it]\n",
      "Validation 11/20: 100%|██████████| 55/55 [01:43<00:00,  1.88s/it]\n"
     ]
    },
    {
     "name": "stdout",
     "output_type": "stream",
     "text": [
      "Epoch 11 | Train Loss: 0.5798 | Val Loss: 1.3191 | Valid Accuracy : 66.3589% | F1 Score: 0.6168 | Precision: 0.6874 | Recall: 0.6037 | \n"
     ]
    },
    {
     "name": "stderr",
     "output_type": "stream",
     "text": [
      "Epoch 12/20: 100%|██████████| 217/217 [06:57<00:00,  1.92s/it]\n",
      "Validation 12/20: 100%|██████████| 55/55 [01:43<00:00,  1.89s/it]\n"
     ]
    },
    {
     "name": "stdout",
     "output_type": "stream",
     "text": [
      "Epoch 12 | Train Loss: 0.5076 | Val Loss: 1.2539 | Valid Accuracy : 65.7819% | F1 Score: 0.6612 | Precision: 0.7171 | Recall: 0.6420 | \n"
     ]
    },
    {
     "name": "stderr",
     "output_type": "stream",
     "text": [
      "Epoch 13/20:  59%|█████▉    | 128/217 [04:16<00:19,  4.46it/s]"
     ]
    }
   ],
   "source": [
    "print(f\"training model: {CFS['model_name']}\")\n",
    "print(\"-\" * 50)\n",
    "loss_fn = nn.CrossEntropyLoss()\n",
    "optimizer = Adam(model.parameters(), lr=CFS['LR'])\n",
    "\n",
    "train_losses = []\n",
    "val_losses = []\n",
    "\n",
    "for epoch in range(CFS['EPOCHS']):\n",
    "    model.train()\n",
    "    train_loss = 0.0\n",
    "    preds_list = []\n",
    "    targets_list = []\n",
    "    probs_list = []\n",
    "\n",
    "    for images, labels in tqdm(train_loader, desc=f\"Epoch {epoch+1}/{CFS['EPOCHS']}\"):\n",
    "        images = images.to(device)\n",
    "        labels = labels.to(device)\n",
    "\n",
    "        optimizer.zero_grad()\n",
    "        outputs = model(images)\n",
    "        loss = loss_fn(outputs, labels)\n",
    "        loss.backward()\n",
    "        optimizer.step()\n",
    "\n",
    "        train_loss += loss.item() * images.size(0)\n",
    "    train_loss /= len(train_loader.dataset)\n",
    "    train_losses.append(train_loss)\n",
    "\n",
    "    # Validation\n",
    "    model.eval()\n",
    "    val_loss = 0.0\n",
    "    correct = 0\n",
    "    total = 0\n",
    "\n",
    "    with torch.no_grad():\n",
    "        for images, labels in tqdm(val_loader, desc=f\"Validation {epoch+1}/{CFS['EPOCHS']}\"):\n",
    "            images = images.to(device)\n",
    "            labels = labels.to(device)\n",
    "\n",
    "            outputs = model(images)\n",
    "            loss = loss_fn(outputs, labels)\n",
    "            val_loss += loss.item() * images.size(0)\n",
    "            total += images.size(0)\n",
    "\n",
    "            preds = outputs.argmax(dim=1)\n",
    "            preds_list.extend(preds.detach().cpu().numpy())\n",
    "            targets_list.extend(labels.detach().cpu().numpy())\n",
    "\n",
    "            probs = outputs.softmax(dim=1)\n",
    "            probs_list.extend(probs.detach().cpu().numpy())\n",
    "\n",
    "            correct += (preds == labels).sum().item()\n",
    "        val_loss /= len(val_loader.dataset) \n",
    "        val_losses.append(val_loss)\n",
    "\n",
    "    # accuracy, F1, Precision, Recall\n",
    "    acc = accuracy_score(targets_list, preds_list)\n",
    "    f1 = f1_score(targets_list, preds_list, average='macro')\n",
    "    precision = precision_score(targets_list, preds_list, average='macro', zero_division=0)\n",
    "    recall = recall_score(targets_list, preds_list, average='macro', zero_division=0)\n",
    "\n",
    "    # ROC-AUC (다중 클래스)\n",
    "    # y_true를 one-hot으로 변환\n",
    "    target_binary_list = label_binarize(targets_list, classes=np.arange(CFS['num_classes']))\n",
    "    try:\n",
    "        roc_auc = roc_auc_score(np.array(target_binary_list), np.array(probs_list), average='macro', multi_class='ovr')\n",
    "    except ValueError:\n",
    "        roc_auc = np.nan  # 클래스가 하나만 있을 때 등 예외 처리\n",
    "    \n",
    "    # wandb에 로그 기록\n",
    "    wandb.log({\"train_loss\": train_loss, \"val_loss\": val_loss, \"val_acc\": acc*100, \"f1_score\": f1,\n",
    "        \"precision\": precision, \"recall\": recall, \"roc_auc\": roc_auc,\n",
    "    })\n",
    "\n",
    "    # 결과 출력\n",
    "    print(f\"Epoch {epoch+1} | \"\n",
    "        f\"Train Loss: {train_loss:.4f} | \"\n",
    "        f\"Val Loss: {val_loss:.4f} | \"\n",
    "        f\"Valid Accuracy : {acc * 100:.4f}% | \"\n",
    "        # f\"Correct: {correct}/{total} | \"\n",
    "        f\"F1 Score: {f1:.4f} | \"\n",
    "        f\"Precision: {precision:.4f} | \"\n",
    "        f\"Recall: {recall:.4f} | \")\n",
    "        # f\"ROC-AUC: {roc_auc:.4f}\")"
   ]
  },
  {
   "cell_type": "code",
   "execution_count": 6,
   "id": "19a10912",
   "metadata": {},
   "outputs": [],
   "source": [
    "torch.cuda.empty_cache()\n"
   ]
  },
  {
   "cell_type": "code",
   "execution_count": 5,
   "id": "d0225eaa",
   "metadata": {},
   "outputs": [
    {
     "ename": "NameError",
     "evalue": "name 'model' is not defined",
     "output_type": "error",
     "traceback": [
      "\u001b[0;31m---------------------------------------------------------------------------\u001b[0m",
      "\u001b[0;31mNameError\u001b[0m                                 Traceback (most recent call last)",
      "Cell \u001b[0;32mIn[5], line 1\u001b[0m\n\u001b[0;32m----> 1\u001b[0m \u001b[38;5;28;01mdel\u001b[39;00m model  \u001b[38;5;66;03m# 모델 학습 후 메모리 해제  \u001b[39;00m\n\u001b[1;32m      2\u001b[0m \u001b[38;5;28;01mdel\u001b[39;00m outputs, loss\n",
      "\u001b[0;31mNameError\u001b[0m: name 'model' is not defined"
     ]
    }
   ],
   "source": [
    "\n",
    "del model  # 모델 학습 후 메모리 해제  \n",
    "del outputs, loss  # 학습 후 즉시 삭제"
   ]
  },
  {
   "cell_type": "code",
   "execution_count": 14,
   "id": "c5ef9506",
   "metadata": {},
   "outputs": [
    {
     "name": "stdout",
     "output_type": "stream",
     "text": [
      "✅ Best model saved (LogLoss: 1.0757)\n"
     ]
    }
   ],
   "source": [
    "def save_model(model, optimizer, scheduler, epoch, best_logloss, no_improve, backbone_name):\n",
    "    \"\"\" Save the model state, optimizer state, and scheduler state.\"\"\"\n",
    "    torch.save({\n",
    "        'epoch': epoch,\n",
    "        'model_state': model.state_dict(),\n",
    "        'optimizer_state': optimizer.state_dict(),\n",
    "        'scheduler_state': scheduler.state_dict() if scheduler else None,\n",
    "        'best_logloss': best_logloss,\n",
    "        'no_improve': no_improve\n",
    "    }, f\"best_{backbone_name}_epoch{epoch}.pth\")\n",
    "    print(f\"✅ Best model saved (LogLoss: {best_logloss:.4f})\")\n",
    "# 모델 저장\n",
    "save_model(model, optimizer, None, CFS['EPOCHS'], val_losses[-1], 0, CFS['model_name'])"
   ]
  },
  {
   "cell_type": "markdown",
   "id": "8b327e20",
   "metadata": {},
   "source": [
    "## Training plot"
   ]
  },
  {
   "cell_type": "code",
   "execution_count": 15,
   "id": "0fcaeb84",
   "metadata": {},
   "outputs": [
    {
     "data": {
      "text/plain": [
       "[2156.1850118637085,\n",
       " 2060.3055812120438,\n",
       " 2073.2042323350906,\n",
       " 1921.4261521100998,\n",
       " 2265.9297852516174,\n",
       " 2084.957463502884,\n",
       " 2479.23659157753,\n",
       " 2289.458372116089,\n",
       " 2456.428326368332,\n",
       " 2629.4957473278046,\n",
       " 2635.386373400688,\n",
       " 2687.9278115034103,\n",
       " 2672.167493581772,\n",
       " 2496.986453294754,\n",
       " 2766.2378420829773,\n",
       " 2582.052932739258,\n",
       " 2640.9610476493835,\n",
       " 2695.7505831718445,\n",
       " 2917.8947372436523,\n",
       " 2888.784429550171]"
      ]
     },
     "execution_count": 15,
     "metadata": {},
     "output_type": "execute_result"
    }
   ],
   "source": [
    "val_losses"
   ]
  },
  {
   "cell_type": "markdown",
   "id": "35e9181b",
   "metadata": {},
   "source": [
    "## 학습곡선"
   ]
  },
  {
   "cell_type": "code",
   "execution_count": 15,
   "id": "86eb2ce9",
   "metadata": {},
   "outputs": [
    {
     "data": {
      "image/png": "[encoded data removed]",
      "text/plain": [
       "<Figure size 1200x500 with 1 Axes>"
      ]
     },
     "metadata": {},
     "output_type": "display_data"
    }
   ],
   "source": [
    "import matplotlib.pyplot as plt\n",
    "\n",
    "def plot_training_history(train_losses, val_losses,):\n",
    "\n",
    "    plt.figure(figsize=(12, 5))\n",
    "\n",
    "    # Loss plot\n",
    "    plt.subplot(1, 2, 1)\n",
    "    plt.plot(train_losses, label='Train Loss')\n",
    "    plt.plot(val_losses, label='Validation Loss')\n",
    "    plt.xlabel('Epoch')\n",
    "    plt.ylabel('Loss')\n",
    "    plt.title(f'Loss per Epoch')\n",
    "    plt.legend()\n",
    "    plt.grid()\n",
    "\n",
    "    plt.tight_layout()\n",
    "    plt.show()\n",
    "\n",
    "# Plot training history\n",
    "plot_training_history(train_losses, val_losses)"
   ]
  },
  {
   "cell_type": "markdown",
   "id": "8f36844e",
   "metadata": {},
   "source": []
  },
  {
   "cell_type": "markdown",
   "id": "d674c582",
   "metadata": {},
   "source": [
    "## inference"
   ]
  },
  {
   "cell_type": "code",
   "execution_count": 16,
   "id": "decd8ce7",
   "metadata": {},
   "outputs": [
    {
     "name": "stderr",
     "output_type": "stream",
     "text": [
      "Inference: 100%|██████████| 68/68 [02:22<00:00,  2.10s/it]"
     ]
    },
    {
     "name": "stdout",
     "output_type": "stream",
     "text": [
      "Test Accuracy: 65.2214%\n",
      "Test F1 Score: 0.4954\n",
      "Test Precision: 0.5127\n",
      "Test Recall: 0.5218\n",
      "Test ROC-AUC: 0.9617\n"
     ]
    },
    {
     "name": "stderr",
     "output_type": "stream",
     "text": [
      "\n"
     ]
    }
   ],
   "source": [
    "# Test dataset\n",
    "test_dataset = ImageDataset(test_path, transform=test_transform)\n",
    "# Test DataLoader\n",
    "test_loader = DataLoader(\n",
    "    test_dataset,\n",
    "    batch_size=CFS['BATCH_SIZE'],\n",
    "    shuffle=False,\n",
    "    num_workers=int(CFS['num_workers'] / 2),\n",
    "    pin_memory=True\n",
    ")\n",
    "# Inference\n",
    "model.eval()\n",
    "preds_list = []\n",
    "targets_list = []\n",
    "with torch.no_grad():\n",
    "    for images, labels in tqdm(test_loader, desc=\"Inference\"):\n",
    "        images = images.to(device)\n",
    "        labels = labels.to(device)\n",
    "        outputs = model(images)\n",
    "        preds = outputs.argmax(dim=1)\n",
    "        preds_list.extend(preds.detach().cpu().numpy())\n",
    "        targets_list.extend(labels.detach().cpu().numpy())\n",
    "\n",
    "\n",
    "        correct += (preds == labels).sum().item()\n",
    "        total += labels.size(0)\n",
    "\n",
    "    acc = accuracy_score(targets_list, preds_list)\n",
    "    f1 = f1_score(targets_list, preds_list, average='macro')\n",
    "    precision = precision_score(targets_list, preds_list, average='macro', zero_division=0)\n",
    "    recall = recall_score(targets_list, preds_list, average='macro', zero_division=0)\n",
    "\n",
    "# 결과 출력\n",
    "print(f\"Test Accuracy: {acc * 100:.4f}%\")\n",
    "print(f\"Test F1 Score: {f1:.4f}\")\n",
    "print(f\"Test Precision: {precision:.4f}\")\n",
    "print(f\"Test Recall: {recall:.4f}\")\n",
    "print(f\"Test ROC-AUC: {roc_auc:.4f}\")\n"
   ]
  }
 ],
 "metadata": {
  "kernelspec": {
   "display_name": "base",
   "language": "python",
   "name": "python3"
  },
  "language_info": {
   "codemirror_mode": {
    "name": "ipython",
    "version": 3
   },
   "file_extension": ".py",
   "mimetype": "text/x-python",
   "name": "python",
   "nbconvert_exporter": "python",
   "pygments_lexer": "ipython3",
   "version": "3.10.13"
  }
 },
 "nbformat": 4,
 "nbformat_minor": 5
}
