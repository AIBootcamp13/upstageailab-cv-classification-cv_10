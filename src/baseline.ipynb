{
 "cells": [
  {
   "cell_type": "markdown",
   "id": "e0e65c9a",
   "metadata": {},
   "source": [
    "## 임포트"
   ]
  },
  {
   "cell_type": "code",
   "execution_count": null,
   "id": "76e38eb3",
   "metadata": {},
   "outputs": [],
   "source": [
    "import os\n",
    "import time\n",
    "import json\n",
    "import random\n",
    "\n",
    "import timm\n",
    "import torch\n",
    "import pandas as pd\n",
    "import numpy as np\n",
    "import torch.nn as nn\n",
    "import torchvision.models as tv_models\n",
    "from torch.optim import Adam\n",
    "from torchvision import transforms\n",
    "from torch.utils.data import Dataset, DataLoader, Subset\n",
    "# from torchvision.datasets import ImageFolder\n",
    "from PIL import Image\n",
    "from tqdm import tqdm\n",
    "from sklearn.metrics import accuracy_score, f1_score\n",
    "from sklearn.model_selection import train_test_split\n"
   ]
  },
  {
   "cell_type": "markdown",
   "id": "18900608",
   "metadata": {},
   "source": [
    "## 파라미터"
   ]
  },
  {
   "cell_type": "code",
   "execution_count": 3,
   "id": "c00ebed6",
   "metadata": {},
   "outputs": [
    {
     "name": "stdout",
     "output_type": "stream",
     "text": [
      "cuda\n"
     ]
    }
   ],
   "source": [
    "# device\n",
    "device = torch.device('cuda' if torch.cuda.is_available() else 'cpu')\n",
    "print(device)\n",
    "\n",
    "# data config\n",
    "data_path = '../data/'\n",
    "train_path = '../data/train/'\n",
    "test_path = '../data/test/'\n",
    "\n",
    "# model config\n",
    "model_name = 'resnet50' # 'resnet34' 'efficientnet-b0', ...\n",
    "\n",
    "# training config\n",
    "CFS = {'img_size': 224,\n",
    "       'num_classes': 45,  # Adjust based on your dataset\n",
    "       'LR': 1e-3,\n",
    "       'EPOCHS': 20,\n",
    "       'BATCH_SIZE': 64,\n",
    "       'num_workers': 16\n",
    "      }\n"
   ]
  },
  {
   "cell_type": "markdown",
   "id": "60315b06",
   "metadata": {},
   "source": [
    "## class dictionary"
   ]
  },
  {
   "cell_type": "code",
   "execution_count": 5,
   "id": "332550ba",
   "metadata": {},
   "outputs": [],
   "source": [
    "classes_to_idx = {\n",
    "            '물류선하증권': 0,\n",
    "            '주민생활지원': 1,\n",
    "            '개인신용정보조회동의서(계약체결)': 2,\n",
    "            '모집경위서': 3,\n",
    "            '학자금대출신청서': 4,\n",
    "            '금융증권신고서': 5,\n",
    "            '개인신용정보조회동의서(상품소개)': 6,\n",
    "            '농림.축산지원': 7,\n",
    "            '회계.예산': 8,\n",
    "            '금융은행위임장': 9,\n",
    "            '금융증권위임장': 10,\n",
    "            '금융은행신고서': 11,\n",
    "            '물류포장명세서': 12,\n",
    "            '지역문화': 13,\n",
    "            '고객확인서(변경/정정)': 14,\n",
    "            '금융보험합의서': 15,\n",
    "            '금융증권확인서': 16,\n",
    "            '물류기타': 17,\n",
    "            '상수도관리': 18,\n",
    "            '계약전알릴의무사항': 19,\n",
    "            '상.하수도관리': 20,\n",
    "            '사실조사확인서': 21,\n",
    "            '금융보험위임장': 22,\n",
    "            '금융보험청구서': 23,\n",
    "            '금융보험동의서': 24,\n",
    "            '금융보험확인서': 25,\n",
    "            '주민복지': 26,\n",
    "            '지역환경.산림': 27,\n",
    "            '물류상업송장': 28,\n",
    "            '보험차익 세제관련 안내확인서': 29,\n",
    "            '물류원산지증명서': 30,\n",
    "            '인.허가': 31,\n",
    "            '산업진흥': 32,\n",
    "            '금융증권신청서': 33,\n",
    "            '청약서': 34,\n",
    "            '주민자치': 35,\n",
    "            '보험계약 변경신청 위임장': 36,\n",
    "            '부동산대출신청서': 37,\n",
    "            '일반행정': 38,\n",
    "            '금융은행신청서': 39,\n",
    "            '금융보험신청서': 40,\n",
    "            '은행거래신청서(계좌개설)': 41,\n",
    "            '정보보안동의서': 42,\n",
    "            '도시개발': 43,\n",
    "            '금융은행확인서': 44\n",
    "        }\n"
   ]
  },
  {
   "cell_type": "markdown",
   "id": "c5bf1546",
   "metadata": {},
   "source": [
    "## seed"
   ]
  },
  {
   "cell_type": "code",
   "execution_count": 6,
   "id": "8686ad68",
   "metadata": {},
   "outputs": [],
   "source": [
    "def seed_everything(seed):\n",
    "    random.seed(seed)\n",
    "    os.environ['PYTHONHASHSEED'] = str(seed)\n",
    "    np.random.seed(seed)\n",
    "    torch.manual_seed(seed)\n",
    "    torch.cuda.manual_seed(seed)\n",
    "    torch.backends.cudnn.deterministic = True\n",
    "    torch.backends.cudnn.benchmark = False\n",
    "\n",
    "seed_everything(42) # Seed 고정"
   ]
  },
  {
   "cell_type": "markdown",
   "id": "e2625705",
   "metadata": {},
   "source": [
    "## transfrom"
   ]
  },
  {
   "cell_type": "code",
   "execution_count": 7,
   "id": "245a4272",
   "metadata": {},
   "outputs": [],
   "source": [
    "\n",
    "train_transform = transforms.Compose([\n",
    "    transforms.Resize((CFS['img_size'], CFS['img_size'])),\n",
    "    transforms.ToTensor(),\n",
    "    transforms.Normalize(mean=[0.485, 0.456, 0.406],\n",
    "                         std=[0.229, 0.224, 0.225])\n",
    "])\n",
    "test_transform = transforms.Compose([\n",
    "    transforms.Resize((CFS['img_size'], CFS['img_size'])),\n",
    "    transforms.ToTensor(),\n",
    "    transforms.Normalize(mean=[0.485, 0.456, 0.406],\n",
    "                         std=[0.229, 0.224, 0.225])\n",
    "])"
   ]
  },
  {
   "cell_type": "markdown",
   "id": "c944d91e",
   "metadata": {},
   "source": [
    "## label "
   ]
  },
  {
   "cell_type": "code",
   "execution_count": 8,
   "id": "317cf1c0",
   "metadata": {},
   "outputs": [],
   "source": [
    "\n",
    "def get_label(filename):\n",
    "    \"\"\"\n",
    "    classification.py\n",
    "    \"\"\"\n",
    "    # print(f\"get_label: {filename}\")\n",
    "    with open(filename, 'r', encoding='utf-8') as file:\n",
    "        data = json.load(file)\n",
    "\n",
    "    if 'images' in data and len(data['images']) > 0:\n",
    "        first_image = data['images'][0]\n",
    "        if 'image.category' in first_image:\n",
    "            image_category = first_image['image.category']\n",
    "        elif 'document_name' in first_image:\n",
    "            image_category = first_image['document_name']\n",
    "    else:\n",
    "        dic = {0: '은행', 1: '보험', 2: '증권', 3: '기타'}\n",
    "        form_type = data['Images']['form_type']\n",
    "        # print(f\"form_type: {form_type}\")\n",
    "        if \"form_industry\" in data['Images']:\n",
    "            industry = data['Images']['form_industry']\n",
    "            image_category = \"금융\" + dic[industry] + data['Images']['form_type']\n",
    "        else:\n",
    "            image_category = \"물류\" + data['Images']['form_type']\n",
    "\n",
    "    # print(image_category)  # 출력: 주민자치\n",
    "\n",
    "    return image_category"
   ]
  },
  {
   "cell_type": "markdown",
   "id": "42a03650",
   "metadata": {},
   "source": [
    "## custom image Dataset"
   ]
  },
  {
   "cell_type": "code",
   "execution_count": 9,
   "id": "c92db814",
   "metadata": {},
   "outputs": [],
   "source": [
    "# 데이터셋 클래스를 정의합니다.\n",
    "class ImageDataset(Dataset):\n",
    "    def __init__(self, path, transform=None,):\n",
    "        self.path = path\n",
    "        self.transform = transform\n",
    "        self.samples = []\n",
    "        self.classes_to_idx = {\n",
    "            '물류선하증권': 0,\n",
    "            '주민생활지원': 1,\n",
    "            '개인신용정보조회동의서(계약체결)': 2,\n",
    "            '모집경위서': 3,\n",
    "            '학자금대출신청서': 4,\n",
    "            '금융증권신고서': 5,\n",
    "            '개인신용정보조회동의서(상품소개)': 6,\n",
    "            '농림.축산지원': 7,\n",
    "            '회계.예산': 8,\n",
    "            '금융은행위임장': 9,\n",
    "            '금융증권위임장': 10,\n",
    "            '금융은행신고서': 11,\n",
    "            '물류포장명세서': 12,\n",
    "            '지역문화': 13,\n",
    "            '고객확인서(변경/정정)': 14,\n",
    "            '금융보험합의서': 15,\n",
    "            '금융증권확인서': 16,\n",
    "            '물류기타': 17,\n",
    "            '상수도관리': 18,\n",
    "            '계약전알릴의무사항': 19,\n",
    "            '상.하수도관리': 20,\n",
    "            '사실조사확인서': 21,\n",
    "            '금융보험위임장': 22,\n",
    "            '금융보험청구서': 23,\n",
    "            '금융보험동의서': 24,\n",
    "            '금융보험확인서': 25,\n",
    "            '주민복지': 26,\n",
    "            '지역환경.산림': 27,\n",
    "            '물류상업송장': 28,\n",
    "            '보험차익 세제관련 안내확인서': 29,\n",
    "            '물류원산지증명서': 30,\n",
    "            '인.허가': 31,\n",
    "            '산업진흥': 32,\n",
    "            '금융증권신청서': 33,\n",
    "            '청약서': 34,\n",
    "            '주민자치': 35,\n",
    "            '보험계약 변경신청 위임장': 36,\n",
    "            '부동산대출신청서': 37,\n",
    "            '일반행정': 38,\n",
    "            '금융은행신청서': 39,\n",
    "            '금융보험신청서': 40,\n",
    "            '은행거래신청서(계좌개설)': 41,\n",
    "            '정보보안동의서': 42,\n",
    "            '도시개발': 43,\n",
    "            '금융은행확인서': 44\n",
    "        }\n",
    "\n",
    "        label_set = set()\n",
    "        for folder in os.listdir(self.path):\n",
    "            folder_path = os.path.join(self.path, folder)\n",
    "            if not os.path.isdir(folder_path):\n",
    "                continue\n",
    "            for f in os.listdir(folder_path):\n",
    "                if f.lower().endswith(('.jpg', '.png')):\n",
    "                    img_path = os.path.join(folder_path, f)\n",
    "                    json_path = img_path.rsplit('.', 1)[0] + '.json'\n",
    "                    label = get_label(json_path) # 라벨을 가져옵니다\n",
    "                    self.samples.append((img_path, self.classes_to_idx[label]))\n",
    "\n",
    "    def __len__(self):\n",
    "        return len(self.samples)\n",
    "\n",
    "    def __getitem__(self, idx):\n",
    "        img_path, label = self.samples[idx]\n",
    "        label = torch.tensor(label)\n",
    "        image = Image.open(img_path).convert('RGB')\n",
    "        if self.transform:\n",
    "            image = self.transform(image)\n",
    "        return image, label\n",
    "            "
   ]
  },
  {
   "cell_type": "markdown",
   "id": "057add04",
   "metadata": {},
   "source": [
    "## Dataloader"
   ]
  },
  {
   "cell_type": "code",
   "execution_count": 10,
   "id": "cf5576d1",
   "metadata": {},
   "outputs": [
    {
     "name": "stdout",
     "output_type": "stream",
     "text": [
      "원본 데이터셋 크기: 8662\n",
      "클래스 수: 45\n",
      "클래스 이름: {0, 1, 2, 3, 4, 5, 6, 7, 8, 9, 10, 11, 12, 13, 14, 15, 16, 17, 18, 19, 20, 21, 22, 23, 24, 25, 26, 27, 28, 29, 30, 31, 32, 33, 34, 35, 36, 37, 38, 39, 40, 41, 42, 43, 44}\n",
      "train 이미지 수: 6929, valid 이미지 수: 1733\n"
     ]
    }
   ],
   "source": [
    "# 전체 데이터셋 로드\n",
    "full_dataset = ImageDataset(train_path, transform=None)\n",
    "print(f\"원본 데이터셋 크기: {len(full_dataset)}\")\n",
    "\n",
    "targets = [label for _, label in full_dataset.samples]\n",
    "print(f\"클래스 수: {len(set(targets))}\")\n",
    "print(f\"클래스 이름: {set(targets)}\")\n",
    "\n",
    "# Stratified Split\n",
    "train_idx, val_idx = train_test_split(\n",
    "    range(len(targets)), test_size=0.2, stratify=targets, random_state=42\n",
    ")\n",
    "\n",
    "# Subset + transform 각각 적용\n",
    "train_dataset = Subset(ImageDataset(train_path, transform=train_transform), train_idx)\n",
    "val_dataset = Subset(ImageDataset(train_path, transform=test_transform), val_idx)\n",
    "print(f'train 이미지 수: {len(train_dataset)}, valid 이미지 수: {len(val_dataset)}')\n",
    "\n",
    "# DataLoader 정의\n",
    "train_loader = DataLoader(\n",
    "    train_dataset,\n",
    "    batch_size=CFS['BATCH_SIZE'],\n",
    "    shuffle=True,\n",
    "    num_workers=CFS['num_workers'],\n",
    "    pin_memory=True,\n",
    "    drop_last=False\n",
    ")\n",
    "val_loader = DataLoader(\n",
    "    val_dataset,\n",
    "    batch_size=CFS['BATCH_SIZE'],\n",
    "    shuffle=False,\n",
    "    num_workers=int(CFS['num_workers'] / 2),\n",
    "    pin_memory=True\n",
    ")\n"
   ]
  },
  {
   "cell_type": "markdown",
   "id": "0a0e6ccf",
   "metadata": {},
   "source": [
    "## Model"
   ]
  },
  {
   "cell_type": "code",
   "execution_count": null,
   "id": "110fbf19",
   "metadata": {},
   "outputs": [
    {
     "name": "stdout",
     "output_type": "stream",
     "text": [
      "BaseModel(\n",
      "  (backbone): ResNet(\n",
      "    (conv1): Conv2d(3, 64, kernel_size=(7, 7), stride=(2, 2), padding=(3, 3), bias=False)\n",
      "    (bn1): BatchNorm2d(64, eps=1e-05, momentum=0.1, affine=True, track_running_stats=True)\n",
      "    (relu): ReLU(inplace=True)\n",
      "    (maxpool): MaxPool2d(kernel_size=3, stride=2, padding=1, dilation=1, ceil_mode=False)\n",
      "    (layer1): Sequential(\n",
      "      (0): Bottleneck(\n",
      "        (conv1): Conv2d(64, 64, kernel_size=(1, 1), stride=(1, 1), bias=False)\n",
      "        (bn1): BatchNorm2d(64, eps=1e-05, momentum=0.1, affine=True, track_running_stats=True)\n",
      "        (conv2): Conv2d(64, 64, kernel_size=(3, 3), stride=(1, 1), padding=(1, 1), bias=False)\n",
      "        (bn2): BatchNorm2d(64, eps=1e-05, momentum=0.1, affine=True, track_running_stats=True)\n",
      "        (conv3): Conv2d(64, 256, kernel_size=(1, 1), stride=(1, 1), bias=False)\n",
      "        (bn3): BatchNorm2d(256, eps=1e-05, momentum=0.1, affine=True, track_running_stats=True)\n",
      "        (relu): ReLU(inplace=True)\n",
      "        (downsample): Sequential(\n",
      "          (0): Conv2d(64, 256, kernel_size=(1, 1), stride=(1, 1), bias=False)\n",
      "          (1): BatchNorm2d(256, eps=1e-05, momentum=0.1, affine=True, track_running_stats=True)\n",
      "        )\n",
      "      )\n",
      "      (1): Bottleneck(\n",
      "        (conv1): Conv2d(256, 64, kernel_size=(1, 1), stride=(1, 1), bias=False)\n",
      "        (bn1): BatchNorm2d(64, eps=1e-05, momentum=0.1, affine=True, track_running_stats=True)\n",
      "        (conv2): Conv2d(64, 64, kernel_size=(3, 3), stride=(1, 1), padding=(1, 1), bias=False)\n",
      "        (bn2): BatchNorm2d(64, eps=1e-05, momentum=0.1, affine=True, track_running_stats=True)\n",
      "        (conv3): Conv2d(64, 256, kernel_size=(1, 1), stride=(1, 1), bias=False)\n",
      "        (bn3): BatchNorm2d(256, eps=1e-05, momentum=0.1, affine=True, track_running_stats=True)\n",
      "        (relu): ReLU(inplace=True)\n",
      "      )\n",
      "      (2): Bottleneck(\n",
      "        (conv1): Conv2d(256, 64, kernel_size=(1, 1), stride=(1, 1), bias=False)\n",
      "        (bn1): BatchNorm2d(64, eps=1e-05, momentum=0.1, affine=True, track_running_stats=True)\n",
      "        (conv2): Conv2d(64, 64, kernel_size=(3, 3), stride=(1, 1), padding=(1, 1), bias=False)\n",
      "        (bn2): BatchNorm2d(64, eps=1e-05, momentum=0.1, affine=True, track_running_stats=True)\n",
      "        (conv3): Conv2d(64, 256, kernel_size=(1, 1), stride=(1, 1), bias=False)\n",
      "        (bn3): BatchNorm2d(256, eps=1e-05, momentum=0.1, affine=True, track_running_stats=True)\n",
      "        (relu): ReLU(inplace=True)\n",
      "      )\n",
      "    )\n",
      "    (layer2): Sequential(\n",
      "      (0): Bottleneck(\n",
      "        (conv1): Conv2d(256, 128, kernel_size=(1, 1), stride=(1, 1), bias=False)\n",
      "        (bn1): BatchNorm2d(128, eps=1e-05, momentum=0.1, affine=True, track_running_stats=True)\n",
      "        (conv2): Conv2d(128, 128, kernel_size=(3, 3), stride=(2, 2), padding=(1, 1), bias=False)\n",
      "        (bn2): BatchNorm2d(128, eps=1e-05, momentum=0.1, affine=True, track_running_stats=True)\n",
      "        (conv3): Conv2d(128, 512, kernel_size=(1, 1), stride=(1, 1), bias=False)\n",
      "        (bn3): BatchNorm2d(512, eps=1e-05, momentum=0.1, affine=True, track_running_stats=True)\n",
      "        (relu): ReLU(inplace=True)\n",
      "        (downsample): Sequential(\n",
      "          (0): Conv2d(256, 512, kernel_size=(1, 1), stride=(2, 2), bias=False)\n",
      "          (1): BatchNorm2d(512, eps=1e-05, momentum=0.1, affine=True, track_running_stats=True)\n",
      "        )\n",
      "      )\n",
      "      (1): Bottleneck(\n",
      "        (conv1): Conv2d(512, 128, kernel_size=(1, 1), stride=(1, 1), bias=False)\n",
      "        (bn1): BatchNorm2d(128, eps=1e-05, momentum=0.1, affine=True, track_running_stats=True)\n",
      "        (conv2): Conv2d(128, 128, kernel_size=(3, 3), stride=(1, 1), padding=(1, 1), bias=False)\n",
      "        (bn2): BatchNorm2d(128, eps=1e-05, momentum=0.1, affine=True, track_running_stats=True)\n",
      "        (conv3): Conv2d(128, 512, kernel_size=(1, 1), stride=(1, 1), bias=False)\n",
      "        (bn3): BatchNorm2d(512, eps=1e-05, momentum=0.1, affine=True, track_running_stats=True)\n",
      "        (relu): ReLU(inplace=True)\n",
      "      )\n",
      "      (2): Bottleneck(\n",
      "        (conv1): Conv2d(512, 128, kernel_size=(1, 1), stride=(1, 1), bias=False)\n",
      "        (bn1): BatchNorm2d(128, eps=1e-05, momentum=0.1, affine=True, track_running_stats=True)\n",
      "        (conv2): Conv2d(128, 128, kernel_size=(3, 3), stride=(1, 1), padding=(1, 1), bias=False)\n",
      "        (bn2): BatchNorm2d(128, eps=1e-05, momentum=0.1, affine=True, track_running_stats=True)\n",
      "        (conv3): Conv2d(128, 512, kernel_size=(1, 1), stride=(1, 1), bias=False)\n",
      "        (bn3): BatchNorm2d(512, eps=1e-05, momentum=0.1, affine=True, track_running_stats=True)\n",
      "        (relu): ReLU(inplace=True)\n",
      "      )\n",
      "      (3): Bottleneck(\n",
      "        (conv1): Conv2d(512, 128, kernel_size=(1, 1), stride=(1, 1), bias=False)\n",
      "        (bn1): BatchNorm2d(128, eps=1e-05, momentum=0.1, affine=True, track_running_stats=True)\n",
      "        (conv2): Conv2d(128, 128, kernel_size=(3, 3), stride=(1, 1), padding=(1, 1), bias=False)\n",
      "        (bn2): BatchNorm2d(128, eps=1e-05, momentum=0.1, affine=True, track_running_stats=True)\n",
      "        (conv3): Conv2d(128, 512, kernel_size=(1, 1), stride=(1, 1), bias=False)\n",
      "        (bn3): BatchNorm2d(512, eps=1e-05, momentum=0.1, affine=True, track_running_stats=True)\n",
      "        (relu): ReLU(inplace=True)\n",
      "      )\n",
      "    )\n",
      "    (layer3): Sequential(\n",
      "      (0): Bottleneck(\n",
      "        (conv1): Conv2d(512, 256, kernel_size=(1, 1), stride=(1, 1), bias=False)\n",
      "        (bn1): BatchNorm2d(256, eps=1e-05, momentum=0.1, affine=True, track_running_stats=True)\n",
      "        (conv2): Conv2d(256, 256, kernel_size=(3, 3), stride=(2, 2), padding=(1, 1), bias=False)\n",
      "        (bn2): BatchNorm2d(256, eps=1e-05, momentum=0.1, affine=True, track_running_stats=True)\n",
      "        (conv3): Conv2d(256, 1024, kernel_size=(1, 1), stride=(1, 1), bias=False)\n",
      "        (bn3): BatchNorm2d(1024, eps=1e-05, momentum=0.1, affine=True, track_running_stats=True)\n",
      "        (relu): ReLU(inplace=True)\n",
      "        (downsample): Sequential(\n",
      "          (0): Conv2d(512, 1024, kernel_size=(1, 1), stride=(2, 2), bias=False)\n",
      "          (1): BatchNorm2d(1024, eps=1e-05, momentum=0.1, affine=True, track_running_stats=True)\n",
      "        )\n",
      "      )\n",
      "      (1): Bottleneck(\n",
      "        (conv1): Conv2d(1024, 256, kernel_size=(1, 1), stride=(1, 1), bias=False)\n",
      "        (bn1): BatchNorm2d(256, eps=1e-05, momentum=0.1, affine=True, track_running_stats=True)\n",
      "        (conv2): Conv2d(256, 256, kernel_size=(3, 3), stride=(1, 1), padding=(1, 1), bias=False)\n",
      "        (bn2): BatchNorm2d(256, eps=1e-05, momentum=0.1, affine=True, track_running_stats=True)\n",
      "        (conv3): Conv2d(256, 1024, kernel_size=(1, 1), stride=(1, 1), bias=False)\n",
      "        (bn3): BatchNorm2d(1024, eps=1e-05, momentum=0.1, affine=True, track_running_stats=True)\n",
      "        (relu): ReLU(inplace=True)\n",
      "      )\n",
      "      (2): Bottleneck(\n",
      "        (conv1): Conv2d(1024, 256, kernel_size=(1, 1), stride=(1, 1), bias=False)\n",
      "        (bn1): BatchNorm2d(256, eps=1e-05, momentum=0.1, affine=True, track_running_stats=True)\n",
      "        (conv2): Conv2d(256, 256, kernel_size=(3, 3), stride=(1, 1), padding=(1, 1), bias=False)\n",
      "        (bn2): BatchNorm2d(256, eps=1e-05, momentum=0.1, affine=True, track_running_stats=True)\n",
      "        (conv3): Conv2d(256, 1024, kernel_size=(1, 1), stride=(1, 1), bias=False)\n",
      "        (bn3): BatchNorm2d(1024, eps=1e-05, momentum=0.1, affine=True, track_running_stats=True)\n",
      "        (relu): ReLU(inplace=True)\n",
      "      )\n",
      "      (3): Bottleneck(\n",
      "        (conv1): Conv2d(1024, 256, kernel_size=(1, 1), stride=(1, 1), bias=False)\n",
      "        (bn1): BatchNorm2d(256, eps=1e-05, momentum=0.1, affine=True, track_running_stats=True)\n",
      "        (conv2): Conv2d(256, 256, kernel_size=(3, 3), stride=(1, 1), padding=(1, 1), bias=False)\n",
      "        (bn2): BatchNorm2d(256, eps=1e-05, momentum=0.1, affine=True, track_running_stats=True)\n",
      "        (conv3): Conv2d(256, 1024, kernel_size=(1, 1), stride=(1, 1), bias=False)\n",
      "        (bn3): BatchNorm2d(1024, eps=1e-05, momentum=0.1, affine=True, track_running_stats=True)\n",
      "        (relu): ReLU(inplace=True)\n",
      "      )\n",
      "      (4): Bottleneck(\n",
      "        (conv1): Conv2d(1024, 256, kernel_size=(1, 1), stride=(1, 1), bias=False)\n",
      "        (bn1): BatchNorm2d(256, eps=1e-05, momentum=0.1, affine=True, track_running_stats=True)\n",
      "        (conv2): Conv2d(256, 256, kernel_size=(3, 3), stride=(1, 1), padding=(1, 1), bias=False)\n",
      "        (bn2): BatchNorm2d(256, eps=1e-05, momentum=0.1, affine=True, track_running_stats=True)\n",
      "        (conv3): Conv2d(256, 1024, kernel_size=(1, 1), stride=(1, 1), bias=False)\n",
      "        (bn3): BatchNorm2d(1024, eps=1e-05, momentum=0.1, affine=True, track_running_stats=True)\n",
      "        (relu): ReLU(inplace=True)\n",
      "      )\n",
      "      (5): Bottleneck(\n",
      "        (conv1): Conv2d(1024, 256, kernel_size=(1, 1), stride=(1, 1), bias=False)\n",
      "        (bn1): BatchNorm2d(256, eps=1e-05, momentum=0.1, affine=True, track_running_stats=True)\n",
      "        (conv2): Conv2d(256, 256, kernel_size=(3, 3), stride=(1, 1), padding=(1, 1), bias=False)\n",
      "        (bn2): BatchNorm2d(256, eps=1e-05, momentum=0.1, affine=True, track_running_stats=True)\n",
      "        (conv3): Conv2d(256, 1024, kernel_size=(1, 1), stride=(1, 1), bias=False)\n",
      "        (bn3): BatchNorm2d(1024, eps=1e-05, momentum=0.1, affine=True, track_running_stats=True)\n",
      "        (relu): ReLU(inplace=True)\n",
      "      )\n",
      "    )\n",
      "    (layer4): Sequential(\n",
      "      (0): Bottleneck(\n",
      "        (conv1): Conv2d(1024, 512, kernel_size=(1, 1), stride=(1, 1), bias=False)\n",
      "        (bn1): BatchNorm2d(512, eps=1e-05, momentum=0.1, affine=True, track_running_stats=True)\n",
      "        (conv2): Conv2d(512, 512, kernel_size=(3, 3), stride=(2, 2), padding=(1, 1), bias=False)\n",
      "        (bn2): BatchNorm2d(512, eps=1e-05, momentum=0.1, affine=True, track_running_stats=True)\n",
      "        (conv3): Conv2d(512, 2048, kernel_size=(1, 1), stride=(1, 1), bias=False)\n",
      "        (bn3): BatchNorm2d(2048, eps=1e-05, momentum=0.1, affine=True, track_running_stats=True)\n",
      "        (relu): ReLU(inplace=True)\n",
      "        (downsample): Sequential(\n",
      "          (0): Conv2d(1024, 2048, kernel_size=(1, 1), stride=(2, 2), bias=False)\n",
      "          (1): BatchNorm2d(2048, eps=1e-05, momentum=0.1, affine=True, track_running_stats=True)\n",
      "        )\n",
      "      )\n",
      "      (1): Bottleneck(\n",
      "        (conv1): Conv2d(2048, 512, kernel_size=(1, 1), stride=(1, 1), bias=False)\n",
      "        (bn1): BatchNorm2d(512, eps=1e-05, momentum=0.1, affine=True, track_running_stats=True)\n",
      "        (conv2): Conv2d(512, 512, kernel_size=(3, 3), stride=(1, 1), padding=(1, 1), bias=False)\n",
      "        (bn2): BatchNorm2d(512, eps=1e-05, momentum=0.1, affine=True, track_running_stats=True)\n",
      "        (conv3): Conv2d(512, 2048, kernel_size=(1, 1), stride=(1, 1), bias=False)\n",
      "        (bn3): BatchNorm2d(2048, eps=1e-05, momentum=0.1, affine=True, track_running_stats=True)\n",
      "        (relu): ReLU(inplace=True)\n",
      "      )\n",
      "      (2): Bottleneck(\n",
      "        (conv1): Conv2d(2048, 512, kernel_size=(1, 1), stride=(1, 1), bias=False)\n",
      "        (bn1): BatchNorm2d(512, eps=1e-05, momentum=0.1, affine=True, track_running_stats=True)\n",
      "        (conv2): Conv2d(512, 512, kernel_size=(3, 3), stride=(1, 1), padding=(1, 1), bias=False)\n",
      "        (bn2): BatchNorm2d(512, eps=1e-05, momentum=0.1, affine=True, track_running_stats=True)\n",
      "        (conv3): Conv2d(512, 2048, kernel_size=(1, 1), stride=(1, 1), bias=False)\n",
      "        (bn3): BatchNorm2d(2048, eps=1e-05, momentum=0.1, affine=True, track_running_stats=True)\n",
      "        (relu): ReLU(inplace=True)\n",
      "      )\n",
      "    )\n",
      "    (avgpool): AdaptiveAvgPool2d(output_size=(1, 1))\n",
      "    (fc): Identity()\n",
      "  )\n",
      "  (head): Linear(in_features=2048, out_features=45, bias=True)\n",
      ")\n"
     ]
    }
   ],
   "source": [
    "class BaseModel(nn.Module):\n",
    "    def __init__(self, num_classes):\n",
    "        super(BaseModel, self).__init__()\n",
    "        self.backbone = tv_models.resnet50(weights=tv_models.ResNet50_Weights.DEFAULT)  # ResNet50 모델 불러오기\n",
    "        self.feature_dim = self.backbone.fc.in_features \n",
    "        self.backbone.fc = nn.Identity()  # feature extractor로만 사용\n",
    "        self.head = nn.Linear(self.feature_dim, num_classes)  # 분류기 for classification\n",
    "\n",
    "    def forward(self, x):\n",
    "        x = self.backbone(x)       \n",
    "        x = self.head(x) \n",
    "        return x\n",
    "\n",
    "model = BaseModel(CFS['num_classes']).to(device)\n",
    "print(model)"
   ]
  },
  {
   "cell_type": "markdown",
   "id": "1e84989b",
   "metadata": {},
   "source": [
    "## Train"
   ]
  },
  {
   "cell_type": "code",
   "execution_count": 12,
   "id": "ec00e112",
   "metadata": {},
   "outputs": [
    {
     "name": "stderr",
     "output_type": "stream",
     "text": [
      "Epoch 1/20: 100%|██████████| 109/109 [01:15<00:00,  1.44it/s]\n",
      "Validation 1/20: 100%|██████████| 28/28 [00:22<00:00,  1.22it/s]\n"
     ]
    },
    {
     "name": "stdout",
     "output_type": "stream",
     "text": [
      "Epoch 1 | Train Loss: 10459.9255 | Val Loss: 2156.1850 | Valid Accuracy : 60.0692 | Correct: 1041/1733 | F1 Score: 0.4617%\n"
     ]
    },
    {
     "name": "stderr",
     "output_type": "stream",
     "text": [
      "Epoch 2/20: 100%|██████████| 109/109 [01:12<00:00,  1.51it/s]\n",
      "Validation 2/20: 100%|██████████| 28/28 [00:23<00:00,  1.20it/s]\n"
     ]
    },
    {
     "name": "stdout",
     "output_type": "stream",
     "text": [
      "Epoch 2 | Train Loss: 7266.9907 | Val Loss: 2060.3056 | Valid Accuracy : 62.3774 | Correct: 1081/1733 | F1 Score: 0.5256%\n"
     ]
    },
    {
     "name": "stderr",
     "output_type": "stream",
     "text": [
      "Epoch 3/20: 100%|██████████| 109/109 [01:13<00:00,  1.49it/s]\n",
      "Validation 3/20: 100%|██████████| 28/28 [00:22<00:00,  1.26it/s]\n"
     ]
    },
    {
     "name": "stdout",
     "output_type": "stream",
     "text": [
      "Epoch 3 | Train Loss: 6152.3102 | Val Loss: 2073.2042 | Valid Accuracy : 62.8390 | Correct: 1089/1733 | F1 Score: 0.5771%\n"
     ]
    },
    {
     "name": "stderr",
     "output_type": "stream",
     "text": [
      "Epoch 4/20: 100%|██████████| 109/109 [01:13<00:00,  1.48it/s]\n",
      "Validation 4/20: 100%|██████████| 28/28 [00:22<00:00,  1.26it/s]\n"
     ]
    },
    {
     "name": "stdout",
     "output_type": "stream",
     "text": [
      "Epoch 4 | Train Loss: 5073.1860 | Val Loss: 1921.4262 | Valid Accuracy : 65.4934 | Correct: 1135/1733 | F1 Score: 0.5895%\n"
     ]
    },
    {
     "name": "stderr",
     "output_type": "stream",
     "text": [
      "Epoch 5/20: 100%|██████████| 109/109 [01:13<00:00,  1.48it/s]\n",
      "Validation 5/20: 100%|██████████| 28/28 [00:23<00:00,  1.19it/s]\n"
     ]
    },
    {
     "name": "stdout",
     "output_type": "stream",
     "text": [
      "Epoch 5 | Train Loss: 3974.7639 | Val Loss: 2265.9298 | Valid Accuracy : 61.9158 | Correct: 1073/1733 | F1 Score: 0.3985%\n"
     ]
    },
    {
     "name": "stderr",
     "output_type": "stream",
     "text": [
      "Epoch 6/20: 100%|██████████| 109/109 [01:18<00:00,  1.38it/s]\n",
      "Validation 6/20: 100%|██████████| 28/28 [00:22<00:00,  1.27it/s]\n"
     ]
    },
    {
     "name": "stdout",
     "output_type": "stream",
     "text": [
      "Epoch 6 | Train Loss: 2985.3019 | Val Loss: 2084.9575 | Valid Accuracy : 66.1858 | Correct: 1147/1733 | F1 Score: 0.7084%\n"
     ]
    },
    {
     "name": "stderr",
     "output_type": "stream",
     "text": [
      "Epoch 7/20: 100%|██████████| 109/109 [01:12<00:00,  1.50it/s]\n",
      "Validation 7/20: 100%|██████████| 28/28 [00:22<00:00,  1.24it/s]\n"
     ]
    },
    {
     "name": "stdout",
     "output_type": "stream",
     "text": [
      "Epoch 7 | Train Loss: 2151.4635 | Val Loss: 2479.2366 | Valid Accuracy : 68.2631 | Correct: 1183/1733 | F1 Score: 0.7177%\n"
     ]
    },
    {
     "name": "stderr",
     "output_type": "stream",
     "text": [
      "Epoch 8/20: 100%|██████████| 109/109 [01:14<00:00,  1.46it/s]\n",
      "Validation 8/20: 100%|██████████| 28/28 [00:22<00:00,  1.25it/s]\n"
     ]
    },
    {
     "name": "stdout",
     "output_type": "stream",
     "text": [
      "Epoch 8 | Train Loss: 1669.7525 | Val Loss: 2289.4584 | Valid Accuracy : 67.8015 | Correct: 1175/1733 | F1 Score: 0.7312%\n"
     ]
    },
    {
     "name": "stderr",
     "output_type": "stream",
     "text": [
      "Epoch 9/20: 100%|██████████| 109/109 [01:12<00:00,  1.51it/s]\n",
      "Validation 9/20: 100%|██████████| 28/28 [00:22<00:00,  1.27it/s]\n"
     ]
    },
    {
     "name": "stdout",
     "output_type": "stream",
     "text": [
      "Epoch 9 | Train Loss: 979.9125 | Val Loss: 2456.4283 | Valid Accuracy : 65.9550 | Correct: 1143/1733 | F1 Score: 0.7849%\n"
     ]
    },
    {
     "name": "stderr",
     "output_type": "stream",
     "text": [
      "Epoch 10/20: 100%|██████████| 109/109 [01:12<00:00,  1.51it/s]\n",
      "Validation 10/20: 100%|██████████| 28/28 [00:22<00:00,  1.23it/s]\n"
     ]
    },
    {
     "name": "stdout",
     "output_type": "stream",
     "text": [
      "Epoch 10 | Train Loss: 608.3400 | Val Loss: 2629.4957 | Valid Accuracy : 69.5326 | Correct: 1205/1733 | F1 Score: 0.7629%\n"
     ]
    },
    {
     "name": "stderr",
     "output_type": "stream",
     "text": [
      "Epoch 11/20: 100%|██████████| 109/109 [01:15<00:00,  1.44it/s]\n",
      "Validation 11/20: 100%|██████████| 28/28 [00:25<00:00,  1.12it/s]\n"
     ]
    },
    {
     "name": "stdout",
     "output_type": "stream",
     "text": [
      "Epoch 11 | Train Loss: 735.3476 | Val Loss: 2635.3864 | Valid Accuracy : 68.8979 | Correct: 1194/1733 | F1 Score: 0.7835%\n"
     ]
    },
    {
     "name": "stderr",
     "output_type": "stream",
     "text": [
      "Epoch 12/20: 100%|██████████| 109/109 [01:13<00:00,  1.49it/s]\n",
      "Validation 12/20: 100%|██████████| 28/28 [00:22<00:00,  1.25it/s]\n"
     ]
    },
    {
     "name": "stdout",
     "output_type": "stream",
     "text": [
      "Epoch 12 | Train Loss: 596.0169 | Val Loss: 2687.9278 | Valid Accuracy : 70.2250 | Correct: 1217/1733 | F1 Score: 0.7560%\n"
     ]
    },
    {
     "name": "stderr",
     "output_type": "stream",
     "text": [
      "Epoch 13/20: 100%|██████████| 109/109 [01:13<00:00,  1.49it/s]\n",
      "Validation 13/20: 100%|██████████| 28/28 [00:22<00:00,  1.25it/s]\n"
     ]
    },
    {
     "name": "stdout",
     "output_type": "stream",
     "text": [
      "Epoch 13 | Train Loss: 472.4473 | Val Loss: 2672.1675 | Valid Accuracy : 71.7830 | Correct: 1244/1733 | F1 Score: 0.7543%\n"
     ]
    },
    {
     "name": "stderr",
     "output_type": "stream",
     "text": [
      "Epoch 14/20: 100%|██████████| 109/109 [01:12<00:00,  1.51it/s]\n",
      "Validation 14/20: 100%|██████████| 28/28 [00:22<00:00,  1.24it/s]\n"
     ]
    },
    {
     "name": "stdout",
     "output_type": "stream",
     "text": [
      "Epoch 14 | Train Loss: 563.6707 | Val Loss: 2496.9865 | Valid Accuracy : 70.4559 | Correct: 1221/1733 | F1 Score: 0.7714%\n"
     ]
    },
    {
     "name": "stderr",
     "output_type": "stream",
     "text": [
      "Epoch 15/20: 100%|██████████| 109/109 [01:14<00:00,  1.47it/s]\n",
      "Validation 15/20: 100%|██████████| 28/28 [00:22<00:00,  1.25it/s]\n"
     ]
    },
    {
     "name": "stdout",
     "output_type": "stream",
     "text": [
      "Epoch 15 | Train Loss: 405.2559 | Val Loss: 2766.2378 | Valid Accuracy : 70.1673 | Correct: 1216/1733 | F1 Score: 0.7630%\n"
     ]
    },
    {
     "name": "stderr",
     "output_type": "stream",
     "text": [
      "Epoch 16/20: 100%|██████████| 109/109 [01:13<00:00,  1.48it/s]\n",
      "Validation 16/20: 100%|██████████| 28/28 [00:23<00:00,  1.19it/s]\n"
     ]
    },
    {
     "name": "stdout",
     "output_type": "stream",
     "text": [
      "Epoch 16 | Train Loss: 153.8044 | Val Loss: 2582.0529 | Valid Accuracy : 73.0525 | Correct: 1266/1733 | F1 Score: 0.7903%\n"
     ]
    },
    {
     "name": "stderr",
     "output_type": "stream",
     "text": [
      "Epoch 17/20: 100%|██████████| 109/109 [01:18<00:00,  1.39it/s]\n",
      "Validation 17/20: 100%|██████████| 28/28 [00:22<00:00,  1.27it/s]\n"
     ]
    },
    {
     "name": "stdout",
     "output_type": "stream",
     "text": [
      "Epoch 17 | Train Loss: 57.1068 | Val Loss: 2640.9610 | Valid Accuracy : 72.9948 | Correct: 1265/1733 | F1 Score: 0.7906%\n"
     ]
    },
    {
     "name": "stderr",
     "output_type": "stream",
     "text": [
      "Epoch 18/20: 100%|██████████| 109/109 [01:11<00:00,  1.51it/s]\n",
      "Validation 18/20: 100%|██████████| 28/28 [00:21<00:00,  1.28it/s]\n"
     ]
    },
    {
     "name": "stdout",
     "output_type": "stream",
     "text": [
      "Epoch 18 | Train Loss: 25.3403 | Val Loss: 2695.7506 | Valid Accuracy : 74.3797 | Correct: 1289/1733 | F1 Score: 0.7937%\n"
     ]
    },
    {
     "name": "stderr",
     "output_type": "stream",
     "text": [
      "Epoch 19/20: 100%|██████████| 109/109 [01:12<00:00,  1.50it/s]\n",
      "Validation 19/20: 100%|██████████| 28/28 [00:22<00:00,  1.24it/s]\n"
     ]
    },
    {
     "name": "stdout",
     "output_type": "stream",
     "text": [
      "Epoch 19 | Train Loss: 13.2847 | Val Loss: 2917.8947 | Valid Accuracy : 74.9567 | Correct: 1299/1733 | F1 Score: 0.7832%\n"
     ]
    },
    {
     "name": "stderr",
     "output_type": "stream",
     "text": [
      "Epoch 20/20: 100%|██████████| 109/109 [01:12<00:00,  1.50it/s]\n",
      "Validation 20/20: 100%|██████████| 28/28 [00:22<00:00,  1.22it/s]"
     ]
    },
    {
     "name": "stdout",
     "output_type": "stream",
     "text": [
      "Epoch 20 | Train Loss: 10.3932 | Val Loss: 2888.7844 | Valid Accuracy : 75.3029 | Correct: 1305/1733 | F1 Score: 0.7839%\n"
     ]
    },
    {
     "name": "stderr",
     "output_type": "stream",
     "text": [
      "\n"
     ]
    }
   ],
   "source": [
    "loss_fn = nn.CrossEntropyLoss()\n",
    "optimizer = Adam(model.parameters(), lr=CFS['LR'])\n",
    "\n",
    "train_losses = []\n",
    "val_losses = []\n",
    "\n",
    "for epoch in range(CFS['EPOCHS']):\n",
    "    model.train()\n",
    "    train_loss = 0.0\n",
    "    preds_list = []\n",
    "    targets_list = []\n",
    "\n",
    "    for images, labels in tqdm(train_loader, desc=f\"Epoch {epoch+1}/{CFS['EPOCHS']}\"):\n",
    "        images = images.to(device)\n",
    "        labels = labels.to(device)\n",
    "\n",
    "        optimizer.zero_grad()\n",
    "        outputs = model(images)\n",
    "        loss = loss_fn(outputs, labels)\n",
    "        loss.backward()\n",
    "        optimizer.step()\n",
    "\n",
    "        train_loss += loss.item() * images.size(0)\n",
    "    train_losses.append(train_loss)\n",
    "\n",
    "    # Validation\n",
    "    model.eval()\n",
    "    val_loss = 0.0\n",
    "    correct = 0\n",
    "    total = 0\n",
    "\n",
    "    with torch.no_grad():\n",
    "        for images, labels in tqdm(val_loader, desc=f\"Validation {epoch+1}/{CFS['EPOCHS']}\"):\n",
    "            images = images.to(device)\n",
    "            labels = labels.to(device)\n",
    "\n",
    "            outputs = model(images)\n",
    "            loss = loss_fn(outputs, labels)\n",
    "            val_loss += loss.item() * images.size(0)\n",
    "\n",
    "            preds = outputs.argmax(dim=1)\n",
    "            preds_list.extend(preds.detach().cpu().numpy())\n",
    "            targets_list.extend(labels.detach().cpu().numpy())\n",
    "\n",
    "            correct += (preds == labels).sum().item()\n",
    "            total += labels.size(0)\n",
    "    val_losses.append(val_loss)\n",
    "\n",
    "    val_acc = correct / total *100\n",
    "    f1 = f1_score(targets_list, preds_list, average='macro')\n",
    "    # 결과 출력\n",
    "    print(f\"Epoch {epoch+1} | \"\n",
    "\t\t\tf\"Train Loss: {train_loss:.4f} | \"\n",
    "\t\t\tf\"Val Loss: {val_loss:.4f} | \"\n",
    "\t\t\tf\"Valid Accuracy : {val_acc:.4f} | \"\n",
    "\t\t\tf\"Correct: {correct}/1733 | \"\n",
    "\t\t\tf\"F1 Score: {f1:.4f}%\")"
   ]
  },
  {
   "cell_type": "markdown",
   "id": "8b327e20",
   "metadata": {},
   "source": [
    "## Training plot"
   ]
  },
  {
   "cell_type": "code",
   "execution_count": 15,
   "id": "0fcaeb84",
   "metadata": {},
   "outputs": [
    {
     "data": {
      "text/plain": [
       "[2156.1850118637085,\n",
       " 2060.3055812120438,\n",
       " 2073.2042323350906,\n",
       " 1921.4261521100998,\n",
       " 2265.9297852516174,\n",
       " 2084.957463502884,\n",
       " 2479.23659157753,\n",
       " 2289.458372116089,\n",
       " 2456.428326368332,\n",
       " 2629.4957473278046,\n",
       " 2635.386373400688,\n",
       " 2687.9278115034103,\n",
       " 2672.167493581772,\n",
       " 2496.986453294754,\n",
       " 2766.2378420829773,\n",
       " 2582.052932739258,\n",
       " 2640.9610476493835,\n",
       " 2695.7505831718445,\n",
       " 2917.8947372436523,\n",
       " 2888.784429550171]"
      ]
     },
     "execution_count": 15,
     "metadata": {},
     "output_type": "execute_result"
    }
   ],
   "source": [
    "val_losses"
   ]
  },
  {
   "cell_type": "code",
   "execution_count": 13,
   "id": "86eb2ce9",
   "metadata": {},
   "outputs": [
    {
     "data": {
      "image/png": "[encoded data removed]",
      "text/plain": [
       "<Figure size 1200x500 with 1 Axes>"
      ]
     },
     "metadata": {},
     "output_type": "display_data"
    }
   ],
   "source": [
    "import matplotlib.pyplot as plt\n",
    "\n",
    "def plot_training_history(train_losses, val_losses,):\n",
    "\n",
    "    plt.figure(figsize=(12, 5))\n",
    "\n",
    "    # Loss plot\n",
    "    plt.subplot(1, 2, 1)\n",
    "    plt.plot(train_losses, label='Train Loss')\n",
    "    plt.plot(val_losses, label='Validation Loss')\n",
    "    plt.xlabel('Epoch')\n",
    "    plt.ylabel('Loss')\n",
    "    plt.title(f'Loss per Epoch')\n",
    "    plt.legend()\n",
    "    plt.grid()\n",
    "\n",
    "    plt.tight_layout()\n",
    "    plt.show()\n",
    "\n",
    "# Plot training history\n",
    "plot_training_history(train_losses, val_losses)"
   ]
  },
  {
   "cell_type": "markdown",
   "id": "8f36844e",
   "metadata": {},
   "source": []
  },
  {
   "cell_type": "markdown",
   "id": "d674c582",
   "metadata": {},
   "source": [
    "## inference"
   ]
  },
  {
   "cell_type": "code",
   "execution_count": null,
   "id": "decd8ce7",
   "metadata": {},
   "outputs": [
    {
     "name": "stderr",
     "output_type": "stream",
     "text": [
      "Inference: 100%|██████████| 34/34 [00:26<00:00,  1.28it/s]"
     ]
    },
    {
     "name": "stdout",
     "output_type": "stream",
     "text": [
      "Test Accuracy: 74.8013%\n",
      "Test F1 Score: 0.7913%\n"
     ]
    },
    {
     "name": "stderr",
     "output_type": "stream",
     "text": [
      "\n"
     ]
    }
   ],
   "source": [
    "# Test dataset\n",
    "test_dataset = ImageDataset(test_path, transform=test_transform)\n",
    "# Test DataLoader\n",
    "test_loader = DataLoader(\n",
    "    test_dataset,\n",
    "    batch_size=CFS['BATCH_SIZE'],\n",
    "    shuffle=False,\n",
    "    num_workers=int(CFS['num_workers'] / 2),\n",
    "    pin_memory=True\n",
    ")\n",
    "# Inference\n",
    "model.eval()\n",
    "preds_list = []\n",
    "labels_list = []\n",
    "with torch.no_grad():\n",
    "    for images, labels in tqdm(test_loader, desc=\"Inference\"):\n",
    "        images = images.to(device)\n",
    "        labels = labels.to(device)\n",
    "        outputs = model(images)\n",
    "        preds = outputs.argmax(dim=1)\n",
    "        preds_list.extend(preds.detach().cpu().numpy())\n",
    "        labels_list.extend(labels.detach().cpu().numpy())\n",
    "\n",
    "\n",
    "        correct += (preds == labels).sum().item()\n",
    "        total += labels.size(0)\n",
    "\n",
    "    val_acc = correct / total *100\n",
    "    f1 = f1_score(labels_list, preds_list, average='macro')\n",
    "\n",
    "# 결과 출력\n",
    "print(f\"Test Accuracy: {val_acc:.4f}%\")\n",
    "print(f\"Test F1 Score: {f1:.4f}%\")\n",
    "\n"
   ]
  }
 ],
 "metadata": {
  "kernelspec": {
   "display_name": "base",
   "language": "python",
   "name": "python3"
  },
  "language_info": {
   "codemirror_mode": {
    "name": "ipython",
    "version": 3
   },
   "file_extension": ".py",
   "mimetype": "text/x-python",
   "name": "python",
   "nbconvert_exporter": "python",
   "pygments_lexer": "ipython3",
   "version": "3.10.13"
  }
 },
 "nbformat": 4,
 "nbformat_minor": 5
}
