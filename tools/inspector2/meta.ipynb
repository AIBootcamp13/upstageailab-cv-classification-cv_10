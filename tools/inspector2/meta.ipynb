{
 "cells": [
  {
   "cell_type": "markdown",
   "id": "2746d316-de4e-406f-9e16-1fb3be1c8262",
   "metadata": {},
   "source": [
    "# 대회 데이터셋 시각화 작업"
   ]
  },
  {
   "cell_type": "code",
   "execution_count": 89,
   "id": "85d278cb-7dde-4a88-9e02-ee33f24ed23a",
   "metadata": {},
   "outputs": [],
   "source": [
    "label_trans = {\n",
    "    \"account_number\":\"계좌번호\",\n",
    "    \"application_for_payment_of_pregnancy_medical_expenses\": \"임신/출산 신청서\",\n",
    "    \"car_dashboard\": \"자동차 계기판\",\n",
    "    \"confirmation_of_admission_and_discharge\": \"입/퇴원 확인서\",\n",
    "    \"diagnosis\": \"진단서\",\n",
    "    \"driver_lisence\": \"운전면허증\",\n",
    "    \"medical_bill_receipts\": \"진료/의료비 영수증\",\n",
    "    \"medical_outpatient_certificate\": \"외래/진료/통원/치료 확인서\",\n",
    "    \"national_id_card\": \"주민등록증\",\n",
    "    \"passport\": \"여권\",\n",
    "    \"payment_confirmation\": \"(진료비/약제비) 납입 확인서\",\n",
    "    \"pharmaceutical_receipt\": \"약국/영수증\",\n",
    "    \"prescription\": \"처방전\",\n",
    "    \"resume\": \"이력서\",\n",
    "    \"statement_of_opinion\": \"소견서\",\n",
    "    \"vehicle_registration_certificate\": \"자동차 등록증\",\n",
    "    \"vehicle_registration_plate\": \"자동차 번호판\"\n",
    "}"
   ]
  },
  {
   "cell_type": "code",
   "execution_count": 113,
   "id": "892d15db-bc50-4faa-a1cf-057f4c36c8cf",
   "metadata": {},
   "outputs": [],
   "source": [
    "import importlib\n",
    "import labs\n",
    "import inspector\n",
    "\n",
    "importlib.reload(labs)\n",
    "importlib.reload(inspector)\n",
    "\n",
    "from labs import *\n",
    "from inspector import *"
   ]
  },
  {
   "cell_type": "code",
   "execution_count": 91,
   "id": "02baba92-08ee-4a8a-b2b5-6352f67f0154",
   "metadata": {},
   "outputs": [],
   "source": [
    "ds_dir_path = \"/data/ephemeral/home/dataset/dtc/test/\"\n",
    "classes_path = \"/data/ephemeral/home/dataset/dtc/doc_classes.json\""
   ]
  },
  {
   "cell_type": "code",
   "execution_count": 114,
   "id": "4bf5bd96-f918-4abf-854b-907657897c33",
   "metadata": {},
   "outputs": [],
   "source": [
    "inspector = Inspector(ds_dir_path, \"./ddd.csv\", classes_path, label_trans)"
   ]
  },
  {
   "cell_type": "code",
   "execution_count": 115,
   "id": "ab23ea8b-e45d-4803-af1b-2d02c47ca8e4",
   "metadata": {},
   "outputs": [
    {
     "data": {
      "application/vnd.jupyter.widget-view+json": {
       "model_id": "230afeeed1f345c5a591e3490345c42e",
       "version_major": 2,
       "version_minor": 0
      },
      "text/plain": [
       "HTML(value=\"<b style='font-size: 24px;'>선택된 레이블: 자동차 계기판 (2)</b>\")"
      ]
     },
     "metadata": {},
     "output_type": "display_data"
    },
    {
     "data": {
      "application/vnd.jupyter.widget-view+json": {
       "model_id": "c0f857b97fa044b2999aaf9874804da8",
       "version_major": 2,
       "version_minor": 0
      },
      "text/plain": [
       "IntSlider(value=0, continuous_update=False, description='인덱스(0기준)', max=3139)"
      ]
     },
     "metadata": {},
     "output_type": "display_data"
    },
    {
     "data": {
      "application/vnd.jupyter.widget-view+json": {
       "model_id": "92416af4fa8a42c9b94e15f4fcc52d52",
       "version_major": 2,
       "version_minor": 0
      },
      "text/plain": [
       "HBox(children=(Button(description='PREV', layout=Layout(margin='0 10px 10px 0', width='80px'), style=ButtonSty…"
      ]
     },
     "metadata": {},
     "output_type": "display_data"
    },
    {
     "data": {
      "application/vnd.jupyter.widget-view+json": {
       "model_id": "b13939ed46944b539b1dc673fa5351b4",
       "version_major": 2,
       "version_minor": 0
      },
      "text/plain": [
       "HBox(children=(Button(description='계좌번호 (0)', layout=Layout(margin='3px 3px 3px 3px', max_width='300px', min_w…"
      ]
     },
     "metadata": {},
     "output_type": "display_data"
    },
    {
     "data": {
      "application/vnd.jupyter.widget-view+json": {
       "model_id": "0bc470d2606841d7a0e0e4d0c109e5f7",
       "version_major": 2,
       "version_minor": 0
      },
      "text/plain": [
       "HBox(children=(Button(description='진료/의료비 영수증 (6)', layout=Layout(margin='3px 3px 3px 3px', max_width='300px',…"
      ]
     },
     "metadata": {},
     "output_type": "display_data"
    },
    {
     "data": {
      "application/vnd.jupyter.widget-view+json": {
       "model_id": "99030f181006445ebc63e294fb28bc3b",
       "version_major": 2,
       "version_minor": 0
      },
      "text/plain": [
       "HBox(children=(Button(description='약국/영수증 (11)', layout=Layout(margin='3px 3px 3px 3px', max_width='300px', mi…"
      ]
     },
     "metadata": {},
     "output_type": "display_data"
    },
    {
     "data": {
      "application/vnd.jupyter.widget-view+json": {
       "model_id": "f1cd4fa4b5324832adea9ba80a3549e2",
       "version_major": 2,
       "version_minor": 0
      },
      "text/plain": [
       "Output()"
      ]
     },
     "metadata": {},
     "output_type": "display_data"
    }
   ],
   "source": [
    "inspector.inspect()"
   ]
  },
  {
   "cell_type": "markdown",
   "id": "b0f31243-7346-40c3-91b4-724191708c90",
   "metadata": {},
   "source": [
    "# csv 저장"
   ]
  },
  {
   "cell_type": "code",
   "execution_count": 116,
   "id": "42978391-22b0-4deb-8ecc-81d088b8601d",
   "metadata": {},
   "outputs": [
    {
     "name": "stdout",
     "output_type": "stream",
     "text": [
      ">>> 지금까지 직접 체크했던 요소들 >>>\n",
      "[{'filename': 'bd2da16d45946416.jpg', 'file_idx': 2300, 'prev_label_id': -1, 'prev_label_kor': '모름 (어려움)', 'next_label_id': -1, 'next_label_kor': '모름 (어려움)'}]\n"
     ]
    }
   ],
   "source": [
    "inspector.overwrite_csv()"
   ]
  },
  {
   "cell_type": "code",
   "execution_count": 106,
   "id": "0b6d33b8-f061-40b5-8b41-207d35ef0a5c",
   "metadata": {},
   "outputs": [
    {
     "data": {
      "text/plain": [
       "{}"
      ]
     },
     "execution_count": 106,
     "metadata": {},
     "output_type": "execute_result"
    }
   ],
   "source": [
    "inspector.etc_notes"
   ]
  },
  {
   "cell_type": "code",
   "execution_count": 107,
   "id": "d1bc9f43-a21c-4d2e-9b4d-6224b4dfc6e3",
   "metadata": {},
   "outputs": [
    {
     "data": {
      "text/plain": [
       "[{'filename': 'bd2da16d45946416.jpg',\n",
       "  'file_idx': 2300,\n",
       "  'prev_label_id': -1,\n",
       "  'prev_label_kor': '모름 (어려움)',\n",
       "  'next_label_id': 11,\n",
       "  'next_label_kor': '약국/영수증'}]"
      ]
     },
     "execution_count": 107,
     "metadata": {},
     "output_type": "execute_result"
    }
   ],
   "source": [
    "inspector.checked_items"
   ]
  }
 ],
 "metadata": {
  "kernelspec": {
   "display_name": "Python 3 (ipykernel)",
   "language": "python",
   "name": "python3"
  },
  "language_info": {
   "codemirror_mode": {
    "name": "ipython",
    "version": 3
   },
   "file_extension": ".py",
   "mimetype": "text/x-python",
   "name": "python",
   "nbconvert_exporter": "python",
   "pygments_lexer": "ipython3",
   "version": "3.12.10"
  }
 },
 "nbformat": 4,
 "nbformat_minor": 5
}
