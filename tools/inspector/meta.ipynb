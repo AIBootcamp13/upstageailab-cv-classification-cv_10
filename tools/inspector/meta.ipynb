{
 "cells": [
  {
   "cell_type": "markdown",
   "id": "2746d316-de4e-406f-9e16-1fb3be1c8262",
   "metadata": {},
   "source": [
    "# 대회 데이터셋 시각화 작업"
   ]
  },
  {
   "cell_type": "code",
   "execution_count": 2,
   "id": "892d15db-bc50-4faa-a1cf-057f4c36c8cf",
   "metadata": {},
   "outputs": [],
   "source": [
    "import importlib\n",
    "import labs\n",
    "\n",
    "importlib.reload(labs)\n",
    "from labs import *"
   ]
  },
  {
   "cell_type": "markdown",
   "id": "96d6b3c9-ff5d-41d7-a00e-9a2434766f1f",
   "metadata": {},
   "source": [
    "# 자기 할당 작업 가져오기"
   ]
  },
  {
   "cell_type": "code",
   "execution_count": 35,
   "id": "15d65e37-eeff-4ebe-8dde-86b861523206",
   "metadata": {},
   "outputs": [],
   "source": [
    "def get_my_turn(csv_path, idx=0, chunk_size=100, encoding='utf-8'):\n",
    "    targets = []\n",
    "    with open(csv_path, mode='r', encoding=encoding) as f:\n",
    "        reader = csv.DictReader(f)\n",
    "        for row in reader:\n",
    "            key = row['ID']\n",
    "            targets.append(key)\n",
    "\n",
    "    targets = sorted(targets)\n",
    "    start_idx = idx* chunk_size\n",
    "    \n",
    "    return targets[start_idx: start_idx+chunk_size]"
   ]
  },
  {
   "cell_type": "code",
   "execution_count": 111,
   "id": "8135fa0b-4ec5-47b4-9fd6-af4208f3f643",
   "metadata": {},
   "outputs": [],
   "source": [
    "targets = get_my_turn('./tts.csv', idx=3)"
   ]
  },
  {
   "cell_type": "code",
   "execution_count": 112,
   "id": "2c9394a5-7254-49f8-b1eb-0a57e8463b1e",
   "metadata": {},
   "outputs": [
    {
     "data": {
      "text/plain": [
       "['1a6b433e34bc9a9d.jpg', '1a6c830fc871d21a.jpg', '1a85c97dc8b3f6a1.jpg']"
      ]
     },
     "execution_count": 112,
     "metadata": {},
     "output_type": "execute_result"
    }
   ],
   "source": [
    "targets[:3]"
   ]
  },
  {
   "cell_type": "markdown",
   "id": "2c781b99-56f4-4370-a3a6-4aa2dac6b8a8",
   "metadata": {},
   "source": [
    "# 시각화 레이블"
   ]
  },
  {
   "cell_type": "code",
   "execution_count": 113,
   "id": "3fc16460-1f1a-4120-b3b4-6f9ee4c9ef55",
   "metadata": {},
   "outputs": [],
   "source": [
    "import ipywidgets as widgets\n",
    "from IPython.display import display, clear_output"
   ]
  },
  {
   "cell_type": "code",
   "execution_count": 142,
   "id": "3e4d4c0e-d0c4-4f71-8a0e-8c70a95f5232",
   "metadata": {},
   "outputs": [],
   "source": [
    "class Inspector:\n",
    "    def __init__(self, target_names, ds_dir_path, label_dict, label_trans, prev_answers=None):\n",
    "        self.image_paths = [os.path.join(ds_dir_path, n) for n in target_names]\n",
    "        self.label_dict = label_dict\n",
    "        self.label_trans = label_trans\n",
    "        \n",
    "        self.current_index = 0\n",
    "        self.label_answers = [None] * len(self.image_paths) if prev_answers is None else prev_answers\n",
    "        \n",
    "        self.buttons = []\n",
    "        self.next_button = widgets.Button(description='Next')\n",
    "        self.prev_button = widgets.Button(description='Previous')\n",
    "        self.selected_label_widget = widgets.HTML()\n",
    "        \n",
    "        self.out = widgets.Output()\n",
    "        self._setup_buttons()\n",
    "\n",
    "    def _setup_buttons(self):\n",
    "        self.buttons = []\n",
    "        for label, label_id in self.label_dict.items():\n",
    "            display_text = self.label_trans.get(label, label)\n",
    "            button = widgets.Button(\n",
    "                description=f\"{display_text} ({label_id})\",\n",
    "                layout=widgets.Layout(width='auto', min_width='80px', max_width='300px', margin='3px 3px 3px 3px'),\n",
    "                style={'button_color': '#f0f0f0', 'font_size': '18px'}\n",
    "            )\n",
    "            button.on_click(self._make_label_handler(label_id))\n",
    "            self.buttons.append(button)\n",
    "\n",
    "        # 모름 버튼 추가\n",
    "        button = widgets.Button(description='모름/어려움 (-1)',\n",
    "           layout=widgets.Layout(width='auto', min_width='80px', max_width='300px', margin='3px 3px 3px 3px'),\n",
    "            style={'button_color': '#f0f0f0', 'font_size': '18px'}\n",
    "        )\n",
    "        button.on_click(self._make_label_handler(-1))\n",
    "        self.buttons.append(button)\n",
    "            \n",
    "        self.next_button.layout = widgets.Layout(width='80px', margin='0 0 10px 10px')\n",
    "        self.prev_button.layout = widgets.Layout(width='80px', margin='0 10px 10px 0')\n",
    "        self.next_button.on_click(self._on_next)\n",
    "        self.prev_button.on_click(self._on_prev)\n",
    "\n",
    "\n",
    "    def _make_label_handler(self, label_id):\n",
    "        def handler(b):\n",
    "            item = (self.image_paths[self.current_index], label_id)\n",
    "            self.label_answers[self.current_index] = item\n",
    "\n",
    "            if label_id == -1:\n",
    "                kor_label = \"모름 (어려움)\"\n",
    "            else:\n",
    "                label_name = self._get_label_name(label_id)\n",
    "                kor_label = self.label_trans.get(label_name, label_name)\n",
    "                \n",
    "            self.selected_label_widget.value = f\"<b>선택된 레이블:</b> {kor_label} ({label_id})\"\n",
    "            with self.out:\n",
    "                clear_output(wait=True)\n",
    "                print(f\"Image {self.current_index+1}/{len(self.image_paths)} 레이블: '{kor_label}' ({label_id})\")\n",
    "                \n",
    "        return handler\n",
    "\n",
    "    def _get_label_name(self, label_id):\n",
    "        for k, v in self.label_dict.items():\n",
    "            if v == label_id:\n",
    "                return k\n",
    "        return str(label_id)\n",
    "\n",
    "    def _display_image(self):\n",
    "        with self.out:\n",
    "            clear_output(wait=True)\n",
    "            print(f\"Image {self.current_index+1} / {len(self.image_paths)}\")\n",
    "            path = self.image_paths[self.current_index]\n",
    "            if os.path.exists(path):\n",
    "                img = Image.open(path)\n",
    "                display(img)\n",
    "            else:\n",
    "                print(f\"Image file {path} does not exist.\")\n",
    "            \n",
    "        item = self.label_answers[self.current_index]\n",
    "        if item is not None:\n",
    "            # 하위 호환성 체크 및 상위 구조 변환\n",
    "            if type(item) is not tuple:\n",
    "                label_id = item\n",
    "                item = (self.image_paths[self.current_index], label_id)\n",
    "                self.label_answers[self.current_index] = item\n",
    "            else:\n",
    "                label_id = item[1]\n",
    "            label_name = self._get_label_name(label_id)\n",
    "            kor_label = self.label_trans.get(label_name, label_name)\n",
    "            self.selected_label_widget.value = f\"<b>선택된 레이블:</b> {kor_label} ({label_id})\"\n",
    "        else:\n",
    "            self.selected_label_widget.value = \"<b>선택된 레이블:</b> 없음\"\n",
    "\n",
    "    def _on_next(self, b):\n",
    "        if self.current_index < len(self.image_paths) - 1:\n",
    "            self.current_index += 1\n",
    "            self._show()\n",
    "        else:\n",
    "            with self.out:\n",
    "                print(\"This is the last image.\")\n",
    "\n",
    "    def _on_prev(self, b):\n",
    "        if self.current_index > 0:\n",
    "            self.current_index -= 1\n",
    "            self._show()\n",
    "        else:\n",
    "            with self.out:\n",
    "                print(\"This is the first image.\")\n",
    "\n",
    "    def _show(self):\n",
    "        self._display_image()\n",
    "        rows = []\n",
    "        n_per_row = 7\n",
    "        for i in range(0, len(self.buttons), n_per_row):\n",
    "            rows.append(widgets.HBox(self.buttons[i:i+n_per_row]))\n",
    "        nav = widgets.HBox([self.prev_button, self.next_button])\n",
    "        display(self.selected_label_widget)  # 최상단에 선택 레이블 표시\n",
    "        display(nav)\n",
    "        for row in rows:\n",
    "            display(row)\n",
    "        display(self.out)\n",
    "\n",
    "    def inspect(self):\n",
    "        self._show()"
   ]
  },
  {
   "cell_type": "code",
   "execution_count": 115,
   "id": "14b7483a-f687-4caa-8e56-d3f6a9a23cfc",
   "metadata": {},
   "outputs": [],
   "source": [
    "ds_dir_path = \"/data/ephemeral/home/dataset/dtc/test/\"\n",
    "label2id, id2label = make_doc_class_mapper(\"/data/ephemeral/home/dataset/dtc/doc_classes.json\")\n",
    "\n",
    "label_trans = {\n",
    "    \"account_number\":\"계좌번호\",\n",
    "    \"application_for_payment_of_pregnancy_medical_expenses\": \"임신 의료비 신청서\",\n",
    "    \"car_dashboard\": \"자동차 계기판\",\n",
    "    \"confirmation_of_admission_and_discharge\": \"입퇴원 확인서\",\n",
    "    \"diagnosis\": \"진단서\",\n",
    "    \"driver_lisence\": \"운전면허증\",\n",
    "    \"medical_bill_receipts\": \"의료비 영수증\",\n",
    "    \"medical_outpatient_certificate\": \"외래 진료(통원치료) 확인서\",\n",
    "    \"national_id_card\": \"주민등록증\",\n",
    "    \"passport\": \"여권\",\n",
    "    \"payment_confirmation\": \"납입 확인서\",\n",
    "    \"pharmaceutical_receipt\": \"약국 영수증\",\n",
    "    \"prescription\": \"처방전\",\n",
    "    \"resume\": \"이력서\",\n",
    "    \"statement_of_opinion\": \"소견서\",\n",
    "    \"vehicle_registration_certificate\": \"자동차 등록증\",\n",
    "    \"vehicle_registration_plate\": \"자동차 번호판\"\n",
    "}"
   ]
  },
  {
   "cell_type": "markdown",
   "id": "e5369ba3-aa73-4c7c-a8a5-7230f10c94ca",
   "metadata": {},
   "source": [
    "# 혼동\n",
    "- 약제비 영수증은 납입 확인서인가?"
   ]
  },
  {
   "cell_type": "code",
   "execution_count": 148,
   "id": "22f1f420-98b7-46f8-b6ea-380b3d8e3dd6",
   "metadata": {},
   "outputs": [],
   "source": [
    "inspector = Inspector(targets, ds_dir_path, label2id, label_trans, prev_answers)"
   ]
  },
  {
   "cell_type": "code",
   "execution_count": 149,
   "id": "ab23ea8b-e45d-4803-af1b-2d02c47ca8e4",
   "metadata": {},
   "outputs": [
    {
     "data": {
      "application/vnd.jupyter.widget-view+json": {
       "model_id": "ee630a67a0e1415190b2d1e301e0c2e3",
       "version_major": 2,
       "version_minor": 0
      },
      "text/plain": [
       "HTML(value='<b>선택된 레이블:</b> 소견서 (14)')"
      ]
     },
     "metadata": {},
     "output_type": "display_data"
    },
    {
     "data": {
      "application/vnd.jupyter.widget-view+json": {
       "model_id": "3eb28a3a678c4bacbad119b883eb9119",
       "version_major": 2,
       "version_minor": 0
      },
      "text/plain": [
       "HBox(children=(Button(description='Previous', layout=Layout(margin='0 10px 10px 0', width='80px'), style=Butto…"
      ]
     },
     "metadata": {},
     "output_type": "display_data"
    },
    {
     "data": {
      "application/vnd.jupyter.widget-view+json": {
       "model_id": "20fcc2f305b449638c9e76d8c49e48b9",
       "version_major": 2,
       "version_minor": 0
      },
      "text/plain": [
       "HBox(children=(Button(description='계좌번호 (0)', layout=Layout(margin='3px 3px 3px 3px', max_width='300px', min_w…"
      ]
     },
     "metadata": {},
     "output_type": "display_data"
    },
    {
     "data": {
      "application/vnd.jupyter.widget-view+json": {
       "model_id": "784d21ec6f9e4a0e921e9ebab2ece75a",
       "version_major": 2,
       "version_minor": 0
      },
      "text/plain": [
       "HBox(children=(Button(description='외래 진료(통원치료) 확인서 (7)', layout=Layout(margin='3px 3px 3px 3px', max_width='30…"
      ]
     },
     "metadata": {},
     "output_type": "display_data"
    },
    {
     "data": {
      "application/vnd.jupyter.widget-view+json": {
       "model_id": "e6a86d3e87e84ac8b17abbbe65fabbcc",
       "version_major": 2,
       "version_minor": 0
      },
      "text/plain": [
       "HBox(children=(Button(description='소견서 (14)', layout=Layout(margin='3px 3px 3px 3px', max_width='300px', min_w…"
      ]
     },
     "metadata": {},
     "output_type": "display_data"
    },
    {
     "data": {
      "application/vnd.jupyter.widget-view+json": {
       "model_id": "f01882e234e84529a28432a2503a3afd",
       "version_major": 2,
       "version_minor": 0
      },
      "text/plain": [
       "Output()"
      ]
     },
     "metadata": {},
     "output_type": "display_data"
    }
   ],
   "source": [
    "inspector.inspect()"
   ]
  },
  {
   "cell_type": "code",
   "execution_count": 122,
   "id": "f5245ecf-577f-4b8e-8812-95bd80b11b28",
   "metadata": {},
   "outputs": [],
   "source": [
    "prev_answers = inspector.label_answers"
   ]
  },
  {
   "cell_type": "code",
   "execution_count": 151,
   "id": "4b39b599-2812-4d13-a6e9-24cb25dd4923",
   "metadata": {},
   "outputs": [
    {
     "data": {
      "text/plain": [
       "[('/data/ephemeral/home/dataset/dtc/test/1a6b433e34bc9a9d.jpg', 14),\n",
       " ('/data/ephemeral/home/dataset/dtc/test/1a6c830fc871d21a.jpg', 11),\n",
       " ('/data/ephemeral/home/dataset/dtc/test/1a85c97dc8b3f6a1.jpg', 6),\n",
       " ('/data/ephemeral/home/dataset/dtc/test/1a8a90676e40da26.jpg', 5),\n",
       " ('/data/ephemeral/home/dataset/dtc/test/1ab901039c1c7950.jpg', 13),\n",
       " ('/data/ephemeral/home/dataset/dtc/test/1ac5d385313e414b.jpg', 16),\n",
       " ('/data/ephemeral/home/dataset/dtc/test/1acade48e30258c8.jpg', 13),\n",
       " ('/data/ephemeral/home/dataset/dtc/test/1acbab3967fe133b.jpg', 15),\n",
       " ('/data/ephemeral/home/dataset/dtc/test/1acc40852f90aa76.jpg', 5),\n",
       " ('/data/ephemeral/home/dataset/dtc/test/1ad9ed5392307687.jpg', 9),\n",
       " ('/data/ephemeral/home/dataset/dtc/test/1b45268518d29b07.jpg', 3),\n",
       " ('/data/ephemeral/home/dataset/dtc/test/1b5039c18de0c674.jpg', 6),\n",
       " ('/data/ephemeral/home/dataset/dtc/test/1b7d7bfb252d66f9.jpg', 2),\n",
       " ('/data/ephemeral/home/dataset/dtc/test/1b808e977d7299f9.jpg', 16),\n",
       " ('/data/ephemeral/home/dataset/dtc/test/1b8e376917bc35ce.jpg', 7),\n",
       " ('/data/ephemeral/home/dataset/dtc/test/1b947bc0edb568b4.jpg', 4),\n",
       " ('/data/ephemeral/home/dataset/dtc/test/1ba7449285ff620b.jpg', 7),\n",
       " ('/data/ephemeral/home/dataset/dtc/test/1bb537e6b94b3f45.jpg', 15),\n",
       " ('/data/ephemeral/home/dataset/dtc/test/1bb6d7110cdfc3e2.jpg', 8),\n",
       " ('/data/ephemeral/home/dataset/dtc/test/1bbf2e0ac36b9f42.jpg', 15),\n",
       " ('/data/ephemeral/home/dataset/dtc/test/1bd30eb70d45631b.jpg', 13),\n",
       " ('/data/ephemeral/home/dataset/dtc/test/1be21d6d633d2fd2.jpg', 15),\n",
       " ('/data/ephemeral/home/dataset/dtc/test/1c43b2800853a234.jpg', 11),\n",
       " ('/data/ephemeral/home/dataset/dtc/test/1c52170a4ee28dbb.jpg', 6),\n",
       " ('/data/ephemeral/home/dataset/dtc/test/1c5bb3ae72e3e504.jpg', 2),\n",
       " ('/data/ephemeral/home/dataset/dtc/test/1c6ae69790e0b81e.jpg', 12),\n",
       " ('/data/ephemeral/home/dataset/dtc/test/1c8bb84432130656.jpg', 16),\n",
       " ('/data/ephemeral/home/dataset/dtc/test/1c998a55d06802fd.jpg', 6),\n",
       " ('/data/ephemeral/home/dataset/dtc/test/1c9a4401ee709336.jpg', 5),\n",
       " ('/data/ephemeral/home/dataset/dtc/test/1cdce942c6dc2a9d.jpg', 9),\n",
       " ('/data/ephemeral/home/dataset/dtc/test/1d06929019c52691.jpg', 16),\n",
       " ('/data/ephemeral/home/dataset/dtc/test/1d2edb4d479d6a5d.jpg', 11),\n",
       " ('/data/ephemeral/home/dataset/dtc/test/1d348ea54f14a477.jpg', 16),\n",
       " ('/data/ephemeral/home/dataset/dtc/test/1d3680ff648085f8.jpg', 0),\n",
       " ('/data/ephemeral/home/dataset/dtc/test/1d50946bd454ac2e.jpg', 16),\n",
       " ('/data/ephemeral/home/dataset/dtc/test/1d51d5f0f1cf9f5d.jpg', 9),\n",
       " ('/data/ephemeral/home/dataset/dtc/test/1d7dde7dc94df6a6.jpg', 15),\n",
       " ('/data/ephemeral/home/dataset/dtc/test/1d80aca90d37a369.jpg', 10),\n",
       " ('/data/ephemeral/home/dataset/dtc/test/1d992d99f9029ba5.jpg', 6),\n",
       " ('/data/ephemeral/home/dataset/dtc/test/1db9948726a4e54c.jpg', 6),\n",
       " ('/data/ephemeral/home/dataset/dtc/test/1dba741efa983591.jpg', 1),\n",
       " ('/data/ephemeral/home/dataset/dtc/test/1dbee405b7797d67.jpg', 15),\n",
       " ('/data/ephemeral/home/dataset/dtc/test/1dcb8e3b09cc48b4.jpg', 1),\n",
       " ('/data/ephemeral/home/dataset/dtc/test/1dfce34ac940049d.jpg', 5),\n",
       " ('/data/ephemeral/home/dataset/dtc/test/1e1bb5109fa84944.jpg', 5),\n",
       " ('/data/ephemeral/home/dataset/dtc/test/1e4e41d0390179b2.jpg', -1),\n",
       " ('/data/ephemeral/home/dataset/dtc/test/1e5d739d49fa4321.jpg', 4),\n",
       " ('/data/ephemeral/home/dataset/dtc/test/1e5d990b03a4f231.jpg', 13),\n",
       " ('/data/ephemeral/home/dataset/dtc/test/1e5e16337b85dbc5.jpg', 3),\n",
       " ('/data/ephemeral/home/dataset/dtc/test/1e70f33017938358.jpg', 1),\n",
       " ('/data/ephemeral/home/dataset/dtc/test/1e7990ef09c250d0.jpg', 16),\n",
       " ('/data/ephemeral/home/dataset/dtc/test/1eb76fad8c66761a.jpg', 6),\n",
       " ('/data/ephemeral/home/dataset/dtc/test/1ebeda860d3a287f.jpg', 4),\n",
       " ('/data/ephemeral/home/dataset/dtc/test/1ec94cb9a2575262.jpg', 3),\n",
       " ('/data/ephemeral/home/dataset/dtc/test/1ec9764d52735fb2.jpg', 5),\n",
       " ('/data/ephemeral/home/dataset/dtc/test/1efca93753690930.jpg', 3),\n",
       " ('/data/ephemeral/home/dataset/dtc/test/1f193033ff3bfa6e.jpg', 12),\n",
       " ('/data/ephemeral/home/dataset/dtc/test/1f40e905a531d54f.jpg', 3),\n",
       " ('/data/ephemeral/home/dataset/dtc/test/1f4911a0ffc360c1.jpg', 7),\n",
       " ('/data/ephemeral/home/dataset/dtc/test/1f515ac075c236f6.jpg', 11),\n",
       " ('/data/ephemeral/home/dataset/dtc/test/1f5f0b704c5daf78.jpg', 7),\n",
       " ('/data/ephemeral/home/dataset/dtc/test/1f6d185789637715.jpg', 3),\n",
       " ('/data/ephemeral/home/dataset/dtc/test/1f79719f611f8200.jpg', 4),\n",
       " ('/data/ephemeral/home/dataset/dtc/test/1fabb54270ed69d4.jpg', 10),\n",
       " ('/data/ephemeral/home/dataset/dtc/test/1fb2c9fb03cebf17.jpg', 3),\n",
       " ('/data/ephemeral/home/dataset/dtc/test/1fbe8682aec6fe42.jpg', 4),\n",
       " ('/data/ephemeral/home/dataset/dtc/test/1fe42fadc6864b4d.jpg', 12),\n",
       " ('/data/ephemeral/home/dataset/dtc/test/1fe94ce180b093b7.jpg', -1),\n",
       " ('/data/ephemeral/home/dataset/dtc/test/200eaf17af79b1f3.jpg', 5),\n",
       " ('/data/ephemeral/home/dataset/dtc/test/201706b4bb7ce8ed.jpg', 9),\n",
       " ('/data/ephemeral/home/dataset/dtc/test/2037caa0bab5a1b3.jpg', 15),\n",
       " ('/data/ephemeral/home/dataset/dtc/test/203c8ca385e06dde.jpg', 13),\n",
       " ('/data/ephemeral/home/dataset/dtc/test/20488aeb2c524b39.jpg', 11),\n",
       " ('/data/ephemeral/home/dataset/dtc/test/20754dcbca2aaaa0.jpg', 6),\n",
       " ('/data/ephemeral/home/dataset/dtc/test/208a846e74340ebd.jpg', 9),\n",
       " ('/data/ephemeral/home/dataset/dtc/test/20a244cbfa552f9a.jpg', 1),\n",
       " ('/data/ephemeral/home/dataset/dtc/test/20be57c076c9136e.jpg', 8),\n",
       " ('/data/ephemeral/home/dataset/dtc/test/20c4d87dd513d951.jpg', 7),\n",
       " ('/data/ephemeral/home/dataset/dtc/test/20d2b2669a88eb37.jpg', 4),\n",
       " ('/data/ephemeral/home/dataset/dtc/test/2116515a1061933a.jpg', 16),\n",
       " ('/data/ephemeral/home/dataset/dtc/test/21226439da551c4a.jpg', 11),\n",
       " ('/data/ephemeral/home/dataset/dtc/test/214a647d9134c161.jpg', 0),\n",
       " ('/data/ephemeral/home/dataset/dtc/test/214fa42e99015c60.jpg', 6),\n",
       " ('/data/ephemeral/home/dataset/dtc/test/2151ee0c994c9423.jpg', 7),\n",
       " ('/data/ephemeral/home/dataset/dtc/test/215900568fcb6f12.jpg', 16),\n",
       " ('/data/ephemeral/home/dataset/dtc/test/2191c4bb2013b976.jpg', 10),\n",
       " ('/data/ephemeral/home/dataset/dtc/test/21b4bb9973d1a078.jpg', 4),\n",
       " ('/data/ephemeral/home/dataset/dtc/test/21f77f7a6a9d8754.jpg', 9),\n",
       " ('/data/ephemeral/home/dataset/dtc/test/220a586c2501bd4a.jpg', 0),\n",
       " ('/data/ephemeral/home/dataset/dtc/test/223f5e290fe98fd0.jpg', 13),\n",
       " ('/data/ephemeral/home/dataset/dtc/test/2272fc2dd41b4394.jpg', 9),\n",
       " ('/data/ephemeral/home/dataset/dtc/test/22c1ba18e0dc3bae.jpg', 2),\n",
       " ('/data/ephemeral/home/dataset/dtc/test/22d1bb69d10ac9d2.jpg', 13),\n",
       " ('/data/ephemeral/home/dataset/dtc/test/22dc0568d4c56907.jpg', 12),\n",
       " ('/data/ephemeral/home/dataset/dtc/test/22f636ff7d0692ce.jpg', 8),\n",
       " ('/data/ephemeral/home/dataset/dtc/test/22f8d8a6aa894258.jpg', 3),\n",
       " ('/data/ephemeral/home/dataset/dtc/test/2309b3bf7fbc766d.jpg', 0),\n",
       " ('/data/ephemeral/home/dataset/dtc/test/2314a77bf114c865.jpg', 2),\n",
       " ('/data/ephemeral/home/dataset/dtc/test/2315e66043df20e9.jpg', 4),\n",
       " ('/data/ephemeral/home/dataset/dtc/test/2356c559dbc775ab.jpg', 12)]"
      ]
     },
     "execution_count": 151,
     "metadata": {},
     "output_type": "execute_result"
    }
   ],
   "source": [
    "prev_answers"
   ]
  }
 ],
 "metadata": {
  "kernelspec": {
   "display_name": "Python 3 (ipykernel)",
   "language": "python",
   "name": "python3"
  },
  "language_info": {
   "codemirror_mode": {
    "name": "ipython",
    "version": 3
   },
   "file_extension": ".py",
   "mimetype": "text/x-python",
   "name": "python",
   "nbconvert_exporter": "python",
   "pygments_lexer": "ipython3",
   "version": "3.12.10"
  }
 },
 "nbformat": 4,
 "nbformat_minor": 5
}
