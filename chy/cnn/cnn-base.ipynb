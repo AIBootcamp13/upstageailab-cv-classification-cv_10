{
 "cells": [
  {
   "cell_type": "code",
   "execution_count": 1,
   "id": "2abff719-4661-45ce-8313-144423701d40",
   "metadata": {},
   "outputs": [],
   "source": [
    "import importlib\n",
    "import ds\n",
    "import augs\n",
    "import labs\n",
    "\n",
    "importlib.reload(ds)\n",
    "importlib.reload(labs)\n",
    "importlib.reload(augs)\n",
    "\n",
    "from ds import *\n",
    "from labs import *\n",
    "from augs import *"
   ]
  },
  {
   "cell_type": "code",
   "execution_count": 2,
   "id": "f583b398-3085-443e-833b-f92ff513b91e",
   "metadata": {},
   "outputs": [
    {
     "name": "stderr",
     "output_type": "stream",
     "text": [
      "Seed set to 777\n"
     ]
    },
    {
     "data": {
      "text/plain": [
       "777"
      ]
     },
     "execution_count": 2,
     "metadata": {},
     "output_type": "execute_result"
    }
   ],
   "source": [
    "pl.seed_everything(777)"
   ]
  },
  {
   "cell_type": "markdown",
   "id": "2913c0cb-01dd-460d-98fc-e5f2702c255f",
   "metadata": {},
   "source": [
    "# ConvNextV2\n",
    "- https://huggingface.co/facebook/convnextv2-large-22k-384"
   ]
  },
  {
   "cell_type": "code",
   "execution_count": 3,
   "id": "fc8fb015-a4b7-46af-86e7-79eda45d2f5b",
   "metadata": {},
   "outputs": [],
   "source": [
    "model_name = 'facebook/convnextv2-large-22k-384'"
   ]
  },
  {
   "cell_type": "markdown",
   "id": "ae305cca-c5b4-4ddd-8229-44776efef5aa",
   "metadata": {},
   "source": [
    "# DEF. Dataset and DataModule "
   ]
  },
  {
   "cell_type": "code",
   "execution_count": 4,
   "id": "9da6e065-e32f-494b-a127-27e367606f58",
   "metadata": {},
   "outputs": [],
   "source": [
    "def prepare_example(image_path, processor, transform):\n",
    "    # load image\n",
    "    image = cv2.imread(image_path)\n",
    "    image = cv2.cvtColor(image, cv2.COLOR_BGR2RGB)\n",
    "\n",
    "    # load metas\n",
    "    json_path = Path(image_path).with_suffix(\".json\")\n",
    "    meta = load_json(json_path)\n",
    "\n",
    "    augmented = transform(image=image)\n",
    "    image = augmented['image']\n",
    "    \n",
    "    return processor(image, return_tensors=\"pt\")"
   ]
  },
  {
   "cell_type": "code",
   "execution_count": 5,
   "id": "bca021a8-d798-4263-b819-d16446630e26",
   "metadata": {},
   "outputs": [],
   "source": [
    "class D4Dataset(Dataset):\n",
    "    def __init__(self, image_paths, targets, processor, transform=None):\n",
    "        self.targets = targets\n",
    "        self.processor = processor\n",
    "        self.transform = transform\n",
    "        self.image_paths = image_paths\n",
    "\n",
    "    def __len__(self):\n",
    "        return len(self.image_paths)\n",
    "\n",
    "    def __getitem__(self, idx):\n",
    "        image_path = self.image_paths[idx]\n",
    "        encoding = prepare_example(image_path, self.processor, self.transform)\n",
    "        target = int(self.targets[os.path.basename(image_path)])\n",
    "\n",
    "        return {\n",
    "            \"pixel_values\": encoding[\"pixel_values\"].squeeze(0),\n",
    "            \"labels\": torch.tensor(target, dtype=torch.long)\n",
    "        }"
   ]
  },
  {
   "cell_type": "code",
   "execution_count": 6,
   "id": "44e83f36-eae8-4744-b69a-1b8e35542933",
   "metadata": {},
   "outputs": [],
   "source": [
    "class D4DataModule(LightningDataModule):\n",
    "    def __init__(\n",
    "        self,\n",
    "        train_paths,\n",
    "        valid_paths,\n",
    "        trial_paths,\n",
    "        target_dict,\n",
    "        processor,\n",
    "        batch_size=24,\n",
    "        num_workers=6,\n",
    "    ):\n",
    "        super().__init__()\n",
    "        self.train_paths = train_paths\n",
    "        self.valid_paths = valid_paths\n",
    "        self.trial_paths = trial_paths\n",
    "        self.targets = target_dict\n",
    "        self.processor = processor\n",
    "        self.batch_size = batch_size\n",
    "        self.num_workers = num_workers\n",
    "        self.transforms = Transforms(target_size=384)\n",
    "\n",
    "    def setup(self, stage=None):\n",
    "        if stage == \"fit\":\n",
    "            self.train_ds = D4Dataset(self.train_paths, \n",
    "                                      self.targets, \n",
    "                                      self.processor,\n",
    "                                      self.transforms.make(100))\n",
    "            self.valid_ds = D4Dataset(self.valid_paths, \n",
    "                                      self.targets, \n",
    "                                      self.processor,\n",
    "                                      self.transforms.make(100))\n",
    "        if stage == \"test\" or stage is None:\n",
    "            self.trial_ds = D4Dataset(self.trial_paths, self.targets, self.processor)\n",
    "\n",
    "    def train_dataloader(self):\n",
    "        return DataLoader(\n",
    "            self.train_ds,\n",
    "            batch_size=self.batch_size,\n",
    "            shuffle=True,\n",
    "            num_workers=self.num_workers,\n",
    "            collate_fn=default_data_collator\n",
    "        )\n",
    "\n",
    "    def val_dataloader(self):\n",
    "        return DataLoader(\n",
    "            self.valid_ds,\n",
    "            batch_size=self.batch_size,\n",
    "            shuffle=False,\n",
    "            num_workers=self.num_workers,\n",
    "            collate_fn=default_data_collator \n",
    "        )\n",
    "\n",
    "    def test_dataloader(self):\n",
    "        return DataLoader(\n",
    "            self.trial_ds,\n",
    "            batch_size=self.batch_size,\n",
    "            shuffle=False,\n",
    "            num_workers=self.num_workers,\n",
    "            collate_fn=default_data_collator \n",
    "        )"
   ]
  },
  {
   "cell_type": "markdown",
   "id": "cfd45ba1-cf97-4b28-af13-5d6d51bf5935",
   "metadata": {},
   "source": [
    "# INIT. DM"
   ]
  },
  {
   "cell_type": "code",
   "execution_count": 7,
   "id": "244706ef-68df-49c4-8a03-5ce376dbce28",
   "metadata": {},
   "outputs": [
    {
     "data": {
      "application/vnd.jupyter.widget-view+json": {
       "model_id": "9bbeec89a042496699b18ce9c53ac891",
       "version_major": 2,
       "version_minor": 0
      },
      "text/plain": [
       "0it [00:00, ?it/s]"
      ]
     },
     "metadata": {},
     "output_type": "display_data"
    }
   ],
   "source": [
    "image_paths = grep_files(\"/data/ephemeral/home/dataset/dtc/train\", exts=['jpg'])\n",
    "target_dict = load_csv_targets(\"/data/ephemeral/home/dataset/dtc/train.csv\")\n",
    "label_path = \"/data/ephemeral/home/dataset/dtc/doc_classes.json\"\n",
    "label2id, id2label = make_doc_class_mapper(label_path)"
   ]
  },
  {
   "cell_type": "code",
   "execution_count": 8,
   "id": "6b49d4de-55fa-4a15-8e97-ba29dfe440fd",
   "metadata": {},
   "outputs": [
    {
     "name": "stderr",
     "output_type": "stream",
     "text": [
      "Using a slow image processor as `use_fast` is unset and a slow processor was saved with this model. `use_fast=True` will be the default behavior in v4.52, even if the model was saved with a slow processor. This will result in minor differences in outputs. You'll still be able to use a slow processor with `use_fast=False`.\n"
     ]
    }
   ],
   "source": [
    "from transformers import AutoImageProcessor\n",
    "processor = AutoImageProcessor.from_pretrained('facebook/convnextv2-large-22k-384')"
   ]
  },
  {
   "cell_type": "code",
   "execution_count": 9,
   "id": "5833dd72-ceb6-469f-922b-cc670e47bc12",
   "metadata": {},
   "outputs": [],
   "source": [
    "train_images, valid_images, trial_images = split_ds(image_paths,  train_ratio=0.90,  valid_ratio=0.10, trial_ratio=0, seed=777)\n",
    "\n",
    "data_module = D4DataModule(\n",
    "    train_paths=train_images,\n",
    "    valid_paths=valid_images,\n",
    "    trial_paths=trial_images,\n",
    "    target_dict=target_dict,\n",
    "    processor=processor,\n",
    "    batch_size=16,\n",
    "    num_workers=8\n",
    ")"
   ]
  },
  {
   "cell_type": "markdown",
   "id": "0ae712d2-7102-4593-99a7-42e9fbe8ce8e",
   "metadata": {},
   "source": [
    "# DEF) Model"
   ]
  },
  {
   "cell_type": "code",
   "execution_count": 11,
   "id": "20dd9da8-13ec-43c3-9d91-2723454bcd1d",
   "metadata": {},
   "outputs": [],
   "source": [
    "from transformers import ConvNextV2ForImageClassification"
   ]
  },
  {
   "cell_type": "code",
   "execution_count": 12,
   "id": "25441067-7c05-45b9-a27d-f1975b40820c",
   "metadata": {},
   "outputs": [],
   "source": [
    "class CNN(pl.LightningModule):\n",
    "    def __init__(self, label2id, id2label):\n",
    "        super().__init__()\n",
    "        num_classes = len(label2id)\n",
    "        self.model = ConvNextV2ForImageClassification.from_pretrained('facebook/convnextv2-large-22k-384', num_labels=num_classes, ignore_mismatched_sizes=True)\n",
    "        self.model.train()\n",
    "        self.model.config.label2id = label2id\n",
    "        self.model.config.id2label = id2label\n",
    "\n",
    "        self.loss_fn = DiceLoss()\n",
    "        self.dice_weight = 0.4\n",
    "\n",
    "        metrics = {\n",
    "            \"accuracy\": Accuracy(task=\"multiclass\", num_classes=num_classes),\n",
    "            \"per-class-accuracy\" : MulticlassAccuracy(num_classes=num_classes, average=None),\n",
    "            \"roc_auc\": AUROC(task=\"multiclass\", num_classes=num_classes),\n",
    "            \"precision\": Precision(task=\"multiclass\", num_classes=num_classes, average=\"macro\"),\n",
    "            \"recall\": Recall(task=\"multiclass\", num_classes=num_classes, average=\"macro\"),\n",
    "            \"F1\": F1Score(task=\"multiclass\", num_classes=num_classes, average=\"macro\"),\n",
    "        }\n",
    "\n",
    "        self.train_metrics = MetricCollection(metrics, prefix=\"train_\")\n",
    "        self.valid_metrics = MetricCollection(metrics, prefix=\"valid_\")\n",
    "\n",
    "    def forward(self, pixel_values, labels=None):\n",
    "        return self.model(pixel_values=pixel_values, labels=labels)\n",
    "        \n",
    "    def configure_optimizers(self):\n",
    "        optimizer = torch.optim.AdamW(self.model.parameters(), lr=1e-5, weight_decay=1e-4)\n",
    "        scheduler = ReduceLROnPlateau(optimizer, mode='min', factor=0.25, patience=3)\n",
    "\n",
    "        scheduler_delay = ConstantLR(optimizer, factor=1.0, total_iters=30)\n",
    "        scheduler_warmup = LinearLR(optimizer, start_factor=0.01, total_iters=10)\n",
    "        total_training_steps = 1000 # 총 학습 스텝 수\n",
    "        scheduler_main = CosineAnnealingLR(optimizer, T_max=total_training_steps - 40, eta_min=1e-6)\n",
    "        final_scheduler = SequentialLR(\n",
    "            optimizer,\n",
    "            schedulers=[scheduler_delay, scheduler_warmup, scheduler_main],\n",
    "            milestones=[40, 50]\n",
    "        )\n",
    "        \n",
    "        return {\n",
    "            \"optimizer\": optimizer,\n",
    "            \"lr_scheduler\": {\n",
    "                \"scheduler\": final_scheduler,\n",
    "                \"interval\": \"step\",\n",
    "                \"monitor\": \"valid_loss\"\n",
    "            }\n",
    "        }\n",
    "     \n",
    "    def feed(self, batch):\n",
    "        return self(batch[\"pixel_values\"], batch[\"labels\"])\n",
    "        \n",
    "    def training_step(self, batch, batch_idx):\n",
    "        labels = batch[\"labels\"]\n",
    "        outputs = self.feed(batch)\n",
    "    \n",
    "        self.train_metrics.update(outputs.logits, labels)\n",
    "        \n",
    "        self.log(\"train_loss\", outputs.loss, prog_bar=True)\n",
    "        for name, metric in self.train_metrics.items():\n",
    "            if name == 'train_per-class-accuracy':\n",
    "                continue\n",
    "            self.log(name, metric.compute(), prog_bar=True)\n",
    "\n",
    "        # lr 기록\n",
    "        optimizer = self.optimizers().optimizer\n",
    "        current_lr = optimizer.param_groups[0]['lr']\n",
    "        self.log('lr', current_lr)\n",
    "\n",
    "        # custom loss\n",
    "        loss = outputs.loss + self.loss_fn(outputs.logits, labels) * self.dice_weight\n",
    "        \n",
    "        return loss\n",
    "\n",
    "    def validation_step(self, batch, batch_idx):\n",
    "        labels = batch[\"labels\"]\n",
    "        outputs = self.feed(batch)\n",
    "\n",
    "        self.valid_metrics.update(outputs.logits, labels)\n",
    "        self.log(\"valid_loss\", outputs.loss, prog_bar=True)\n",
    "        for name, metric in self.valid_metrics.items():\n",
    "            if name == 'valid_per-class-accuracy':\n",
    "                continue\n",
    "            self.log(name, metric.compute(), prog_bar=True)\n",
    "            \n",
    "        return outputs.loss\n",
    "   \n",
    "    def on_train_epoch_start(self):\n",
    "        self.train_metrics.reset()\n",
    "        \n",
    "    def on_validation_epoch_start(self):\n",
    "        self.valid_metrics.reset()\n",
    "\n",
    "    def on_train_epoch_end(self):\n",
    "        metrics = self.train_metrics.compute()\n",
    "        for name, value in metrics.items():\n",
    "            if name == 'train_per-class-accuracy':\n",
    "                continue\n",
    "            self.log(name, value)\n",
    "                \n",
    "        per_class_acc = metrics['train_per-class-accuracy']\n",
    "        for i, acc in enumerate(per_class_acc):\n",
    "            label_name = self.model.config.id2label[i]\n",
    "            self.log(f'train_acc_class_{label_name}', acc)\n",
    "    \n",
    "    def on_validation_epoch_end(self):\n",
    "        try:\n",
    "            metrics = self.valid_metrics.compute()\n",
    "            for name, value in metrics.items():\n",
    "                if name == 'valid_per-class-accuracy':\n",
    "                    continue\n",
    "                self.log(name, value)\n",
    "                \n",
    "            per_class_acc = metrics['valid_per-class-accuracy']\n",
    "            for i, acc in enumerate(per_class_acc):\n",
    "                label_name = self.model.config.id2label[i]\n",
    "                self.log(f'valid_acc_class_{label_name}', acc)\n",
    "        except Exception as e:\n",
    "            print(f\"Metric compute error: {e}\")"
   ]
  },
  {
   "cell_type": "markdown",
   "id": "1d5ae25e-2f63-465f-a174-8d9885d9445f",
   "metadata": {},
   "source": [
    "# Init Dashboard"
   ]
  },
  {
   "cell_type": "code",
   "execution_count": 13,
   "id": "c25b4435-5830-4cb9-92f5-9cea9a00f910",
   "metadata": {},
   "outputs": [
    {
     "name": "stderr",
     "output_type": "stream",
     "text": [
      "\u001b[34m\u001b[1mwandb\u001b[0m: Currently logged in as: \u001b[33mcatchy\u001b[0m (\u001b[33mcat2oon\u001b[0m) to \u001b[32mhttps://api.wandb.ai\u001b[0m. Use \u001b[1m`wandb login --relogin`\u001b[0m to force relogin\n"
     ]
    },
    {
     "data": {
      "text/html": [
       "Tracking run with wandb version 0.20.1"
      ],
      "text/plain": [
       "<IPython.core.display.HTML object>"
      ]
     },
     "metadata": {},
     "output_type": "display_data"
    },
    {
     "data": {
      "text/html": [
       "Run data is saved locally in <code>/data/ephemeral/home/mlc/code/docsy/cnn/wandb/run-20250706_182231-3u9bu3el</code>"
      ],
      "text/plain": [
       "<IPython.core.display.HTML object>"
      ]
     },
     "metadata": {},
     "output_type": "display_data"
    },
    {
     "data": {
      "text/html": [
       "Syncing run <strong><a href='https://wandb.ai/cat2oon/docsy/runs/3u9bu3el' target=\"_blank\">exp-convnext-large-384-easy-rotator-dice-loss-add</a></strong> to <a href='https://wandb.ai/cat2oon/docsy' target=\"_blank\">Weights & Biases</a> (<a href='https://wandb.me/developer-guide' target=\"_blank\">docs</a>)<br>"
      ],
      "text/plain": [
       "<IPython.core.display.HTML object>"
      ]
     },
     "metadata": {},
     "output_type": "display_data"
    },
    {
     "data": {
      "text/html": [
       " View project at <a href='https://wandb.ai/cat2oon/docsy' target=\"_blank\">https://wandb.ai/cat2oon/docsy</a>"
      ],
      "text/plain": [
       "<IPython.core.display.HTML object>"
      ]
     },
     "metadata": {},
     "output_type": "display_data"
    },
    {
     "data": {
      "text/html": [
       " View run at <a href='https://wandb.ai/cat2oon/docsy/runs/3u9bu3el' target=\"_blank\">https://wandb.ai/cat2oon/docsy/runs/3u9bu3el</a>"
      ],
      "text/plain": [
       "<IPython.core.display.HTML object>"
      ]
     },
     "metadata": {},
     "output_type": "display_data"
    }
   ],
   "source": [
    "exp_name = 'exp-convnext-large-384-easy-rotator-dice-loss-add'\n",
    "wandb.init(project='docsy', name=exp_name)\n",
    "wandb_logger = WandbLogger()"
   ]
  },
  {
   "cell_type": "markdown",
   "id": "2dbd8e2e-e0c4-467a-aeaf-d4421531f665",
   "metadata": {},
   "source": [
    "# RUN. Train"
   ]
  },
  {
   "cell_type": "code",
   "execution_count": 14,
   "id": "00c26c73-a116-4f24-b402-b6e7b6a52d6d",
   "metadata": {},
   "outputs": [],
   "source": [
    "from pytorch_lightning.callbacks import EarlyStopping, ModelCheckpoint\n",
    "from torchmetrics import MetricCollection, Accuracy, F1Score, Precision, Recall, AUROC\n",
    "from torchmetrics.classification import MulticlassAccuracy\n",
    "from torch.optim.lr_scheduler import ReduceLROnPlateau, ConstantLR, LinearLR, CosineAnnealingLR, CosineAnnealingWarmRestarts, SequentialLR"
   ]
  },
  {
   "cell_type": "code",
   "execution_count": 15,
   "id": "b92995c1-7962-4108-b6e8-1b44b6cacf79",
   "metadata": {
    "scrolled": true
   },
   "outputs": [
    {
     "name": "stderr",
     "output_type": "stream",
     "text": [
      "Using 16bit Automatic Mixed Precision (AMP)\n",
      "GPU available: True (cuda), used: True\n",
      "TPU available: False, using: 0 TPU cores\n",
      "HPU available: False, using: 0 HPUs\n",
      "Some weights of ConvNextV2ForImageClassification were not initialized from the model checkpoint at facebook/convnextv2-large-22k-384 and are newly initialized because the shapes did not match:\n",
      "- classifier.bias: found shape torch.Size([1000]) in the checkpoint and torch.Size([17]) in the model instantiated\n",
      "- classifier.weight: found shape torch.Size([1000, 1536]) in the checkpoint and torch.Size([17, 1536]) in the model instantiated\n",
      "You should probably TRAIN this model on a down-stream task to be able to use it for predictions and inference.\n",
      "You are using a CUDA device ('NVIDIA GeForce RTX 3090') that has Tensor Cores. To properly utilize them, you should set `torch.set_float32_matmul_precision('medium' | 'high')` which will trade-off precision for performance. For more details, read https://pytorch.org/docs/stable/generated/torch.set_float32_matmul_precision.html#torch.set_float32_matmul_precision\n",
      "/data/ephemeral/home/.pyenv/versions/py12/lib/python3.12/site-packages/pytorch_lightning/loggers/wandb.py:397: There is a wandb run already in progress and newly created instances of `WandbLogger` will reuse this run. If this is not desired, call `wandb.finish()` before instantiating `WandbLogger`.\n",
      "LOCAL_RANK: 0 - CUDA_VISIBLE_DEVICES: [0]\n",
      "\n",
      "  | Name          | Type                             | Params | Mode \n",
      "---------------------------------------------------------------------------\n",
      "0 | model         | ConvNextV2ForImageClassification | 196 M  | train\n",
      "1 | loss_fn       | DiceLoss                         | 0      | train\n",
      "2 | train_metrics | MetricCollection                 | 0      | train\n",
      "3 | valid_metrics | MetricCollection                 | 0      | train\n",
      "---------------------------------------------------------------------------\n",
      "196 M     Trainable params\n",
      "0         Non-trainable params\n",
      "196 M     Total params\n",
      "785.784   Total estimated model params size (MB)\n",
      "324       Modules in train mode\n",
      "0         Modules in eval mode\n"
     ]
    },
    {
     "data": {
      "application/vnd.jupyter.widget-view+json": {
       "model_id": "667b6a7918d544d4aca4054e0578816d",
       "version_major": 2,
       "version_minor": 0
      },
      "text/plain": [
       "Sanity Checking: |          | 0/? [00:00<?, ?it/s]"
      ]
     },
     "metadata": {},
     "output_type": "display_data"
    },
    {
     "name": "stderr",
     "output_type": "stream",
     "text": [
      "/data/ephemeral/home/.pyenv/versions/py12/lib/python3.12/site-packages/torchmetrics/utilities/prints.py:43: UserWarning: No positive samples in targets, true positive value should be meaningless. Returning zero tensor in true positive score\n",
      "  warnings.warn(*args, **kwargs)\n"
     ]
    },
    {
     "data": {
      "application/vnd.jupyter.widget-view+json": {
       "model_id": "b8a49494682c484ab465900afcc49607",
       "version_major": 2,
       "version_minor": 0
      },
      "text/plain": [
       "Training: |          | 0/? [00:00<?, ?it/s]"
      ]
     },
     "metadata": {},
     "output_type": "display_data"
    },
    {
     "data": {
      "application/vnd.jupyter.widget-view+json": {
       "model_id": "ac20597fb8ac417ba18a03504551ca5e",
       "version_major": 2,
       "version_minor": 0
      },
      "text/plain": [
       "Validation: |          | 0/? [00:00<?, ?it/s]"
      ]
     },
     "metadata": {},
     "output_type": "display_data"
    },
    {
     "data": {
      "application/vnd.jupyter.widget-view+json": {
       "model_id": "f9ba8d4f33894261a4e9f5bbb7749d0b",
       "version_major": 2,
       "version_minor": 0
      },
      "text/plain": [
       "Validation: |          | 0/? [00:00<?, ?it/s]"
      ]
     },
     "metadata": {},
     "output_type": "display_data"
    },
    {
     "data": {
      "application/vnd.jupyter.widget-view+json": {
       "model_id": "1dc0c07136784028a962e7a91956e12c",
       "version_major": 2,
       "version_minor": 0
      },
      "text/plain": [
       "Validation: |          | 0/? [00:00<?, ?it/s]"
      ]
     },
     "metadata": {},
     "output_type": "display_data"
    },
    {
     "data": {
      "application/vnd.jupyter.widget-view+json": {
       "model_id": "1ee1b6085999453ba203dcd39b29bb5d",
       "version_major": 2,
       "version_minor": 0
      },
      "text/plain": [
       "Validation: |          | 0/? [00:00<?, ?it/s]"
      ]
     },
     "metadata": {},
     "output_type": "display_data"
    },
    {
     "data": {
      "application/vnd.jupyter.widget-view+json": {
       "model_id": "08f2974f3a2644c0b541236179cc2eee",
       "version_major": 2,
       "version_minor": 0
      },
      "text/plain": [
       "Validation: |          | 0/? [00:00<?, ?it/s]"
      ]
     },
     "metadata": {},
     "output_type": "display_data"
    },
    {
     "data": {
      "application/vnd.jupyter.widget-view+json": {
       "model_id": "e4b960b5bdba4f60ab10c36708272365",
       "version_major": 2,
       "version_minor": 0
      },
      "text/plain": [
       "Validation: |          | 0/? [00:00<?, ?it/s]"
      ]
     },
     "metadata": {},
     "output_type": "display_data"
    },
    {
     "data": {
      "application/vnd.jupyter.widget-view+json": {
       "model_id": "9ac00bf06fcd4749bf4e0b88730b5078",
       "version_major": 2,
       "version_minor": 0
      },
      "text/plain": [
       "Validation: |          | 0/? [00:00<?, ?it/s]"
      ]
     },
     "metadata": {},
     "output_type": "display_data"
    },
    {
     "data": {
      "application/vnd.jupyter.widget-view+json": {
       "model_id": "95ee33988a3f4387a5f4c500e5c20fcc",
       "version_major": 2,
       "version_minor": 0
      },
      "text/plain": [
       "Validation: |          | 0/? [00:00<?, ?it/s]"
      ]
     },
     "metadata": {},
     "output_type": "display_data"
    },
    {
     "data": {
      "application/vnd.jupyter.widget-view+json": {
       "model_id": "cdbb2cfc26764d388e77adf2f60e70b7",
       "version_major": 2,
       "version_minor": 0
      },
      "text/plain": [
       "Validation: |          | 0/? [00:00<?, ?it/s]"
      ]
     },
     "metadata": {},
     "output_type": "display_data"
    },
    {
     "data": {
      "application/vnd.jupyter.widget-view+json": {
       "model_id": "aae569752bc047dd82d5b8226d24f6aa",
       "version_major": 2,
       "version_minor": 0
      },
      "text/plain": [
       "Validation: |          | 0/? [00:00<?, ?it/s]"
      ]
     },
     "metadata": {},
     "output_type": "display_data"
    },
    {
     "data": {
      "application/vnd.jupyter.widget-view+json": {
       "model_id": "0fe931b6db5a4722ac3b499b6e8924f4",
       "version_major": 2,
       "version_minor": 0
      },
      "text/plain": [
       "Validation: |          | 0/? [00:00<?, ?it/s]"
      ]
     },
     "metadata": {},
     "output_type": "display_data"
    },
    {
     "data": {
      "application/vnd.jupyter.widget-view+json": {
       "model_id": "38e02a05e77248b8a21762ff6df19b85",
       "version_major": 2,
       "version_minor": 0
      },
      "text/plain": [
       "Validation: |          | 0/? [00:00<?, ?it/s]"
      ]
     },
     "metadata": {},
     "output_type": "display_data"
    },
    {
     "data": {
      "application/vnd.jupyter.widget-view+json": {
       "model_id": "d7e601e529fc456181116ad9248e4495",
       "version_major": 2,
       "version_minor": 0
      },
      "text/plain": [
       "Validation: |          | 0/? [00:00<?, ?it/s]"
      ]
     },
     "metadata": {},
     "output_type": "display_data"
    },
    {
     "data": {
      "application/vnd.jupyter.widget-view+json": {
       "model_id": "8fea16dbf22346ba91e200a0c99b1ecd",
       "version_major": 2,
       "version_minor": 0
      },
      "text/plain": [
       "Validation: |          | 0/? [00:00<?, ?it/s]"
      ]
     },
     "metadata": {},
     "output_type": "display_data"
    },
    {
     "data": {
      "application/vnd.jupyter.widget-view+json": {
       "model_id": "c520afa32e414f94911940a74c52c8cb",
       "version_major": 2,
       "version_minor": 0
      },
      "text/plain": [
       "Validation: |          | 0/? [00:00<?, ?it/s]"
      ]
     },
     "metadata": {},
     "output_type": "display_data"
    },
    {
     "data": {
      "application/vnd.jupyter.widget-view+json": {
       "model_id": "2f79f551ab104d11a8e1719110234367",
       "version_major": 2,
       "version_minor": 0
      },
      "text/plain": [
       "Validation: |          | 0/? [00:00<?, ?it/s]"
      ]
     },
     "metadata": {},
     "output_type": "display_data"
    },
    {
     "data": {
      "application/vnd.jupyter.widget-view+json": {
       "model_id": "ba2073c455fe44aea78b6b9bb3c70fb7",
       "version_major": 2,
       "version_minor": 0
      },
      "text/plain": [
       "Validation: |          | 0/? [00:00<?, ?it/s]"
      ]
     },
     "metadata": {},
     "output_type": "display_data"
    },
    {
     "data": {
      "application/vnd.jupyter.widget-view+json": {
       "model_id": "caf97534971a4026992e87b01b3d5f02",
       "version_major": 2,
       "version_minor": 0
      },
      "text/plain": [
       "Validation: |          | 0/? [00:00<?, ?it/s]"
      ]
     },
     "metadata": {},
     "output_type": "display_data"
    },
    {
     "data": {
      "application/vnd.jupyter.widget-view+json": {
       "model_id": "7702f7cd9ad740c39a449d95190a08fe",
       "version_major": 2,
       "version_minor": 0
      },
      "text/plain": [
       "Validation: |          | 0/? [00:00<?, ?it/s]"
      ]
     },
     "metadata": {},
     "output_type": "display_data"
    },
    {
     "data": {
      "application/vnd.jupyter.widget-view+json": {
       "model_id": "4d5ba0825824453eaa3848a37fdfaeef",
       "version_major": 2,
       "version_minor": 0
      },
      "text/plain": [
       "Validation: |          | 0/? [00:00<?, ?it/s]"
      ]
     },
     "metadata": {},
     "output_type": "display_data"
    },
    {
     "data": {
      "application/vnd.jupyter.widget-view+json": {
       "model_id": "b7ffd86409144fafa83262fdf96e5c89",
       "version_major": 2,
       "version_minor": 0
      },
      "text/plain": [
       "Validation: |          | 0/? [00:00<?, ?it/s]"
      ]
     },
     "metadata": {},
     "output_type": "display_data"
    },
    {
     "data": {
      "application/vnd.jupyter.widget-view+json": {
       "model_id": "364680d2ad654a3fb54f2aec77c7ab9e",
       "version_major": 2,
       "version_minor": 0
      },
      "text/plain": [
       "Validation: |          | 0/? [00:00<?, ?it/s]"
      ]
     },
     "metadata": {},
     "output_type": "display_data"
    },
    {
     "data": {
      "application/vnd.jupyter.widget-view+json": {
       "model_id": "73118293b7de4f1fa291a4a91c4ac24a",
       "version_major": 2,
       "version_minor": 0
      },
      "text/plain": [
       "Validation: |          | 0/? [00:00<?, ?it/s]"
      ]
     },
     "metadata": {},
     "output_type": "display_data"
    },
    {
     "data": {
      "application/vnd.jupyter.widget-view+json": {
       "model_id": "9db93e177d20480095112486dc602cf4",
       "version_major": 2,
       "version_minor": 0
      },
      "text/plain": [
       "Validation: |          | 0/? [00:00<?, ?it/s]"
      ]
     },
     "metadata": {},
     "output_type": "display_data"
    },
    {
     "data": {
      "application/vnd.jupyter.widget-view+json": {
       "model_id": "e9e9080cf9b34ba0a9b07f5035641c41",
       "version_major": 2,
       "version_minor": 0
      },
      "text/plain": [
       "Validation: |          | 0/? [00:00<?, ?it/s]"
      ]
     },
     "metadata": {},
     "output_type": "display_data"
    },
    {
     "data": {
      "application/vnd.jupyter.widget-view+json": {
       "model_id": "9e49076bfe73402eb3549a6ca7ed47dd",
       "version_major": 2,
       "version_minor": 0
      },
      "text/plain": [
       "Validation: |          | 0/? [00:00<?, ?it/s]"
      ]
     },
     "metadata": {},
     "output_type": "display_data"
    },
    {
     "data": {
      "application/vnd.jupyter.widget-view+json": {
       "model_id": "63c0fdc4ae6f41a39e6c2ceaae395fd6",
       "version_major": 2,
       "version_minor": 0
      },
      "text/plain": [
       "Validation: |          | 0/? [00:00<?, ?it/s]"
      ]
     },
     "metadata": {},
     "output_type": "display_data"
    },
    {
     "data": {
      "application/vnd.jupyter.widget-view+json": {
       "model_id": "cecceb002acd45a3a1085e7f92ea5fab",
       "version_major": 2,
       "version_minor": 0
      },
      "text/plain": [
       "Validation: |          | 0/? [00:00<?, ?it/s]"
      ]
     },
     "metadata": {},
     "output_type": "display_data"
    },
    {
     "data": {
      "application/vnd.jupyter.widget-view+json": {
       "model_id": "ba7988f319f64d9aa80f29b153db3b06",
       "version_major": 2,
       "version_minor": 0
      },
      "text/plain": [
       "Validation: |          | 0/? [00:00<?, ?it/s]"
      ]
     },
     "metadata": {},
     "output_type": "display_data"
    },
    {
     "data": {
      "application/vnd.jupyter.widget-view+json": {
       "model_id": "8025d40cf00b43daa0a119d5affde7b1",
       "version_major": 2,
       "version_minor": 0
      },
      "text/plain": [
       "Validation: |          | 0/? [00:00<?, ?it/s]"
      ]
     },
     "metadata": {},
     "output_type": "display_data"
    },
    {
     "data": {
      "application/vnd.jupyter.widget-view+json": {
       "model_id": "f4ca94e32f71452587faf986cf19d7f0",
       "version_major": 2,
       "version_minor": 0
      },
      "text/plain": [
       "Validation: |          | 0/? [00:00<?, ?it/s]"
      ]
     },
     "metadata": {},
     "output_type": "display_data"
    },
    {
     "data": {
      "application/vnd.jupyter.widget-view+json": {
       "model_id": "ec49c83f1b444192b65fedab3ec9c10e",
       "version_major": 2,
       "version_minor": 0
      },
      "text/plain": [
       "Validation: |          | 0/? [00:00<?, ?it/s]"
      ]
     },
     "metadata": {},
     "output_type": "display_data"
    },
    {
     "data": {
      "application/vnd.jupyter.widget-view+json": {
       "model_id": "098f02c767f8419b8d5b48f5887aaa66",
       "version_major": 2,
       "version_minor": 0
      },
      "text/plain": [
       "Validation: |          | 0/? [00:00<?, ?it/s]"
      ]
     },
     "metadata": {},
     "output_type": "display_data"
    },
    {
     "data": {
      "application/vnd.jupyter.widget-view+json": {
       "model_id": "7648ec622bac4a4ba0a9b697da7a1243",
       "version_major": 2,
       "version_minor": 0
      },
      "text/plain": [
       "Validation: |          | 0/? [00:00<?, ?it/s]"
      ]
     },
     "metadata": {},
     "output_type": "display_data"
    },
    {
     "data": {
      "application/vnd.jupyter.widget-view+json": {
       "model_id": "afc219b1346f4d8f8a8432f2976b7d3b",
       "version_major": 2,
       "version_minor": 0
      },
      "text/plain": [
       "Validation: |          | 0/? [00:00<?, ?it/s]"
      ]
     },
     "metadata": {},
     "output_type": "display_data"
    },
    {
     "data": {
      "application/vnd.jupyter.widget-view+json": {
       "model_id": "823d0e267a12454ebab98dedda61b1e9",
       "version_major": 2,
       "version_minor": 0
      },
      "text/plain": [
       "Validation: |          | 0/? [00:00<?, ?it/s]"
      ]
     },
     "metadata": {},
     "output_type": "display_data"
    },
    {
     "data": {
      "application/vnd.jupyter.widget-view+json": {
       "model_id": "57cfa79d31ac43389dc6079e30029316",
       "version_major": 2,
       "version_minor": 0
      },
      "text/plain": [
       "Validation: |          | 0/? [00:00<?, ?it/s]"
      ]
     },
     "metadata": {},
     "output_type": "display_data"
    },
    {
     "data": {
      "application/vnd.jupyter.widget-view+json": {
       "model_id": "0b9b77cfc2b047fd825565bc31b3121a",
       "version_major": 2,
       "version_minor": 0
      },
      "text/plain": [
       "Validation: |          | 0/? [00:00<?, ?it/s]"
      ]
     },
     "metadata": {},
     "output_type": "display_data"
    },
    {
     "data": {
      "application/vnd.jupyter.widget-view+json": {
       "model_id": "9d110066596e497fa0f24b25ba0c6579",
       "version_major": 2,
       "version_minor": 0
      },
      "text/plain": [
       "Validation: |          | 0/? [00:00<?, ?it/s]"
      ]
     },
     "metadata": {},
     "output_type": "display_data"
    },
    {
     "data": {
      "application/vnd.jupyter.widget-view+json": {
       "model_id": "3a4a1329c19e4ee8bcf5925a29b5fe1c",
       "version_major": 2,
       "version_minor": 0
      },
      "text/plain": [
       "Validation: |          | 0/? [00:00<?, ?it/s]"
      ]
     },
     "metadata": {},
     "output_type": "display_data"
    },
    {
     "data": {
      "application/vnd.jupyter.widget-view+json": {
       "model_id": "71273a50a8184417af81540bcf02987b",
       "version_major": 2,
       "version_minor": 0
      },
      "text/plain": [
       "Validation: |          | 0/? [00:00<?, ?it/s]"
      ]
     },
     "metadata": {},
     "output_type": "display_data"
    },
    {
     "data": {
      "application/vnd.jupyter.widget-view+json": {
       "model_id": "4206d9d7fb624b52ab4d665d0048a85e",
       "version_major": 2,
       "version_minor": 0
      },
      "text/plain": [
       "Validation: |          | 0/? [00:00<?, ?it/s]"
      ]
     },
     "metadata": {},
     "output_type": "display_data"
    },
    {
     "data": {
      "application/vnd.jupyter.widget-view+json": {
       "model_id": "d0e8f9e517064866833256305ce59314",
       "version_major": 2,
       "version_minor": 0
      },
      "text/plain": [
       "Validation: |          | 0/? [00:00<?, ?it/s]"
      ]
     },
     "metadata": {},
     "output_type": "display_data"
    },
    {
     "data": {
      "application/vnd.jupyter.widget-view+json": {
       "model_id": "e83d0ada98f84d5a9bce2777060f634f",
       "version_major": 2,
       "version_minor": 0
      },
      "text/plain": [
       "Validation: |          | 0/? [00:00<?, ?it/s]"
      ]
     },
     "metadata": {},
     "output_type": "display_data"
    },
    {
     "data": {
      "application/vnd.jupyter.widget-view+json": {
       "model_id": "300c1553374f4f50afc1490c473343e6",
       "version_major": 2,
       "version_minor": 0
      },
      "text/plain": [
       "Validation: |          | 0/? [00:00<?, ?it/s]"
      ]
     },
     "metadata": {},
     "output_type": "display_data"
    },
    {
     "data": {
      "application/vnd.jupyter.widget-view+json": {
       "model_id": "fdf952ba420c4859a6d9ab15cf98f9ed",
       "version_major": 2,
       "version_minor": 0
      },
      "text/plain": [
       "Validation: |          | 0/? [00:00<?, ?it/s]"
      ]
     },
     "metadata": {},
     "output_type": "display_data"
    },
    {
     "data": {
      "application/vnd.jupyter.widget-view+json": {
       "model_id": "5a214e81bd9b4cd2b83225cdb5035202",
       "version_major": 2,
       "version_minor": 0
      },
      "text/plain": [
       "Validation: |          | 0/? [00:00<?, ?it/s]"
      ]
     },
     "metadata": {},
     "output_type": "display_data"
    },
    {
     "data": {
      "application/vnd.jupyter.widget-view+json": {
       "model_id": "c6ef871895464b40a3f91ce833fe8366",
       "version_major": 2,
       "version_minor": 0
      },
      "text/plain": [
       "Validation: |          | 0/? [00:00<?, ?it/s]"
      ]
     },
     "metadata": {},
     "output_type": "display_data"
    },
    {
     "data": {
      "application/vnd.jupyter.widget-view+json": {
       "model_id": "bc812d2be1d747d5aa19510493f813a0",
       "version_major": 2,
       "version_minor": 0
      },
      "text/plain": [
       "Validation: |          | 0/? [00:00<?, ?it/s]"
      ]
     },
     "metadata": {},
     "output_type": "display_data"
    },
    {
     "data": {
      "application/vnd.jupyter.widget-view+json": {
       "model_id": "c778fe3953704a30960e4e32a674a4a4",
       "version_major": 2,
       "version_minor": 0
      },
      "text/plain": [
       "Validation: |          | 0/? [00:00<?, ?it/s]"
      ]
     },
     "metadata": {},
     "output_type": "display_data"
    },
    {
     "data": {
      "application/vnd.jupyter.widget-view+json": {
       "model_id": "f3c34b5de4ba48faa1d0a1dbd9ddeccc",
       "version_major": 2,
       "version_minor": 0
      },
      "text/plain": [
       "Validation: |          | 0/? [00:00<?, ?it/s]"
      ]
     },
     "metadata": {},
     "output_type": "display_data"
    },
    {
     "data": {
      "application/vnd.jupyter.widget-view+json": {
       "model_id": "1ac447e954d6424f8cdaf476b5c93572",
       "version_major": 2,
       "version_minor": 0
      },
      "text/plain": [
       "Validation: |          | 0/? [00:00<?, ?it/s]"
      ]
     },
     "metadata": {},
     "output_type": "display_data"
    },
    {
     "data": {
      "application/vnd.jupyter.widget-view+json": {
       "model_id": "7a5173fd1aca4070ab9a52674b734fa2",
       "version_major": 2,
       "version_minor": 0
      },
      "text/plain": [
       "Validation: |          | 0/? [00:00<?, ?it/s]"
      ]
     },
     "metadata": {},
     "output_type": "display_data"
    },
    {
     "data": {
      "application/vnd.jupyter.widget-view+json": {
       "model_id": "efa4f38328834eafa32216e0c144a33e",
       "version_major": 2,
       "version_minor": 0
      },
      "text/plain": [
       "Validation: |          | 0/? [00:00<?, ?it/s]"
      ]
     },
     "metadata": {},
     "output_type": "display_data"
    },
    {
     "data": {
      "application/vnd.jupyter.widget-view+json": {
       "model_id": "e49b632f49e9422697e2063980895a8f",
       "version_major": 2,
       "version_minor": 0
      },
      "text/plain": [
       "Validation: |          | 0/? [00:00<?, ?it/s]"
      ]
     },
     "metadata": {},
     "output_type": "display_data"
    },
    {
     "data": {
      "application/vnd.jupyter.widget-view+json": {
       "model_id": "31431eb8bd984b559c3a133a5da7863e",
       "version_major": 2,
       "version_minor": 0
      },
      "text/plain": [
       "Validation: |          | 0/? [00:00<?, ?it/s]"
      ]
     },
     "metadata": {},
     "output_type": "display_data"
    },
    {
     "data": {
      "application/vnd.jupyter.widget-view+json": {
       "model_id": "83419f6f49334fde86f1e6c4663cb32f",
       "version_major": 2,
       "version_minor": 0
      },
      "text/plain": [
       "Validation: |          | 0/? [00:00<?, ?it/s]"
      ]
     },
     "metadata": {},
     "output_type": "display_data"
    },
    {
     "data": {
      "application/vnd.jupyter.widget-view+json": {
       "model_id": "29201b6df8174ca0827d355ff3ba65e7",
       "version_major": 2,
       "version_minor": 0
      },
      "text/plain": [
       "Validation: |          | 0/? [00:00<?, ?it/s]"
      ]
     },
     "metadata": {},
     "output_type": "display_data"
    },
    {
     "data": {
      "application/vnd.jupyter.widget-view+json": {
       "model_id": "982eaad347b54c77a2b50ab56f218067",
       "version_major": 2,
       "version_minor": 0
      },
      "text/plain": [
       "Validation: |          | 0/? [00:00<?, ?it/s]"
      ]
     },
     "metadata": {},
     "output_type": "display_data"
    },
    {
     "data": {
      "application/vnd.jupyter.widget-view+json": {
       "model_id": "4a54a72aaebc4468a8e9452fa70b41da",
       "version_major": 2,
       "version_minor": 0
      },
      "text/plain": [
       "Validation: |          | 0/? [00:00<?, ?it/s]"
      ]
     },
     "metadata": {},
     "output_type": "display_data"
    },
    {
     "data": {
      "application/vnd.jupyter.widget-view+json": {
       "model_id": "8308a2ffec394922a5cc39021e7ca2cd",
       "version_major": 2,
       "version_minor": 0
      },
      "text/plain": [
       "Validation: |          | 0/? [00:00<?, ?it/s]"
      ]
     },
     "metadata": {},
     "output_type": "display_data"
    },
    {
     "data": {
      "application/vnd.jupyter.widget-view+json": {
       "model_id": "d9ee4fde5f0e4487bba4a7c61681bc0d",
       "version_major": 2,
       "version_minor": 0
      },
      "text/plain": [
       "Validation: |          | 0/? [00:00<?, ?it/s]"
      ]
     },
     "metadata": {},
     "output_type": "display_data"
    },
    {
     "data": {
      "application/vnd.jupyter.widget-view+json": {
       "model_id": "bb4a9513be364fa4b43447ac894eaff4",
       "version_major": 2,
       "version_minor": 0
      },
      "text/plain": [
       "Validation: |          | 0/? [00:00<?, ?it/s]"
      ]
     },
     "metadata": {},
     "output_type": "display_data"
    },
    {
     "data": {
      "application/vnd.jupyter.widget-view+json": {
       "model_id": "65ea445d87c64aedbfde9706f90dcbe8",
       "version_major": 2,
       "version_minor": 0
      },
      "text/plain": [
       "Validation: |          | 0/? [00:00<?, ?it/s]"
      ]
     },
     "metadata": {},
     "output_type": "display_data"
    },
    {
     "data": {
      "application/vnd.jupyter.widget-view+json": {
       "model_id": "b641c9581549432a8cd3133ed187c208",
       "version_major": 2,
       "version_minor": 0
      },
      "text/plain": [
       "Validation: |          | 0/? [00:00<?, ?it/s]"
      ]
     },
     "metadata": {},
     "output_type": "display_data"
    },
    {
     "data": {
      "application/vnd.jupyter.widget-view+json": {
       "model_id": "b4f1120c5c4048239fe5f5bda633d34b",
       "version_major": 2,
       "version_minor": 0
      },
      "text/plain": [
       "Validation: |          | 0/? [00:00<?, ?it/s]"
      ]
     },
     "metadata": {},
     "output_type": "display_data"
    },
    {
     "data": {
      "application/vnd.jupyter.widget-view+json": {
       "model_id": "d8b73465c1a24826870456e6fb2f707e",
       "version_major": 2,
       "version_minor": 0
      },
      "text/plain": [
       "Validation: |          | 0/? [00:00<?, ?it/s]"
      ]
     },
     "metadata": {},
     "output_type": "display_data"
    },
    {
     "data": {
      "application/vnd.jupyter.widget-view+json": {
       "model_id": "6c4e1e1fc5804d69b57eefecb348eda8",
       "version_major": 2,
       "version_minor": 0
      },
      "text/plain": [
       "Validation: |          | 0/? [00:00<?, ?it/s]"
      ]
     },
     "metadata": {},
     "output_type": "display_data"
    },
    {
     "data": {
      "application/vnd.jupyter.widget-view+json": {
       "model_id": "844a1c54a61f454e9a5550cdedabf405",
       "version_major": 2,
       "version_minor": 0
      },
      "text/plain": [
       "Validation: |          | 0/? [00:00<?, ?it/s]"
      ]
     },
     "metadata": {},
     "output_type": "display_data"
    },
    {
     "data": {
      "application/vnd.jupyter.widget-view+json": {
       "model_id": "40443e15b4c84308a8d9c405ac9a3315",
       "version_major": 2,
       "version_minor": 0
      },
      "text/plain": [
       "Validation: |          | 0/? [00:00<?, ?it/s]"
      ]
     },
     "metadata": {},
     "output_type": "display_data"
    },
    {
     "data": {
      "application/vnd.jupyter.widget-view+json": {
       "model_id": "702d442589e140b982aa3bffc6857753",
       "version_major": 2,
       "version_minor": 0
      },
      "text/plain": [
       "Validation: |          | 0/? [00:00<?, ?it/s]"
      ]
     },
     "metadata": {},
     "output_type": "display_data"
    },
    {
     "data": {
      "application/vnd.jupyter.widget-view+json": {
       "model_id": "debe0ca061f64c3e95db144ced5a4a54",
       "version_major": 2,
       "version_minor": 0
      },
      "text/plain": [
       "Validation: |          | 0/? [00:00<?, ?it/s]"
      ]
     },
     "metadata": {},
     "output_type": "display_data"
    },
    {
     "data": {
      "application/vnd.jupyter.widget-view+json": {
       "model_id": "1319dbc1f5374523b1b685836ef40cb6",
       "version_major": 2,
       "version_minor": 0
      },
      "text/plain": [
       "Validation: |          | 0/? [00:00<?, ?it/s]"
      ]
     },
     "metadata": {},
     "output_type": "display_data"
    },
    {
     "data": {
      "application/vnd.jupyter.widget-view+json": {
       "model_id": "39ecefebbb384ea59e6de9f39d3b4cd5",
       "version_major": 2,
       "version_minor": 0
      },
      "text/plain": [
       "Validation: |          | 0/? [00:00<?, ?it/s]"
      ]
     },
     "metadata": {},
     "output_type": "display_data"
    },
    {
     "data": {
      "application/vnd.jupyter.widget-view+json": {
       "model_id": "77921873def44da8b7415afb30478519",
       "version_major": 2,
       "version_minor": 0
      },
      "text/plain": [
       "Validation: |          | 0/? [00:00<?, ?it/s]"
      ]
     },
     "metadata": {},
     "output_type": "display_data"
    },
    {
     "data": {
      "application/vnd.jupyter.widget-view+json": {
       "model_id": "b55ed25b49914bbabec7409ad0f98fd9",
       "version_major": 2,
       "version_minor": 0
      },
      "text/plain": [
       "Validation: |          | 0/? [00:00<?, ?it/s]"
      ]
     },
     "metadata": {},
     "output_type": "display_data"
    },
    {
     "data": {
      "application/vnd.jupyter.widget-view+json": {
       "model_id": "2c202ea1640042df8165a4601d0e937a",
       "version_major": 2,
       "version_minor": 0
      },
      "text/plain": [
       "Validation: |          | 0/? [00:00<?, ?it/s]"
      ]
     },
     "metadata": {},
     "output_type": "display_data"
    },
    {
     "data": {
      "application/vnd.jupyter.widget-view+json": {
       "model_id": "1cca7b0c76cf4b509214f578f4e5f2d4",
       "version_major": 2,
       "version_minor": 0
      },
      "text/plain": [
       "Validation: |          | 0/? [00:00<?, ?it/s]"
      ]
     },
     "metadata": {},
     "output_type": "display_data"
    },
    {
     "data": {
      "application/vnd.jupyter.widget-view+json": {
       "model_id": "ec1fe9e389984e4ba72888d60d3a2493",
       "version_major": 2,
       "version_minor": 0
      },
      "text/plain": [
       "Validation: |          | 0/? [00:00<?, ?it/s]"
      ]
     },
     "metadata": {},
     "output_type": "display_data"
    },
    {
     "data": {
      "application/vnd.jupyter.widget-view+json": {
       "model_id": "8d09871534bd4c5fb9052a556b173885",
       "version_major": 2,
       "version_minor": 0
      },
      "text/plain": [
       "Validation: |          | 0/? [00:00<?, ?it/s]"
      ]
     },
     "metadata": {},
     "output_type": "display_data"
    },
    {
     "data": {
      "application/vnd.jupyter.widget-view+json": {
       "model_id": "2c63f6f108ad45dca20db574518c13fe",
       "version_major": 2,
       "version_minor": 0
      },
      "text/plain": [
       "Validation: |          | 0/? [00:00<?, ?it/s]"
      ]
     },
     "metadata": {},
     "output_type": "display_data"
    },
    {
     "data": {
      "application/vnd.jupyter.widget-view+json": {
       "model_id": "6977453ad6404acab33dcc4cdf8605cd",
       "version_major": 2,
       "version_minor": 0
      },
      "text/plain": [
       "Validation: |          | 0/? [00:00<?, ?it/s]"
      ]
     },
     "metadata": {},
     "output_type": "display_data"
    },
    {
     "data": {
      "application/vnd.jupyter.widget-view+json": {
       "model_id": "7d6013f35ac24c55863391f225cb0f73",
       "version_major": 2,
       "version_minor": 0
      },
      "text/plain": [
       "Validation: |          | 0/? [00:00<?, ?it/s]"
      ]
     },
     "metadata": {},
     "output_type": "display_data"
    },
    {
     "data": {
      "application/vnd.jupyter.widget-view+json": {
       "model_id": "42786f2557e94e85bfbbc96a90b8bb26",
       "version_major": 2,
       "version_minor": 0
      },
      "text/plain": [
       "Validation: |          | 0/? [00:00<?, ?it/s]"
      ]
     },
     "metadata": {},
     "output_type": "display_data"
    },
    {
     "data": {
      "application/vnd.jupyter.widget-view+json": {
       "model_id": "920dd5e892ee45dbb04fe5a0d09e6cad",
       "version_major": 2,
       "version_minor": 0
      },
      "text/plain": [
       "Validation: |          | 0/? [00:00<?, ?it/s]"
      ]
     },
     "metadata": {},
     "output_type": "display_data"
    },
    {
     "data": {
      "application/vnd.jupyter.widget-view+json": {
       "model_id": "96893ceca9a7447089729148b146d74e",
       "version_major": 2,
       "version_minor": 0
      },
      "text/plain": [
       "Validation: |          | 0/? [00:00<?, ?it/s]"
      ]
     },
     "metadata": {},
     "output_type": "display_data"
    },
    {
     "data": {
      "application/vnd.jupyter.widget-view+json": {
       "model_id": "74344720eb8c4e49b8047bde2e2dfa91",
       "version_major": 2,
       "version_minor": 0
      },
      "text/plain": [
       "Validation: |          | 0/? [00:00<?, ?it/s]"
      ]
     },
     "metadata": {},
     "output_type": "display_data"
    },
    {
     "data": {
      "application/vnd.jupyter.widget-view+json": {
       "model_id": "86dfea28c3d146f68917df4c0bf51fd4",
       "version_major": 2,
       "version_minor": 0
      },
      "text/plain": [
       "Validation: |          | 0/? [00:00<?, ?it/s]"
      ]
     },
     "metadata": {},
     "output_type": "display_data"
    },
    {
     "data": {
      "application/vnd.jupyter.widget-view+json": {
       "model_id": "b52b62f98e10435e9f2968b979165c4c",
       "version_major": 2,
       "version_minor": 0
      },
      "text/plain": [
       "Validation: |          | 0/? [00:00<?, ?it/s]"
      ]
     },
     "metadata": {},
     "output_type": "display_data"
    },
    {
     "data": {
      "application/vnd.jupyter.widget-view+json": {
       "model_id": "27bce09623c64634b49176121bef7400",
       "version_major": 2,
       "version_minor": 0
      },
      "text/plain": [
       "Validation: |          | 0/? [00:00<?, ?it/s]"
      ]
     },
     "metadata": {},
     "output_type": "display_data"
    },
    {
     "data": {
      "application/vnd.jupyter.widget-view+json": {
       "model_id": "b16ff999a9ef43fdbadc2b9aa91f566d",
       "version_major": 2,
       "version_minor": 0
      },
      "text/plain": [
       "Validation: |          | 0/? [00:00<?, ?it/s]"
      ]
     },
     "metadata": {},
     "output_type": "display_data"
    },
    {
     "data": {
      "application/vnd.jupyter.widget-view+json": {
       "model_id": "5dbbdb91eb2c4e52926db90c71023186",
       "version_major": 2,
       "version_minor": 0
      },
      "text/plain": [
       "Validation: |          | 0/? [00:00<?, ?it/s]"
      ]
     },
     "metadata": {},
     "output_type": "display_data"
    },
    {
     "data": {
      "application/vnd.jupyter.widget-view+json": {
       "model_id": "6f641339d4764c808fa094ea6d33d865",
       "version_major": 2,
       "version_minor": 0
      },
      "text/plain": [
       "Validation: |          | 0/? [00:00<?, ?it/s]"
      ]
     },
     "metadata": {},
     "output_type": "display_data"
    },
    {
     "data": {
      "application/vnd.jupyter.widget-view+json": {
       "model_id": "e178b2c53d074facae112026ff3a109a",
       "version_major": 2,
       "version_minor": 0
      },
      "text/plain": [
       "Validation: |          | 0/? [00:00<?, ?it/s]"
      ]
     },
     "metadata": {},
     "output_type": "display_data"
    },
    {
     "data": {
      "application/vnd.jupyter.widget-view+json": {
       "model_id": "3dbe599242f54c278c9056f93a05b0dc",
       "version_major": 2,
       "version_minor": 0
      },
      "text/plain": [
       "Validation: |          | 0/? [00:00<?, ?it/s]"
      ]
     },
     "metadata": {},
     "output_type": "display_data"
    },
    {
     "data": {
      "application/vnd.jupyter.widget-view+json": {
       "model_id": "13b502f756374f9a81f9c55eb4d91cde",
       "version_major": 2,
       "version_minor": 0
      },
      "text/plain": [
       "Validation: |          | 0/? [00:00<?, ?it/s]"
      ]
     },
     "metadata": {},
     "output_type": "display_data"
    },
    {
     "data": {
      "application/vnd.jupyter.widget-view+json": {
       "model_id": "07e7ddfcecc64351867c81909107f2e7",
       "version_major": 2,
       "version_minor": 0
      },
      "text/plain": [
       "Validation: |          | 0/? [00:00<?, ?it/s]"
      ]
     },
     "metadata": {},
     "output_type": "display_data"
    },
    {
     "data": {
      "application/vnd.jupyter.widget-view+json": {
       "model_id": "2125398235844235a374278dc76a9b55",
       "version_major": 2,
       "version_minor": 0
      },
      "text/plain": [
       "Validation: |          | 0/? [00:00<?, ?it/s]"
      ]
     },
     "metadata": {},
     "output_type": "display_data"
    },
    {
     "data": {
      "application/vnd.jupyter.widget-view+json": {
       "model_id": "9551f3bdcb844029a9a61e422dffacf3",
       "version_major": 2,
       "version_minor": 0
      },
      "text/plain": [
       "Validation: |          | 0/? [00:00<?, ?it/s]"
      ]
     },
     "metadata": {},
     "output_type": "display_data"
    },
    {
     "data": {
      "application/vnd.jupyter.widget-view+json": {
       "model_id": "5d97e2d8dbed486e98fb61a882854e4d",
       "version_major": 2,
       "version_minor": 0
      },
      "text/plain": [
       "Validation: |          | 0/? [00:00<?, ?it/s]"
      ]
     },
     "metadata": {},
     "output_type": "display_data"
    },
    {
     "name": "stderr",
     "output_type": "stream",
     "text": [
      "`Trainer.fit` stopped: `max_epochs=100` reached.\n"
     ]
    }
   ],
   "source": [
    "early_stopping = EarlyStopping(monitor='valid_loss', patience=10, mode='min')\n",
    "model_checkpoint = ModelCheckpoint(monitor=\"valid_loss\", mode=\"min\", save_top_k=2)\n",
    "\n",
    "trainer = pl.Trainer(\n",
    "    accelerator=\"gpu\",\n",
    "    precision=\"16-mixed\",\n",
    "    max_epochs=100,\n",
    "    logger=wandb_logger,\n",
    "    reload_dataloaders_every_n_epochs=1, \n",
    "    callbacks=[model_checkpoint]\n",
    "    # callbacks=[model_checkpoint, early_stopping]\n",
    ")\n",
    "\n",
    "model = CNN(label2id, id2label)\n",
    "trainer.fit(model, datamodule=data_module)"
   ]
  },
  {
   "cell_type": "code",
   "execution_count": 16,
   "id": "ddca7464-041e-4118-89db-578b29d61840",
   "metadata": {},
   "outputs": [],
   "source": [
    "trainer.save_checkpoint(f\"./{exp_name}-last_epoch.ckpt\")"
   ]
  },
  {
   "cell_type": "code",
   "execution_count": 17,
   "id": "16140809-01b5-4e27-962d-1bda72304101",
   "metadata": {
    "scrolled": true
   },
   "outputs": [
    {
     "data": {
      "text/html": [],
      "text/plain": [
       "<IPython.core.display.HTML object>"
      ]
     },
     "metadata": {},
     "output_type": "display_data"
    },
    {
     "data": {
      "text/html": [
       "<br>    <style><br>        .wandb-row {<br>            display: flex;<br>            flex-direction: row;<br>            flex-wrap: wrap;<br>            justify-content: flex-start;<br>            width: 100%;<br>        }<br>        .wandb-col {<br>            display: flex;<br>            flex-direction: column;<br>            flex-basis: 100%;<br>            flex: 1;<br>            padding: 10px;<br>        }<br>    </style><br><div class=\"wandb-row\"><div class=\"wandb-col\"><h3>Run history:</h3><br/><table class=\"wandb\"><tr><td>epoch</td><td>▁▁▁▁▁▂▂▂▂▃▃▃▃▄▄▄▄▄▄▅▅▅▅▅▆▆▆▆▇▇▇▇▇▇▇▇████</td></tr><tr><td>lr</td><td>█▇▄▁▂▄▆▇▇█▅▄▃▆██▇▄▃▁▁▃▅██▆▄▄▃▂▂▁▁▁▄▇█▆▃▁</td></tr><tr><td>train_F1</td><td>▁▁▃▃▆▅▂▇▆▇▄▇▇▄█▅▇▇▄█▂▇▇▃▇▄▄█▄▃█▅▇█▇█▄███</td></tr><tr><td>train_acc_class_account_number</td><td>▁▁▁▁▁▁▁▁▁▁▁▁▁▁▁▁▁▁▁▁▁▁▁▁▁▁▁▁▁▁▁▁▁▁▁▁▁▁▁▁</td></tr><tr><td>train_acc_class_application_for_payment_of_pregnancy_medical_expenses</td><td>▁▆▆▆▆▆▆▆▆████████████████▆████████████▆█</td></tr><tr><td>train_acc_class_car_dashboard</td><td>▁▁▁▁▁▁▁▁▁▁▁▁▁▁▁▁▁▁▁▁▁▁▁▁▁▁▁▁▁▁▁▁▁▁▁▁▁▁▁▁</td></tr><tr><td>train_acc_class_confirmation_of_admission_and_discharge</td><td>▅▃▇▆▆▅▆▁▅▃▆▆█▆▆█▂▆▇▅▇▆▇▇▆▃▅██████▅▇▇▇▇▇█</td></tr><tr><td>train_acc_class_diagnosis</td><td>▅▁▅▅▅▁▁▁▁▅▁▅▁▅█▁▅▁▁▁▁▁▅▁▁▁▁▅▁▁▅▅▅▅▁▁▁▁▁▁</td></tr><tr><td>train_acc_class_driver_lisence</td><td>▁▁▁▁▁▁▁▁▁▁▁▁▁▁▁▁▁▁▁▁▁▁▁▁▁▁▁▁▁▁▁▁▁▁▁▁▁▁▁▁</td></tr><tr><td>train_acc_class_medical_bill_receipts</td><td>▁████████████████████▁██▁███████████████</td></tr><tr><td>train_acc_class_medical_outpatient_certificate</td><td>▃▃▇▁▆▆▆▆▇▇▃▇▆▆▆▂▃▆▇▇▆▆▆▆▆▆▅█▇▆▆▆▅▆▅▆▅▆▆▆</td></tr><tr><td>train_acc_class_national_id_card</td><td>▁▁▁▁▁▁▁▁▁▁▁▁▁▁▁▁▁▁▁▁▁▁▁▁▁▁▁▁▁▁▁▁▁▁▁▁▁▁▁▁</td></tr><tr><td>train_acc_class_passport</td><td>▁▁▁▁▁▁▁▁▁▁▁▁▁▁▁▁▁▁▁▁▁▁▁▁▁▁▁▁▁▁▁▁▁▁▁▁▁▁▁▁</td></tr><tr><td>train_acc_class_payment_confirmation</td><td>▁███████████████████████████████████████</td></tr><tr><td>train_acc_class_pharmaceutical_receipt</td><td>▁▁▁▁▁▁█████████████████████████████▁████</td></tr><tr><td>train_acc_class_prescription</td><td>▁▁▅██████████████████▆██▆▆▆█████████▆█▆█</td></tr><tr><td>train_acc_class_resume</td><td>▁▇▇█▇▇▇▇▇▇▇██▇██▇██████████▇█████▇██████</td></tr><tr><td>train_acc_class_statement_of_opinion</td><td>▁▃▆▆▆▆▆█▆▆▆▆▆▆▆▆▆██▆██▆███▆▅▆█████▆█████</td></tr><tr><td>train_acc_class_vehicle_registration_certificate</td><td>▁▁▁▁▁▁▁▁▁▁▁▁▁▁▁▁▁▁▁▁▁▁▁▁▁▁▁▁▁▁▁▁▁▁▁▁▁▁▁▁</td></tr><tr><td>train_acc_class_vehicle_registration_plate</td><td>▁▁▁▁▁▁▁▁▁▁▁▁▁▁▁▁▁▁▁▁▁▁▁▁▁▁▁▁▁▁▁▁▁▁▁▁▁▁▁▁</td></tr><tr><td>train_accuracy</td><td>▁▁▄▆▄▃▃▆▂▆▅▆▃▄█▇▇▄▇▃█▄▄█▄▄▇█▃█▄███▇▄▇▄▃█</td></tr><tr><td>train_loss</td><td>█▅▄▂▃▃▂▂▆▂▂▂▁▆▁▂▁▃▁▁▁▂▂▃▁▁▁▂▂▁▁▁▁▁▁▂▂▁▁▁</td></tr><tr><td>train_precision</td><td>▁▆▇▇▆▇▇▇▇▇▇█▇██▇▇██████▇▇▇██▇▇▇▇▇█▇██▇██</td></tr><tr><td>train_recall</td><td>▁▄▆▆▅▇▇▆▇▇███▆▇███▇▇▅█████▆███▆██▆▆█████</td></tr><tr><td>train_roc_auc</td><td>▂▁▄▂▆▅▇▅███▅█▅██▆███▆▆███████▅█▅█▄█▅██▅█</td></tr><tr><td>trainer/global_step</td><td>▁▁▁▁▁▁▂▂▂▂▃▃▃▃▃▃▃▄▄▄▅▅▅▅▅▅▆▆▆▆▇▇▇▇▇▇████</td></tr><tr><td>valid_F1</td><td>▁▅▆▆▇▇▇▇▇▇▇▇▇▇▇▇▇▇▇▇▇▇▇▇▇▇▇█▇██▇▇▇▇█▇▇▇█</td></tr><tr><td>valid_acc_class_account_number</td><td>█████████████████████████████████████▁██</td></tr><tr><td>valid_acc_class_application_for_payment_of_pregnancy_medical_expenses</td><td>▁▁▁▁▁▁▁▁█▁██████████████████▁▁███████▁██</td></tr><tr><td>valid_acc_class_car_dashboard</td><td>▁▁▁▁▁▁▁▁▁▁▁▁▁▁▁▁▁▁▁▁▁▁▁▁▁▁▁▁▁▁▁▁▁▁▁▁▁▁▁▁</td></tr><tr><td>valid_acc_class_confirmation_of_admission_and_discharge</td><td>▂▃▃▆▆▃▅▆▁▂▃▆▅▅█▆▅▆▆█▃▅█▇▇▇██▃█▇▆▆█▇▇▆▅▆█</td></tr><tr><td>valid_acc_class_diagnosis</td><td>█▅▅▁▅▅▁▅▁▁▅▁▅▅██▅▁▅▁▁▅▁▁▁▅▁▁▅▁▅▁▁▅▁▁▅▁▁▁</td></tr><tr><td>valid_acc_class_driver_lisence</td><td>▁▁▁▁▁▁▁▁▁▁▁▁▁▁▁▁▁▁▁▁▁▁▁▁▁▁▁▁▁▁▁▁▁▁▁▁▁▁▁▁</td></tr><tr><td>valid_acc_class_medical_bill_receipts</td><td>▁▁▁▁▁▁▁▁▁▁▁▁▁▁▁▁▁▁▁▁▁▁▁▁▁▁▁▁▁▁▁▁▁▁▁▁▁▁▁▁</td></tr><tr><td>valid_acc_class_medical_outpatient_certificate</td><td>▃▆▁▆▇▆▇▃▇▇▆▆▆▃▆▆█▂▇▇▅▅▆▆▆▆▅█▃▅▆▆▆▆▆▅▅▅▅▆</td></tr><tr><td>valid_acc_class_national_id_card</td><td>▁▁▁▁▁▁▁▁▁▁▁▁▁▁▁▁▁▁▁▁▁▁▁▁▁▁▁▁▁▁▁▁▁▁▁▁▁▁▁▁</td></tr><tr><td>valid_acc_class_passport</td><td>▁▁▁▁▁▁▁▁▁▁▁▁▁▁▁▁▁▁▁▁▁▁▁▁▁▁▁▁▁▁▁▁▁▁▁▁▁▁▁▁</td></tr><tr><td>valid_acc_class_payment_confirmation</td><td>▁███████████████████████████████████████</td></tr><tr><td>valid_acc_class_pharmaceutical_receipt</td><td>▁▁▁▁▁▁▁▁▁█████████▁█████████████████████</td></tr><tr><td>valid_acc_class_prescription</td><td>▁▁▆████▆███████████▆███▆██▆████████▆▆▆██</td></tr><tr><td>valid_acc_class_resume</td><td>▁▇█▇▇▇▇█▇▇█▇▇█████▇▇████████▇▇█▇▇███▇▇██</td></tr><tr><td>valid_acc_class_statement_of_opinion</td><td>▁▃▆▆▆▆▆▆▆▆▆█▆▆▆█▆▆███▆███▆██████▅▆▆█████</td></tr><tr><td>valid_acc_class_vehicle_registration_certificate</td><td>▁▁▁▁▁▁▁▁▁▁▁▁▁▁▁▁▁▁▁▁▁▁▁▁▁▁▁▁▁▁▁▁▁▁▁▁▁▁▁▁</td></tr><tr><td>valid_acc_class_vehicle_registration_plate</td><td>▁▁▁▁▁▁▁▁▁▁▁▁▁▁▁▁▁▁▁▁▁▁▁▁▁▁▁▁▁▁▁▁▁▁▁▁▁▁▁▁</td></tr><tr><td>valid_accuracy</td><td>▁▅▆▅▆▅▅▅▅▅▅▇▇▆▆▇▇▇▆▇▇▆▆███▇▅█▇▇▇▇▆▆▇▇▇▆█</td></tr><tr><td>valid_loss</td><td>█▄▃▂▂▂▂▂▂▂▁▁▁▂▁▁▁▁▁▁▁▂▁▁▁▂▂▂▂▂▁▂▂▁▂▂▃▂▂▂</td></tr><tr><td>valid_precision</td><td>▁▇▆▇▇▇▇▇▇█▇█▇█▇██▇▇▇▇████▇████▇▇████▇███</td></tr><tr><td>valid_recall</td><td>▁▄▅▅▅▄▆▅▆▆▆▆▆▆█▇▇▇▇▆▇▇▇█▇▇▇▆▇█▇▇▇▇▆█▇▆▇▇</td></tr><tr><td>valid_roc_auc</td><td>▁▇▇▇▇▇▇▇▇█▇██████▇▇█████████▇████████▇██</td></tr></table><br/></div><div class=\"wandb-col\"><h3>Run summary:</h3><br/><table class=\"wandb\"><tr><td>epoch</td><td>99</td></tr><tr><td>lr</td><td>0.0</td></tr><tr><td>train_F1</td><td>0.91176</td></tr><tr><td>train_acc_class_account_number</td><td>1</td></tr><tr><td>train_acc_class_application_for_payment_of_pregnancy_medical_expenses</td><td>0.83333</td></tr><tr><td>train_acc_class_car_dashboard</td><td>1</td></tr><tr><td>train_acc_class_confirmation_of_admission_and_discharge</td><td>0.875</td></tr><tr><td>train_acc_class_diagnosis</td><td>0.625</td></tr><tr><td>train_acc_class_driver_lisence</td><td>1</td></tr><tr><td>train_acc_class_medical_bill_receipts</td><td>1</td></tr><tr><td>train_acc_class_medical_outpatient_certificate</td><td>0.5</td></tr><tr><td>train_acc_class_national_id_card</td><td>1</td></tr><tr><td>train_acc_class_passport</td><td>1</td></tr><tr><td>train_acc_class_payment_confirmation</td><td>1</td></tr><tr><td>train_acc_class_pharmaceutical_receipt</td><td>1</td></tr><tr><td>train_acc_class_prescription</td><td>1</td></tr><tr><td>train_acc_class_resume</td><td>0.88235</td></tr><tr><td>train_acc_class_statement_of_opinion</td><td>0.8</td></tr><tr><td>train_acc_class_vehicle_registration_certificate</td><td>1</td></tr><tr><td>train_acc_class_vehicle_registration_plate</td><td>1</td></tr><tr><td>train_accuracy</td><td>0.92357</td></tr><tr><td>train_loss</td><td>0.00021</td></tr><tr><td>train_precision</td><td>0.92489</td></tr><tr><td>train_recall</td><td>0.91269</td></tr><tr><td>train_roc_auc</td><td>0.99288</td></tr><tr><td>trainer/global_step</td><td>8899</td></tr><tr><td>valid_F1</td><td>0.91176</td></tr><tr><td>valid_acc_class_account_number</td><td>1</td></tr><tr><td>valid_acc_class_application_for_payment_of_pregnancy_medical_expenses</td><td>0.83333</td></tr><tr><td>valid_acc_class_car_dashboard</td><td>1</td></tr><tr><td>valid_acc_class_confirmation_of_admission_and_discharge</td><td>0.875</td></tr><tr><td>valid_acc_class_diagnosis</td><td>0.625</td></tr><tr><td>valid_acc_class_driver_lisence</td><td>1</td></tr><tr><td>valid_acc_class_medical_bill_receipts</td><td>1</td></tr><tr><td>valid_acc_class_medical_outpatient_certificate</td><td>0.5</td></tr><tr><td>valid_acc_class_national_id_card</td><td>1</td></tr><tr><td>valid_acc_class_passport</td><td>1</td></tr><tr><td>valid_acc_class_payment_confirmation</td><td>1</td></tr><tr><td>valid_acc_class_pharmaceutical_receipt</td><td>1</td></tr><tr><td>valid_acc_class_prescription</td><td>1</td></tr><tr><td>valid_acc_class_resume</td><td>0.88235</td></tr><tr><td>valid_acc_class_statement_of_opinion</td><td>0.8</td></tr><tr><td>valid_acc_class_vehicle_registration_certificate</td><td>1</td></tr><tr><td>valid_acc_class_vehicle_registration_plate</td><td>1</td></tr><tr><td>valid_accuracy</td><td>0.92357</td></tr><tr><td>valid_loss</td><td>0.39312</td></tr><tr><td>valid_precision</td><td>0.92489</td></tr><tr><td>valid_recall</td><td>0.91269</td></tr><tr><td>valid_roc_auc</td><td>0.99288</td></tr></table><br/></div></div>"
      ],
      "text/plain": [
       "<IPython.core.display.HTML object>"
      ]
     },
     "metadata": {},
     "output_type": "display_data"
    },
    {
     "data": {
      "text/html": [
       " View run <strong style=\"color:#cdcd00\">exp-convnext-large-384-easy-rotator-dice-loss-add</strong> at: <a href='https://wandb.ai/cat2oon/docsy/runs/3u9bu3el' target=\"_blank\">https://wandb.ai/cat2oon/docsy/runs/3u9bu3el</a><br> View project at: <a href='https://wandb.ai/cat2oon/docsy' target=\"_blank\">https://wandb.ai/cat2oon/docsy</a><br>Synced 5 W&B file(s), 0 media file(s), 0 artifact file(s) and 0 other file(s)"
      ],
      "text/plain": [
       "<IPython.core.display.HTML object>"
      ]
     },
     "metadata": {},
     "output_type": "display_data"
    },
    {
     "data": {
      "text/html": [
       "Find logs at: <code>./wandb/run-20250706_182231-3u9bu3el/logs</code>"
      ],
      "text/plain": [
       "<IPython.core.display.HTML object>"
      ]
     },
     "metadata": {},
     "output_type": "display_data"
    }
   ],
   "source": [
    "wandb.finish()"
   ]
  },
  {
   "cell_type": "code",
   "execution_count": 18,
   "id": "47efc377-4bdb-45fa-9f94-3f7fbd182342",
   "metadata": {
    "scrolled": true
   },
   "outputs": [
    {
     "ename": "Exception",
     "evalue": "STOP HERE",
     "output_type": "error",
     "traceback": [
      "\u001b[31m---------------------------------------------------------------------------\u001b[39m",
      "\u001b[31mException\u001b[39m                                 Traceback (most recent call last)",
      "\u001b[36mCell\u001b[39m\u001b[36m \u001b[39m\u001b[32mIn[18]\u001b[39m\u001b[32m, line 1\u001b[39m\n\u001b[32m----> \u001b[39m\u001b[32m1\u001b[39m \u001b[38;5;28;01mraise\u001b[39;00m \u001b[38;5;167;01mException\u001b[39;00m(\u001b[33m\"\u001b[39m\u001b[33mSTOP HERE\u001b[39m\u001b[33m\"\u001b[39m)\n",
      "\u001b[31mException\u001b[39m: STOP HERE"
     ]
    }
   ],
   "source": [
    "raise Exception(\"STOP HERE\")"
   ]
  },
  {
   "cell_type": "markdown",
   "id": "50594587-61f6-4514-a128-11e64257c3fd",
   "metadata": {},
   "source": [
    "---"
   ]
  }
 ],
 "metadata": {
  "kernelspec": {
   "display_name": "py12",
   "language": "python",
   "name": "py12"
  },
  "language_info": {
   "codemirror_mode": {
    "name": "ipython",
    "version": 3
   },
   "file_extension": ".py",
   "mimetype": "text/x-python",
   "name": "python",
   "nbconvert_exporter": "python",
   "pygments_lexer": "ipython3",
   "version": "3.12.10"
  }
 },
 "nbformat": 4,
 "nbformat_minor": 5
}
