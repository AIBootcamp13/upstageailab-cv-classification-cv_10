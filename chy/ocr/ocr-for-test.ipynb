{
 "cells": [
  {
   "cell_type": "markdown",
   "id": "7c6ab532-ecfa-4921-ab49-4f2fee8bf347",
   "metadata": {},
   "source": [
    "# 목표\n",
    "- 대회 테스트 데이터셋에서 OCR, BOX 추출"
   ]
  },
  {
   "cell_type": "code",
   "execution_count": 13,
   "id": "1cd6ab90-3274-4afc-9487-b76327102445",
   "metadata": {},
   "outputs": [],
   "source": [
    "import importlib\n",
    "import labs\n",
    "import inv\n",
    "\n",
    "importlib.reload(labs)\n",
    "importlib.reload(inv)\n",
    "\n",
    "from labs import *\n",
    "from inv import *"
   ]
  },
  {
   "cell_type": "markdown",
   "id": "84ce986c-7adf-462d-8034-2503caf2eefb",
   "metadata": {},
   "source": [
    "## Paddle \n",
    "- 다양한 리사이즈 하기 1.01배 resize"
   ]
  },
  {
   "cell_type": "code",
   "execution_count": 4,
   "id": "97382e2f-7e8f-42db-a350-0c08e7708677",
   "metadata": {
    "scrolled": true
   },
   "outputs": [
    {
     "data": {
      "application/vnd.jupyter.widget-view+json": {
       "model_id": "55fbe93f5cfa4a2785f5cefb6708e271",
       "version_major": 2,
       "version_minor": 0
      },
      "text/plain": [
       "0it [00:00, ?it/s]"
      ]
     },
     "metadata": {},
     "output_type": "display_data"
    },
    {
     "data": {
      "text/plain": [
       "3143"
      ]
     },
     "execution_count": 4,
     "metadata": {},
     "output_type": "execute_result"
    }
   ],
   "source": [
    "target_dir = \"/data/ephemeral/home/dataset/docsy-deskew/\"\n",
    "image_paths = grep_files(target_dir, exts=['jpg'])\n",
    "len(image_paths)"
   ]
  },
  {
   "cell_type": "code",
   "execution_count": 2,
   "id": "ced43ca7-11e5-491a-82bc-ab56774bee32",
   "metadata": {
    "scrolled": true
   },
   "outputs": [
    {
     "name": "stderr",
     "output_type": "stream",
     "text": [
      "/data/ephemeral/home/.pyenv/versions/3.12.10/envs/py12/lib/python3.12/site-packages/paddle/utils/cpp_extension/extension_utils.py:715: UserWarning: No ccache found. Please be aware that recompiling all source files may be required. You can download and install ccache from: https://github.com/ccache/ccache/blob/master/doc/INSTALL.md\n",
      "  warnings.warn(warning_message)\n",
      "\u001b[32mCreating model: ('PP-LCNet_x1_0_doc_ori', None)\u001b[0m\n",
      "\u001b[32mUsing official model (PP-LCNet_x1_0_doc_ori), the model files will be automatically downloaded and saved in /data/ephemeral/home/.paddlex/official_models.\u001b[0m\n"
     ]
    },
    {
     "data": {
      "application/vnd.jupyter.widget-view+json": {
       "model_id": "b81e462db9794f4fb5213f03094b4e06",
       "version_major": 2,
       "version_minor": 0
      },
      "text/plain": [
       "Fetching 6 files:   0%|          | 0/6 [00:00<?, ?it/s]"
      ]
     },
     "metadata": {},
     "output_type": "display_data"
    },
    {
     "name": "stderr",
     "output_type": "stream",
     "text": [
      "\u001b[32mCreating model: ('UVDoc', None)\u001b[0m\n",
      "\u001b[32mUsing official model (UVDoc), the model files will be automatically downloaded and saved in /data/ephemeral/home/.paddlex/official_models.\u001b[0m\n"
     ]
    },
    {
     "data": {
      "application/vnd.jupyter.widget-view+json": {
       "model_id": "14bdfba0cacc46008d5b6b0c5f9861a2",
       "version_major": 2,
       "version_minor": 0
      },
      "text/plain": [
       "Fetching 6 files:   0%|          | 0/6 [00:00<?, ?it/s]"
      ]
     },
     "metadata": {},
     "output_type": "display_data"
    },
    {
     "name": "stderr",
     "output_type": "stream",
     "text": [
      "\u001b[32mCreating model: ('PP-DocBlockLayout', None)\u001b[0m\n",
      "\u001b[32mUsing official model (PP-DocBlockLayout), the model files will be automatically downloaded and saved in /data/ephemeral/home/.paddlex/official_models.\u001b[0m\n"
     ]
    },
    {
     "data": {
      "application/vnd.jupyter.widget-view+json": {
       "model_id": "3f40802e9291447594f596b63205f6ce",
       "version_major": 2,
       "version_minor": 0
      },
      "text/plain": [
       "Fetching 6 files:   0%|          | 0/6 [00:00<?, ?it/s]"
      ]
     },
     "metadata": {},
     "output_type": "display_data"
    },
    {
     "name": "stderr",
     "output_type": "stream",
     "text": [
      "\u001b[32mCreating model: ('PP-DocLayout_plus-L', None)\u001b[0m\n",
      "\u001b[32mUsing official model (PP-DocLayout_plus-L), the model files will be automatically downloaded and saved in /data/ephemeral/home/.paddlex/official_models.\u001b[0m\n"
     ]
    },
    {
     "data": {
      "application/vnd.jupyter.widget-view+json": {
       "model_id": "98c72f3e40a547bb8f1d74a4f7434821",
       "version_major": 2,
       "version_minor": 0
      },
      "text/plain": [
       "Fetching 6 files:   0%|          | 0/6 [00:00<?, ?it/s]"
      ]
     },
     "metadata": {},
     "output_type": "display_data"
    },
    {
     "name": "stderr",
     "output_type": "stream",
     "text": [
      "\u001b[32mCreating model: ('PP-LCNet_x1_0_textline_ori', None)\u001b[0m\n",
      "\u001b[32mUsing official model (PP-LCNet_x1_0_textline_ori), the model files will be automatically downloaded and saved in /data/ephemeral/home/.paddlex/official_models.\u001b[0m\n"
     ]
    },
    {
     "data": {
      "application/vnd.jupyter.widget-view+json": {
       "model_id": "6facd79c13db47689958a77a2e483f2d",
       "version_major": 2,
       "version_minor": 0
      },
      "text/plain": [
       "Fetching 8 files:   0%|          | 0/8 [00:00<?, ?it/s]"
      ]
     },
     "metadata": {},
     "output_type": "display_data"
    },
    {
     "name": "stderr",
     "output_type": "stream",
     "text": [
      "\u001b[32mCreating model: ('PP-OCRv5_server_det', None)\u001b[0m\n",
      "\u001b[32mUsing official model (PP-OCRv5_server_det), the model files will be automatically downloaded and saved in /data/ephemeral/home/.paddlex/official_models.\u001b[0m\n"
     ]
    },
    {
     "data": {
      "application/vnd.jupyter.widget-view+json": {
       "model_id": "c28661605888440bbcc2f844162c4805",
       "version_major": 2,
       "version_minor": 0
      },
      "text/plain": [
       "Fetching 6 files:   0%|          | 0/6 [00:00<?, ?it/s]"
      ]
     },
     "metadata": {},
     "output_type": "display_data"
    },
    {
     "name": "stderr",
     "output_type": "stream",
     "text": [
      "\u001b[32mCreating model: ('korean_PP-OCRv5_mobile_rec', None)\u001b[0m\n",
      "\u001b[32mUsing official model (korean_PP-OCRv5_mobile_rec), the model files will be automatically downloaded and saved in /data/ephemeral/home/.paddlex/official_models.\u001b[0m\n",
      "\u001b[32mCreating model: ('PP-OCRv4_server_seal_det', None)\u001b[0m\n",
      "\u001b[32mUsing official model (PP-OCRv4_server_seal_det), the model files will be automatically downloaded and saved in /data/ephemeral/home/.paddlex/official_models.\u001b[0m\n"
     ]
    },
    {
     "data": {
      "application/vnd.jupyter.widget-view+json": {
       "model_id": "fc8caeb34a8b4450abc16216d2867a53",
       "version_major": 2,
       "version_minor": 0
      },
      "text/plain": [
       "Fetching 6 files:   0%|          | 0/6 [00:00<?, ?it/s]"
      ]
     },
     "metadata": {},
     "output_type": "display_data"
    },
    {
     "name": "stderr",
     "output_type": "stream",
     "text": [
      "\u001b[32mCreating model: ('PP-OCRv5_server_rec', None)\u001b[0m\n",
      "\u001b[32mUsing official model (PP-OCRv5_server_rec), the model files will be automatically downloaded and saved in /data/ephemeral/home/.paddlex/official_models.\u001b[0m\n"
     ]
    },
    {
     "data": {
      "application/vnd.jupyter.widget-view+json": {
       "model_id": "36d5e5de2e4a447b8ee044bec84bfd82",
       "version_major": 2,
       "version_minor": 0
      },
      "text/plain": [
       "Fetching 6 files:   0%|          | 0/6 [00:00<?, ?it/s]"
      ]
     },
     "metadata": {},
     "output_type": "display_data"
    },
    {
     "name": "stderr",
     "output_type": "stream",
     "text": [
      "\u001b[32mCreating model: ('PP-LCNet_x1_0_table_cls', None)\u001b[0m\n",
      "\u001b[32mUsing official model (PP-LCNet_x1_0_table_cls), the model files will be automatically downloaded and saved in /data/ephemeral/home/.paddlex/official_models.\u001b[0m\n"
     ]
    },
    {
     "data": {
      "application/vnd.jupyter.widget-view+json": {
       "model_id": "ae64d04ef3f2421a91da024e9bf35e7e",
       "version_major": 2,
       "version_minor": 0
      },
      "text/plain": [
       "Fetching 6 files:   0%|          | 0/6 [00:00<?, ?it/s]"
      ]
     },
     "metadata": {},
     "output_type": "display_data"
    },
    {
     "name": "stderr",
     "output_type": "stream",
     "text": [
      "\u001b[32mCreating model: ('SLANeXt_wired', None)\u001b[0m\n",
      "\u001b[32mUsing official model (SLANeXt_wired), the model files will be automatically downloaded and saved in /data/ephemeral/home/.paddlex/official_models.\u001b[0m\n"
     ]
    },
    {
     "data": {
      "application/vnd.jupyter.widget-view+json": {
       "model_id": "b85c42c28b3b401ea71d1494a42fd080",
       "version_major": 2,
       "version_minor": 0
      },
      "text/plain": [
       "Fetching 6 files:   0%|          | 0/6 [00:00<?, ?it/s]"
      ]
     },
     "metadata": {},
     "output_type": "display_data"
    },
    {
     "name": "stderr",
     "output_type": "stream",
     "text": [
      "\u001b[32mCreating model: ('SLANet_plus', None)\u001b[0m\n",
      "\u001b[32mUsing official model (SLANet_plus), the model files will be automatically downloaded and saved in /data/ephemeral/home/.paddlex/official_models.\u001b[0m\n"
     ]
    },
    {
     "data": {
      "application/vnd.jupyter.widget-view+json": {
       "model_id": "89dcb1ccf86f4425875988ddf175d6cb",
       "version_major": 2,
       "version_minor": 0
      },
      "text/plain": [
       "Fetching 6 files:   0%|          | 0/6 [00:00<?, ?it/s]"
      ]
     },
     "metadata": {},
     "output_type": "display_data"
    },
    {
     "name": "stderr",
     "output_type": "stream",
     "text": [
      "\u001b[32mCreating model: ('RT-DETR-L_wired_table_cell_det', None)\u001b[0m\n",
      "\u001b[32mUsing official model (RT-DETR-L_wired_table_cell_det), the model files will be automatically downloaded and saved in /data/ephemeral/home/.paddlex/official_models.\u001b[0m\n"
     ]
    },
    {
     "data": {
      "application/vnd.jupyter.widget-view+json": {
       "model_id": "8ae4336b912342ccbb0fd99eec35978b",
       "version_major": 2,
       "version_minor": 0
      },
      "text/plain": [
       "Fetching 6 files:   0%|          | 0/6 [00:00<?, ?it/s]"
      ]
     },
     "metadata": {},
     "output_type": "display_data"
    },
    {
     "name": "stderr",
     "output_type": "stream",
     "text": [
      "\u001b[32mCreating model: ('RT-DETR-L_wireless_table_cell_det', None)\u001b[0m\n",
      "\u001b[32mUsing official model (RT-DETR-L_wireless_table_cell_det), the model files will be automatically downloaded and saved in /data/ephemeral/home/.paddlex/official_models.\u001b[0m\n"
     ]
    },
    {
     "data": {
      "application/vnd.jupyter.widget-view+json": {
       "model_id": "c1c81ba32a084a2387fdffe7187f608e",
       "version_major": 2,
       "version_minor": 0
      },
      "text/plain": [
       "Fetching 6 files:   0%|          | 0/6 [00:00<?, ?it/s]"
      ]
     },
     "metadata": {},
     "output_type": "display_data"
    },
    {
     "name": "stderr",
     "output_type": "stream",
     "text": [
      "\u001b[32mCreating model: ('PP-FormulaNet_plus-L', None)\u001b[0m\n",
      "\u001b[32mUsing official model (PP-FormulaNet_plus-L), the model files will be automatically downloaded and saved in /data/ephemeral/home/.paddlex/official_models.\u001b[0m\n"
     ]
    },
    {
     "data": {
      "application/vnd.jupyter.widget-view+json": {
       "model_id": "58c020dabcc642be873ee81a41c5069d",
       "version_major": 2,
       "version_minor": 0
      },
      "text/plain": [
       "Fetching 6 files:   0%|          | 0/6 [00:00<?, ?it/s]"
      ]
     },
     "metadata": {},
     "output_type": "display_data"
    },
    {
     "name": "stderr",
     "output_type": "stream",
     "text": [
      "\u001b[32mCreating model: ('PP-Chart2Table', None)\u001b[0m\n",
      "\u001b[32mUsing official model (PP-Chart2Table), the model files will be automatically downloaded and saved in /data/ephemeral/home/.paddlex/official_models.\u001b[0m\n"
     ]
    },
    {
     "data": {
      "application/vnd.jupyter.widget-view+json": {
       "model_id": "0e8a58d43b2e425aa5ad4296192f8129",
       "version_major": 2,
       "version_minor": 0
      },
      "text/plain": [
       "Fetching 10 files:   0%|          | 0/10 [00:00<?, ?it/s]"
      ]
     },
     "metadata": {},
     "output_type": "display_data"
    },
    {
     "name": "stderr",
     "output_type": "stream",
     "text": [
      "\u001b[32mSpecial tokens have been added in the vocabulary, make sure the associated word embeddings are fine-tuned or trained.\u001b[0m\n",
      "\u001b[32mLoading configuration file /data/ephemeral/home/.paddlex/official_models/PP-Chart2Table/config.json\u001b[0m\n",
      "\u001b[32mLoading weights file /data/ephemeral/home/.paddlex/official_models/PP-Chart2Table/model_state.pdparams\u001b[0m\n",
      "\u001b[32mLoaded weights file from disk, setting weights to model.\u001b[0m\n",
      "\u001b[32mAll model checkpoint weights were used when initializing PPChart2TableInference.\n",
      "\u001b[0m\n",
      "\u001b[32mAll the weights of PPChart2TableInference were initialized from the model checkpoint at /data/ephemeral/home/.paddlex/official_models/PP-Chart2Table.\n",
      "If your task is similar to the task the model of the checkpoint was trained on, you can already use PPChart2TableInference for predictions without further training.\u001b[0m\n",
      "\u001b[32mLoading configuration file /data/ephemeral/home/.paddlex/official_models/PP-Chart2Table/generation_config.json\u001b[0m\n"
     ]
    }
   ],
   "source": [
    "ocr = OCRProcessor()"
   ]
  },
  {
   "cell_type": "markdown",
   "id": "e2402dfd-c380-48da-bd83-afafcd5e620f",
   "metadata": {
    "jp-MarkdownHeadingCollapsed": true
   },
   "source": [
    "# Extract"
   ]
  },
  {
   "cell_type": "code",
   "execution_count": null,
   "id": "8fdd4d00-69bb-4fec-8875-989a9c08a170",
   "metadata": {},
   "outputs": [],
   "source": [
    "# items = ocr.process_image(image_paths[10])"
   ]
  },
  {
   "cell_type": "code",
   "execution_count": null,
   "id": "2d1e8324-57a2-4c47-ad20-f851bb1678e5",
   "metadata": {},
   "outputs": [],
   "source": [
    "for p in tqdm(list(image_paths)):\n",
    "    try:\n",
    "        items = ocr.process_image(p) \n",
    "        write_annotation(p, items)\n",
    "    except Exception:\n",
    "        print(f\"error in {p}\")"
   ]
  },
  {
   "cell_type": "markdown",
   "id": "f27c58fb-c3c6-43e2-be77-5ed828885907",
   "metadata": {
    "jp-MarkdownHeadingCollapsed": true
   },
   "source": [
    "# Show error samples"
   ]
  },
  {
   "cell_type": "code",
   "execution_count": null,
   "id": "59c273bf-4a67-4b4d-af6f-b11097d53246",
   "metadata": {},
   "outputs": [],
   "source": [
    "err_paths = [\n",
    "'/data/ephemeral/home/dataset/docsy-deskew/1d2edb4d479d6a5d.jpg',\n",
    "'/data/ephemeral/home/dataset/docsy-deskew/99899030e5c89dba.jpg',\n",
    "'/data/ephemeral/home/dataset/docsy-deskew/ac3f2e4c4c7e2cbb.jpg',\n",
    "'/data/ephemeral/home/dataset/docsy-deskew/8afff649a10f8414.jpg',\n",
    "]"
   ]
  },
  {
   "cell_type": "code",
   "execution_count": null,
   "id": "172d8946-4293-4e0d-849c-2fd19ab18cda",
   "metadata": {},
   "outputs": [],
   "source": [
    "# show_img(path=err_paths[3])"
   ]
  },
  {
   "cell_type": "code",
   "execution_count": null,
   "id": "80b3eb17-5a67-4b1d-8393-b019768614db",
   "metadata": {},
   "outputs": [],
   "source": [
    "random.randint(1, 1000)"
   ]
  },
  {
   "cell_type": "markdown",
   "id": "a6f59c88-8da7-4a83-b818-a7f0d4df6bb3",
   "metadata": {
    "jp-MarkdownHeadingCollapsed": true
   },
   "source": [
    "# Retouch\n",
    "- 이미지 리사이즈 살짝만 바꿔도 인식 문제없이 됨"
   ]
  },
  {
   "cell_type": "code",
   "execution_count": null,
   "id": "f214e857-9013-4423-8b4e-c44246ef4e89",
   "metadata": {},
   "outputs": [],
   "source": [
    "# p = Path(err_paths[0])\n",
    "# shutil.copy(p, \"./err_01.jpg\")"
   ]
  },
  {
   "cell_type": "code",
   "execution_count": null,
   "id": "1101574d-a506-4626-b7c4-1d9278bdb9dc",
   "metadata": {},
   "outputs": [],
   "source": [
    "resized = resize_image_with_ratio(err_paths[-1], ratio=1.01)\n",
    "resized.save('./err_01_re.jpg')"
   ]
  },
  {
   "cell_type": "code",
   "execution_count": null,
   "id": "6ce1015f-78ce-487c-8542-777e27685b60",
   "metadata": {},
   "outputs": [],
   "source": [
    "# ocr.draw_ocr('./err_01_re.jpg')"
   ]
  },
  {
   "cell_type": "code",
   "execution_count": null,
   "id": "2d5c5006-b7ee-4d09-bf24-99526e894ce8",
   "metadata": {},
   "outputs": [],
   "source": [
    "for p in err_paths:\n",
    "    resized = resize_image_with_ratio(p, ratio=1.01)\n",
    "    resized.save(p)"
   ]
  },
  {
   "cell_type": "code",
   "execution_count": null,
   "id": "68badfd5-041e-4278-9b3d-f1ef15cdd967",
   "metadata": {},
   "outputs": [],
   "source": [
    "for p in tqdm(list(err_paths)):\n",
    "    try:\n",
    "        items = ocr.process_image(p) \n",
    "        write_annotation(p, items)\n",
    "    except Exception:\n",
    "        print(f\"error in {p}\")"
   ]
  },
  {
   "cell_type": "code",
   "execution_count": null,
   "id": "18c7cd29-d03f-454e-8103-9a6da4376396",
   "metadata": {},
   "outputs": [],
   "source": [
    "# ocr.draw_ocr(err_paths[1])"
   ]
  },
  {
   "cell_type": "markdown",
   "id": "4dbfff32-1a92-43cc-83cd-608b256a763a",
   "metadata": {},
   "source": [
    "# Navi\n",
    "- 759255c4afb707d9.jpg 같은 케이스는 이미지 내부를 크롭하도록"
   ]
  },
  {
   "cell_type": "code",
   "execution_count": 5,
   "id": "6d930e66-f7e6-4806-88ca-e04a7f3a55e6",
   "metadata": {},
   "outputs": [
    {
     "data": {
      "text/plain": [
       "409"
      ]
     },
     "execution_count": 5,
     "metadata": {},
     "output_type": "execute_result"
    }
   ],
   "source": [
    "errors = read_list_from_txt('./inconsist_list.txt')\n",
    "err_paths = [p for p in image_paths if os.path.basename(p) in errors]\n",
    "len(err_paths)"
   ]
  },
  {
   "cell_type": "code",
   "execution_count": 12,
   "id": "65ac148a-5901-4113-ac4b-475e833aa2e0",
   "metadata": {},
   "outputs": [
    {
     "data": {
      "application/vnd.jupyter.widget-view+json": {
       "model_id": "b58a057c6647493f859f795961015cd8",
       "version_major": 2,
       "version_minor": 0
      },
      "text/plain": [
       "VBox(children=(HBox(children=(Button(description='PREV', style=ButtonStyle()), Button(description='NEXT', styl…"
      ]
     },
     "metadata": {},
     "output_type": "display_data"
    },
    {
     "data": {
      "text/plain": [
       "<inv.ImageNavigator at 0x7f76e004fc80>"
      ]
     },
     "execution_count": 12,
     "metadata": {},
     "output_type": "execute_result"
    }
   ],
   "source": [
    "ImageNavigator(err_paths, ocr)"
   ]
  },
  {
   "cell_type": "markdown",
   "id": "54fa7bf2-6884-4ab8-9c31-a915a0831707",
   "metadata": {},
   "source": [
    "# 테스트 데이터 시각화\n",
    "- fixed 섭밋에서 클래스별 이미지 h,w, ratio 비굠"
   ]
  },
  {
   "cell_type": "code",
   "execution_count": null,
   "id": "fc51f38a-b204-48b7-a014-430ce737009a",
   "metadata": {},
   "outputs": [],
   "source": [
    "hws = []\n",
    "for p in image_paths:\n",
    "    img = cv2.imread(p)\n",
    "    h, w = img.shape[:2]\n",
    "    hws.append((h,w))"
   ]
  },
  {
   "cell_type": "code",
   "execution_count": null,
   "id": "c1133f38-2487-40a3-80cd-9df65220efca",
   "metadata": {},
   "outputs": [],
   "source": [
    "df = pd.DataFrame(hws)"
   ]
  },
  {
   "cell_type": "code",
   "execution_count": null,
   "id": "8afe7479-7078-4c19-9c32-5523e976ea2e",
   "metadata": {},
   "outputs": [],
   "source": [
    "df.describe()"
   ]
  }
 ],
 "metadata": {
  "kernelspec": {
   "display_name": "Python 3 (ipykernel)",
   "language": "python",
   "name": "python3"
  },
  "language_info": {
   "codemirror_mode": {
    "name": "ipython",
    "version": 3
   },
   "file_extension": ".py",
   "mimetype": "text/x-python",
   "name": "python",
   "nbconvert_exporter": "python",
   "pygments_lexer": "ipython3",
   "version": "3.12.10"
  }
 },
 "nbformat": 4,
 "nbformat_minor": 5
}
