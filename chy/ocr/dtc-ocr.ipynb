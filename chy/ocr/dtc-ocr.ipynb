{
 "cells": [
  {
   "cell_type": "markdown",
   "id": "7c6ab532-ecfa-4921-ab49-4f2fee8bf347",
   "metadata": {},
   "source": [
    "# 목표\n",
    "- 대회 훈련 데이터셋에서 OCR, BOX 추출"
   ]
  },
  {
   "cell_type": "code",
   "execution_count": 27,
   "id": "1cd6ab90-3274-4afc-9487-b76327102445",
   "metadata": {},
   "outputs": [],
   "source": [
    "import importlib\n",
    "import labs\n",
    "\n",
    "importlib.reload(labs)\n",
    "from labs import *"
   ]
  },
  {
   "cell_type": "markdown",
   "id": "84ce986c-7adf-462d-8034-2503caf2eefb",
   "metadata": {},
   "source": [
    "# 데이터셋\n",
    "\n",
    "## Paddle Error (1.01배 resize하여 해결)\n",
    "- train/f91e11f9cf1fd712.jpg\n",
    "- train/dac2e72086a27f34.jpg\n",
    "- train/a7263fb46a510a68.jpg"
   ]
  },
  {
   "cell_type": "code",
   "execution_count": 8,
   "id": "97382e2f-7e8f-42db-a350-0c08e7708677",
   "metadata": {
    "scrolled": true
   },
   "outputs": [
    {
     "data": {
      "application/vnd.jupyter.widget-view+json": {
       "model_id": "68db3e2913ec48f1a4f6b8c4ff5928c8",
       "version_major": 2,
       "version_minor": 0
      },
      "text/plain": [
       "0it [00:00, ?it/s]"
      ]
     },
     "metadata": {},
     "output_type": "display_data"
    },
    {
     "data": {
      "text/plain": [
       "1570"
      ]
     },
     "execution_count": 8,
     "metadata": {},
     "output_type": "execute_result"
    }
   ],
   "source": [
    "image_paths = grep_files(\"/data/ephemeral/home/dataset/dtc/train/\", exts=['jpg'])\n",
    "len(image_paths)"
   ]
  },
  {
   "cell_type": "markdown",
   "id": "0d70735b-54d4-4ddd-af29-d176e0145299",
   "metadata": {},
   "source": [
    "# OCR Processor"
   ]
  },
  {
   "cell_type": "code",
   "execution_count": null,
   "id": "ced43ca7-11e5-491a-82bc-ab56774bee32",
   "metadata": {},
   "outputs": [],
   "source": [
    "ocr = OCRProcessor()"
   ]
  },
  {
   "cell_type": "markdown",
   "id": "0b006d84-6bcb-4e52-931f-cac8677bc090",
   "metadata": {},
   "source": [
    "# Visualize"
   ]
  },
  {
   "cell_type": "code",
   "execution_count": null,
   "id": "ad42f646-ddfd-47c4-a3cb-a6fb3807f3c4",
   "metadata": {
    "scrolled": true
   },
   "outputs": [],
   "source": [
    "# sample_path = image_paths[203]\n",
    "# print(sample_path)\n",
    "# show_img(path=sample_path)"
   ]
  },
  {
   "cell_type": "code",
   "execution_count": null,
   "id": "1b8cf71a-6ddc-40b5-b730-1176e644991b",
   "metadata": {},
   "outputs": [],
   "source": [
    "# img = ocr.draw_ocr(image_paths[232], thickness=3, ratio=4.0, font_size=13)"
   ]
  },
  {
   "cell_type": "markdown",
   "id": "e2402dfd-c380-48da-bd83-afafcd5e620f",
   "metadata": {},
   "source": [
    "# Extract"
   ]
  },
  {
   "cell_type": "code",
   "execution_count": null,
   "id": "8fdd4d00-69bb-4fec-8875-989a9c08a170",
   "metadata": {},
   "outputs": [],
   "source": [
    "# items = ocr.process_image(image_paths[10])"
   ]
  },
  {
   "cell_type": "code",
   "execution_count": 9,
   "id": "2d1e8324-57a2-4c47-ad20-f851bb1678e5",
   "metadata": {},
   "outputs": [
    {
     "data": {
      "application/vnd.jupyter.widget-view+json": {
       "model_id": "60d697f8c8f045c59ae2b385a1b7d9a0",
       "version_major": 2,
       "version_minor": 0
      },
      "text/plain": [
       "  0%|          | 0/1570 [00:00<?, ?it/s]"
      ]
     },
     "metadata": {},
     "output_type": "display_data"
    },
    {
     "name": "stderr",
     "output_type": "stream",
     "text": [
      "\u001b[32mCreating model: ('PP-LCNet_x1_0_doc_ori', None)\u001b[0m\n",
      "\u001b[32mUsing official model (PP-LCNet_x1_0_doc_ori), the model files will be automatically downloaded and saved in /data/ephemeral/home/.paddlex/official_models.\u001b[0m\n"
     ]
    },
    {
     "data": {
      "application/vnd.jupyter.widget-view+json": {
       "model_id": "100080bc16d04ff7bdf4484cfc55f56a",
       "version_major": 2,
       "version_minor": 0
      },
      "text/plain": [
       "Fetching 6 files:   0%|          | 0/6 [00:00<?, ?it/s]"
      ]
     },
     "metadata": {},
     "output_type": "display_data"
    },
    {
     "name": "stderr",
     "output_type": "stream",
     "text": [
      "\u001b[32mCreating model: ('PP-LCNet_x1_0_textline_ori', None)\u001b[0m\n",
      "\u001b[32mUsing official model (PP-LCNet_x1_0_textline_ori), the model files will be automatically downloaded and saved in /data/ephemeral/home/.paddlex/official_models.\u001b[0m\n"
     ]
    },
    {
     "data": {
      "application/vnd.jupyter.widget-view+json": {
       "model_id": "1508726215b142f0bfe67a7bfd5d5225",
       "version_major": 2,
       "version_minor": 0
      },
      "text/plain": [
       "Fetching 8 files:   0%|          | 0/8 [00:00<?, ?it/s]"
      ]
     },
     "metadata": {},
     "output_type": "display_data"
    },
    {
     "name": "stderr",
     "output_type": "stream",
     "text": [
      "\u001b[32mCreating model: ('PP-OCRv5_server_det', None)\u001b[0m\n",
      "\u001b[32mUsing official model (PP-OCRv5_server_det), the model files will be automatically downloaded and saved in /data/ephemeral/home/.paddlex/official_models.\u001b[0m\n"
     ]
    },
    {
     "data": {
      "application/vnd.jupyter.widget-view+json": {
       "model_id": "edd35c57c40b4b8b9463126ac04d5ca3",
       "version_major": 2,
       "version_minor": 0
      },
      "text/plain": [
       "Fetching 6 files:   0%|          | 0/6 [00:00<?, ?it/s]"
      ]
     },
     "metadata": {},
     "output_type": "display_data"
    },
    {
     "name": "stderr",
     "output_type": "stream",
     "text": [
      "\u001b[32mCreating model: ('korean_PP-OCRv5_mobile_rec', None)\u001b[0m\n",
      "\u001b[32mUsing official model (korean_PP-OCRv5_mobile_rec), the model files will be automatically downloaded and saved in /data/ephemeral/home/.paddlex/official_models.\u001b[0m\n"
     ]
    },
    {
     "name": "stdout",
     "output_type": "stream",
     "text": [
      "error in /data/ephemeral/home/dataset/dtc/train/f91e11f9cf1fd712.jpg\n",
      "error in /data/ephemeral/home/dataset/dtc/train/dac2e72086a27f34.jpg\n",
      "error in /data/ephemeral/home/dataset/dtc/train/a7263fb46a510a68.jpg\n"
     ]
    }
   ],
   "source": [
    "for p in tqdm(list(image_paths)):\n",
    "    try:\n",
    "        items = ocr.process_image(p) \n",
    "        write_annotation(p, items)\n",
    "    except Exception:\n",
    "        print(f\"error in {p}\")"
   ]
  },
  {
   "cell_type": "markdown",
   "id": "f27c58fb-c3c6-43e2-be77-5ed828885907",
   "metadata": {},
   "source": [
    "# Show error samples"
   ]
  },
  {
   "cell_type": "code",
   "execution_count": 13,
   "id": "59c273bf-4a67-4b4d-af6f-b11097d53246",
   "metadata": {},
   "outputs": [],
   "source": [
    "err_paths = [\n",
    "    \"/data/ephemeral/home/dataset/dtc/train/f91e11f9cf1fd712.jpg\",\n",
    "    \"/data/ephemeral/home/dataset/dtc/train/dac2e72086a27f34.jpg\",\n",
    "    \"/data/ephemeral/home/dataset/dtc/train/a7263fb46a510a68.jpg\"\n",
    "]"
   ]
  },
  {
   "cell_type": "code",
   "execution_count": 26,
   "id": "172d8946-4293-4e0d-849c-2fd19ab18cda",
   "metadata": {},
   "outputs": [],
   "source": [
    "# show_img(path=err_paths[2])"
   ]
  },
  {
   "cell_type": "markdown",
   "id": "a6f59c88-8da7-4a83-b818-a7f0d4df6bb3",
   "metadata": {},
   "source": [
    "# Retouch\n",
    "- 이미지 리사이즈 살짝만 바꿔도 인식 문제없이 됨"
   ]
  },
  {
   "cell_type": "code",
   "execution_count": 21,
   "id": "f214e857-9013-4423-8b4e-c44246ef4e89",
   "metadata": {},
   "outputs": [],
   "source": [
    "# p = Path(err_paths[0])\n",
    "# shutil.copy(p, \"./err_01.jpg\")"
   ]
  },
  {
   "cell_type": "code",
   "execution_count": 37,
   "id": "1101574d-a506-4626-b7c4-1d9278bdb9dc",
   "metadata": {},
   "outputs": [],
   "source": [
    "resized = resize_image_with_ratio(err_paths[-1], ratio=1.01)\n",
    "resized.save('./err_01_re.jpg')"
   ]
  },
  {
   "cell_type": "code",
   "execution_count": 40,
   "id": "6ce1015f-78ce-487c-8542-777e27685b60",
   "metadata": {},
   "outputs": [],
   "source": [
    "# ocr.draw_ocr('./err_01_re.jpg')"
   ]
  },
  {
   "cell_type": "code",
   "execution_count": 43,
   "id": "2d5c5006-b7ee-4d09-bf24-99526e894ce8",
   "metadata": {},
   "outputs": [],
   "source": [
    "# for p in err_paths:\n",
    "#     resized = resize_image_with_ratio(p, ratio=1.02)\n",
    "#     resized.save(p)"
   ]
  },
  {
   "cell_type": "code",
   "execution_count": 45,
   "id": "68badfd5-041e-4278-9b3d-f1ef15cdd967",
   "metadata": {},
   "outputs": [],
   "source": [
    "# for p in tqdm(list(err_paths)):\n",
    "#     try:\n",
    "#         items = ocr.process_image(p) \n",
    "#         write_annotation(p, items)\n",
    "#     except Exception:\n",
    "#         print(f\"error in {p}\")"
   ]
  },
  {
   "cell_type": "code",
   "execution_count": 35,
   "id": "18c7cd29-d03f-454e-8103-9a6da4376396",
   "metadata": {},
   "outputs": [],
   "source": [
    "# ocr.draw_ocr(err_paths[0])"
   ]
  }
 ],
 "metadata": {
  "kernelspec": {
   "display_name": "Python 3 (ipykernel)",
   "language": "python",
   "name": "python3"
  },
  "language_info": {
   "codemirror_mode": {
    "name": "ipython",
    "version": 3
   },
   "file_extension": ".py",
   "mimetype": "text/x-python",
   "name": "python",
   "nbconvert_exporter": "python",
   "pygments_lexer": "ipython3",
   "version": "3.12.10"
  }
 },
 "nbformat": 4,
 "nbformat_minor": 5
}
