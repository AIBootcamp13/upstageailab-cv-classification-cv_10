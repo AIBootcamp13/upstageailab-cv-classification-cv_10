{
 "cells": [
  {
   "cell_type": "code",
   "execution_count": 2,
   "id": "9a365691-09d1-4778-ac74-81601c98af38",
   "metadata": {},
   "outputs": [],
   "source": [
    "import importlib\n",
    "import inv\n",
    "import labs\n",
    "import preds\n",
    "\n",
    "importlib.reload(labs)\n",
    "importlib.reload(preds)\n",
    "importlib.reload(inv)\n",
    "\n",
    "from labs import *\n",
    "from inv import *\n",
    "from preds import *\n",
    "\n",
    "label2id, id2label = make_doc_class_mapper('/data/ephemeral/home/dataset/dtc/doc_classes.json')\n",
    "id2kor = make_id2kor(id2label)"
   ]
  },
  {
   "cell_type": "markdown",
   "id": "8ef4c2f5-89fb-4606-bb45-7aa0f38a7139",
   "metadata": {},
   "source": [
    "# 클래스 정리 (훈련 기준)\n",
    "\n",
    "#### 아주 잘 분류됨 (7종)\n",
    "- 계좌번호 (0) , 차량 계기판 (2) ,운전면허증 (5) , 민증 (8) , 여권 (9) , 차량등록증 (15) , 자동차 (16)\n",
    "\n",
    "#### 꽤 잘됨 (4종)\n",
    "- 의료비 영수증 (6)  , 납입 확인서 (1) , 약국 영수증 (11) , 처방전 (12)\n",
    "\n",
    "#### 잘 안됨 (6종)\n",
    "- 임신/출산 (1) , 입퇴원 확인서 (3) , 진단서 (4) , 외래 진료/통원 확인서 (7) , 이력서 (13) , 소견서 (14)\n",
    "\n",
    "- 최악: 입퇴원 / 외래 / 진단서 \n",
    "- 보통: 이력서 / 임신 / 소견서\n",
    "\n",
    "### NOTE\n",
    "- 입퇴원 확인서와 외래/진료/통원 확인서는 확인서라는 단어에 의해 서로 혼동이 심한편\n",
    "- 진단서와 진료확인서는 '진' 뒷글자가 없는 경우 혼동"
   ]
  },
  {
   "cell_type": "markdown",
   "id": "0499d9a6-cf01-42b8-8f0b-2963c9eacec3",
   "metadata": {},
   "source": [
    "# Analysis"
   ]
  },
  {
   "cell_type": "markdown",
   "id": "1228d10e-ccaa-4af9-8585-a4abc2a86952",
   "metadata": {},
   "source": [
    "# load history"
   ]
  },
  {
   "cell_type": "code",
   "execution_count": 3,
   "id": "f7e14704-0142-4877-a82c-556d9524f22a",
   "metadata": {},
   "outputs": [
    {
     "data": {
      "application/vnd.jupyter.widget-view+json": {
       "model_id": "709f6e11cc174c278215bd233808d222",
       "version_major": 2,
       "version_minor": 0
      },
      "text/plain": [
       "0it [00:00, ?it/s]"
      ]
     },
     "metadata": {},
     "output_type": "display_data"
    }
   ],
   "source": [
    "path_csvs = grep_files('./history/', exts=['csv'])\n",
    "\n",
    "hists = []\n",
    "for p in path_csvs: \n",
    "    df = pd.read_csv(p)\n",
    "    hists.append(df)"
   ]
  },
  {
   "cell_type": "code",
   "execution_count": 4,
   "id": "780066b2-638e-4c5b-a612-97693b92a71f",
   "metadata": {},
   "outputs": [],
   "source": [
    "def calculate_match_rate(dfs, target_col):\n",
    "    targets = pd.concat([df[target_col].reset_index(drop=True) for df in dfs], axis=1)\n",
    "    match = targets.nunique(axis=1) == 1\n",
    "    match_rate = match.mean()\n",
    "    return match_rate"
   ]
  },
  {
   "cell_type": "code",
   "execution_count": 5,
   "id": "6cc33640-ba7a-4148-a1a7-1e362460b6fc",
   "metadata": {},
   "outputs": [
    {
     "data": {
      "text/plain": [
       "0.8697452229299363"
      ]
     },
     "execution_count": 5,
     "metadata": {},
     "output_type": "execute_result"
    }
   ],
   "source": [
    "calculate_match_rate(hists, 'target')"
   ]
  },
  {
   "cell_type": "code",
   "execution_count": 6,
   "id": "c0db5437-54d1-48ba-b21e-cfc5e45f53c2",
   "metadata": {},
   "outputs": [],
   "source": [
    "import itertools\n",
    "def partial_match_rate(dfs, target_col):\n",
    "    targets = pd.concat([df[target_col].reset_index(drop=True) for df in dfs], axis=1)\n",
    "    n = len(dfs)\n",
    "    total_pairs = n * (n - 1) // 2\n",
    "\n",
    "    def match_rate(row):\n",
    "        matches = sum(1 for a, b in itertools.combinations(row, 2) if a == b)\n",
    "        return matches / total_pairs if total_pairs > 0 else 1.0\n",
    "\n",
    "    rates = targets.apply(match_rate, axis=1)\n",
    "    return rates, rates.mean()"
   ]
  },
  {
   "cell_type": "code",
   "execution_count": 8,
   "id": "6c8576b6-6cfa-40da-b974-558797dd04c9",
   "metadata": {},
   "outputs": [
    {
     "name": "stdout",
     "output_type": "stream",
     "text": [
      "0.9350106157112527\n"
     ]
    }
   ],
   "source": [
    "rates, means = partial_match_rate(hists, 'target')\n",
    "print(means)"
   ]
  },
  {
   "cell_type": "code",
   "execution_count": 9,
   "id": "f79eb94a-ff5f-4e1e-9b9f-5dc9bb6582cc",
   "metadata": {},
   "outputs": [],
   "source": [
    "wrongs = hists[0][rates < 1.0]['ID'].tolist()\n",
    "write_list('inconsist_list.txt', wrongs)"
   ]
  },
  {
   "cell_type": "code",
   "execution_count": 10,
   "id": "59f1c803-eb7d-4f6a-af13-196777f6224f",
   "metadata": {},
   "outputs": [],
   "source": [
    "base_path = '/data/ephemeral/home/dataset/dtc/test/'\n",
    "wrong_paths = [os.path.join(base_path, n) for n in wrongs]"
   ]
  },
  {
   "cell_type": "markdown",
   "id": "5b9dbc25-8a5d-44c2-9557-dc7e65d45bb4",
   "metadata": {},
   "source": [
    "# 살펴보기"
   ]
  },
  {
   "cell_type": "code",
   "execution_count": 84,
   "id": "b0ad7615-3a07-4482-9161-1a7b4fc82640",
   "metadata": {},
   "outputs": [
    {
     "data": {
      "text/plain": [
       "12"
      ]
     },
     "execution_count": 84,
     "metadata": {},
     "output_type": "execute_result"
    }
   ],
   "source": [
    "hists[0].iloc[1]['target']"
   ]
  },
  {
   "cell_type": "code",
   "execution_count": 105,
   "id": "bd414bf5-37d6-44eb-ba0c-97237f5c3765",
   "metadata": {},
   "outputs": [
    {
     "data": {
      "text/plain": [
       "Index([0], dtype='int64')"
      ]
     },
     "execution_count": 105,
     "metadata": {},
     "output_type": "execute_result"
    }
   ],
   "source": [
    "hists[0].index[hists[0]['ID'] == '0008fdb22ddce0ce.jpg']"
   ]
  },
  {
   "cell_type": "code",
   "execution_count": 88,
   "id": "10cb9ae5-4e62-4cae-a268-7b477aa1ac1e",
   "metadata": {
    "scrolled": true
   },
   "outputs": [
    {
     "data": {
      "application/vnd.jupyter.widget-view+json": {
       "model_id": "18c097559786450b8bb9d6c5d40b85d7",
       "version_major": 2,
       "version_minor": 0
      },
      "text/plain": [
       "VBox(children=(HBox(children=(Button(description='PREV', style=ButtonStyle()), Button(description='NEXT', styl…"
      ]
     },
     "metadata": {},
     "output_type": "display_data"
    }
   ],
   "source": [
    "inv = ImageNavigator(image_paths=wrong_paths, hists=hists, id2kor=id2kor)"
   ]
  },
  {
   "cell_type": "markdown",
   "id": "b9149aa1-4566-4f54-89ac-dd05b7e2129a",
   "metadata": {},
   "source": [
    "# Voting"
   ]
  },
  {
   "cell_type": "code",
   "execution_count": 11,
   "id": "258840b1-4d5b-4e82-ac50-4e6b346a1e57",
   "metadata": {},
   "outputs": [],
   "source": [
    "def vote_df(dfs, target_col):\n",
    "    df_ans = new_df = dfs[0].copy()\n",
    "    targets = pd.concat([df[target_col].reset_index(drop=True) for df in dfs], axis=1)\n",
    "    voted = targets.mode(axis=1)[0]\n",
    "    df_ans[target_col] = voted.astype(int)\n",
    "    return df_ans"
   ]
  },
  {
   "cell_type": "code",
   "execution_count": 12,
   "id": "bde17f85-b68b-4e3a-845b-95f7c0e9022f",
   "metadata": {},
   "outputs": [],
   "source": [
    "df_voted = vote_df(hists, 'target')"
   ]
  },
  {
   "cell_type": "code",
   "execution_count": 99,
   "id": "8acd332a-524b-4e70-8236-5c50b72a6a01",
   "metadata": {},
   "outputs": [],
   "source": [
    "df_voted.to_csv('voted.csv', index=False)"
   ]
  },
  {
   "cell_type": "markdown",
   "id": "f99fe001-a3e4-4482-9517-a23b60d8cd9d",
   "metadata": {},
   "source": [
    "# Fixed List 만들기"
   ]
  },
  {
   "cell_type": "code",
   "execution_count": 47,
   "id": "b0e2a5b7-b429-477a-ad3b-1b04a1fcc324",
   "metadata": {},
   "outputs": [],
   "source": [
    "# df = df_voted\n",
    "# df.loc[df['ID'].isin(wrongs), 'target'] = -1\n",
    "# df.to_csv('fixed.csv', index=False)"
   ]
  },
  {
   "cell_type": "markdown",
   "id": "736ccbd1-f504-46be-b1b6-ec027173dddb",
   "metadata": {},
   "source": [
    "# 테스트셋 fixed로 분포보기"
   ]
  },
  {
   "cell_type": "code",
   "execution_count": 51,
   "id": "0e8c1f65-57c4-4878-97e7-8227280fa51c",
   "metadata": {},
   "outputs": [],
   "source": [
    "df['class'] = df['target'].map(id2kor)"
   ]
  },
  {
   "cell_type": "code",
   "execution_count": 58,
   "id": "9fbed627-99fd-4f1c-8216-20804783789c",
   "metadata": {},
   "outputs": [
    {
     "data": {
      "text/plain": [
       "class\n",
       "계기판          200\n",
       "차량등록증        200\n",
       "자동차          200\n",
       "여권           200\n",
       "주민등록증        199\n",
       "계좌번호         198\n",
       "면허증          197\n",
       "처방전          196\n",
       "의료비 영수증      196\n",
       "납입 확인서       191\n",
       "약국 영수증       185\n",
       "이력서          139\n",
       "진단서          134\n",
       "입퇴원 확인서       97\n",
       "임신/출산         88\n",
       "진료/통원 확인서     69\n",
       "소견서           42\n",
       "Name: count, dtype: int64"
      ]
     },
     "execution_count": 58,
     "metadata": {},
     "output_type": "execute_result"
    }
   ],
   "source": [
    "df['class'].value_counts()"
   ]
  },
  {
   "cell_type": "code",
   "execution_count": 66,
   "id": "1b2b52e4-b173-4967-9c75-846a86c5d600",
   "metadata": {},
   "outputs": [
    {
     "data": {
      "application/vnd.jupyter.widget-view+json": {
       "model_id": "c7ceb40cc9c3409cbf5dd67660275a50",
       "version_major": 2,
       "version_minor": 0
      },
      "text/plain": [
       "0it [00:00, ?it/s]"
      ]
     },
     "metadata": {},
     "output_type": "display_data"
    },
    {
     "name": "stdout",
     "output_type": "stream",
     "text": [
      "3140\n"
     ]
    }
   ],
   "source": [
    "ps = grep_files('/data/ephemeral/home/dataset/docsy-deskew/', exts=['jpg'])\n",
    "print(len(ps))"
   ]
  },
  {
   "cell_type": "markdown",
   "id": "4269e85c-e64b-4848-afb9-0347cb36e18e",
   "metadata": {},
   "source": [
    "# 훈련 데이터 보기"
   ]
  },
  {
   "cell_type": "code",
   "execution_count": 68,
   "id": "eb2a1442-39b4-4780-af97-a068e6fc3e8a",
   "metadata": {},
   "outputs": [
    {
     "data": {
      "application/vnd.jupyter.widget-view+json": {
       "model_id": "e1b36b115089474f9fed4115539bc9a0",
       "version_major": 2,
       "version_minor": 0
      },
      "text/plain": [
       "0it [00:00, ?it/s]"
      ]
     },
     "metadata": {},
     "output_type": "display_data"
    },
    {
     "data": {
      "text/plain": [
       "1570"
      ]
     },
     "execution_count": 68,
     "metadata": {},
     "output_type": "execute_result"
    }
   ],
   "source": [
    "ps = grep_files('/data/ephemeral/home/dataset/dtc/train/', exts=['jpg'])\n",
    "len(ps)"
   ]
  },
  {
   "cell_type": "code",
   "execution_count": 70,
   "id": "82b7ab20-a5f9-4699-83f2-4c1770d4b2e2",
   "metadata": {},
   "outputs": [
    {
     "data": {
      "application/vnd.jupyter.widget-view+json": {
       "model_id": "5fb916970b374db7a7803f3d27f07e6d",
       "version_major": 2,
       "version_minor": 0
      },
      "text/plain": [
       "VBox(children=(HBox(children=(Button(description='PREV', style=ButtonStyle()), Button(description='NEXT', styl…"
      ]
     },
     "metadata": {},
     "output_type": "display_data"
    }
   ],
   "source": [
    "inv = ImageNavigator(ps, [df], id2kor)"
   ]
  }
 ],
 "metadata": {
  "kernelspec": {
   "display_name": "Python 3 (ipykernel)",
   "language": "python",
   "name": "python3"
  },
  "language_info": {
   "codemirror_mode": {
    "name": "ipython",
    "version": 3
   },
   "file_extension": ".py",
   "mimetype": "text/x-python",
   "name": "python",
   "nbconvert_exporter": "python",
   "pygments_lexer": "ipython3",
   "version": "3.12.10"
  }
 },
 "nbformat": 4,
 "nbformat_minor": 5
}
