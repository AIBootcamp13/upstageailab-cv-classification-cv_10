{
 "cells": [
  {
   "cell_type": "code",
   "execution_count": 107,
   "id": "9a365691-09d1-4778-ac74-81601c98af38",
   "metadata": {},
   "outputs": [],
   "source": [
    "import importlib\n",
    "import labs\n",
    "import pred_llv3\n",
    "import llv3\n",
    "import inv \n",
    "\n",
    "importlib.reload(labs)\n",
    "importlib.reload(pred_llv3)\n",
    "importlib.reload(llv3)\n",
    "importlib.reload(inv)\n",
    "\n",
    "from labs import *\n",
    "from inv import *\n",
    "from pred_llv3 import *\n",
    "from llv3 import *"
   ]
  },
  {
   "cell_type": "markdown",
   "id": "4d0eb6e8-65ca-4dfc-9bd6-a7cdc8e0a436",
   "metadata": {},
   "source": [
    "# Predictor"
   ]
  },
  {
   "cell_type": "code",
   "execution_count": 2,
   "id": "e3128bfe-8afc-46d5-9a58-0197220d23f8",
   "metadata": {},
   "outputs": [
    {
     "data": {
      "application/vnd.jupyter.widget-view+json": {
       "model_id": "88375075460141be9564a8e6f038bdec",
       "version_major": 2,
       "version_minor": 0
      },
      "text/plain": [
       "0it [00:00, ?it/s]"
      ]
     },
     "metadata": {},
     "output_type": "display_data"
    },
    {
     "data": {
      "text/plain": [
       "3140"
      ]
     },
     "execution_count": 2,
     "metadata": {},
     "output_type": "execute_result"
    }
   ],
   "source": [
    "image_paths = grep_files('/data/ephemeral/home/dataset/docsy-deskew/', exts=['jpg'])\n",
    "len(image_paths)"
   ]
  },
  {
   "cell_type": "code",
   "execution_count": 3,
   "id": "80121b6e-81d1-4733-bfa2-6ca2969de348",
   "metadata": {},
   "outputs": [],
   "source": [
    "processor = LayoutLMv3Processor.from_pretrained(\"microsoft/layoutlmv3-base\", apply_ocr=False)"
   ]
  },
  {
   "cell_type": "code",
   "execution_count": 80,
   "id": "b0285ea5-0c68-4cca-a9dc-10b9c7518650",
   "metadata": {},
   "outputs": [
    {
     "name": "stderr",
     "output_type": "stream",
     "text": [
      "Some weights of LayoutLMv3ForSequenceClassification were not initialized from the model checkpoint at microsoft/layoutlmv3-base and are newly initialized: ['classifier.dense.bias', 'classifier.dense.weight', 'classifier.out_proj.bias', 'classifier.out_proj.weight']\n",
      "You should probably TRAIN this model on a down-stream task to be able to use it for predictions and inference.\n"
     ]
    }
   ],
   "source": [
    "ckpt_path = './ckpt/llv3-easy-rotator-subclasses-480hw-last_epoch.ckpt'\n",
    "classes_path = '/data/ephemeral/home/dataset/dtc/doc_classes.json'\n",
    "predictor = Predictor(Lym, processor, ckpt_path, classes_path)"
   ]
  },
  {
   "cell_type": "markdown",
   "id": "79b347ef-d1fe-495d-839b-5c1212ba7c35",
   "metadata": {},
   "source": [
    "# TEST"
   ]
  },
  {
   "cell_type": "code",
   "execution_count": 56,
   "id": "77050327-f406-4460-89a6-9753a9441b96",
   "metadata": {},
   "outputs": [
    {
     "name": "stderr",
     "output_type": "stream",
     "text": [
      "/data/ephemeral/home/.pyenv/versions/py12/lib/python3.12/site-packages/transformers/modeling_utils.py:1731: FutureWarning: The `device` argument is deprecated and will be removed in v5 of Transformers.\n",
      "  warnings.warn(\n"
     ]
    }
   ],
   "source": [
    "outs, preds = predictor.feed(image_paths[0])"
   ]
  },
  {
   "cell_type": "markdown",
   "id": "6bc9f7ff-ac84-4700-a2b0-552bd0f7b2b8",
   "metadata": {},
   "source": [
    "# TEST ALL"
   ]
  },
  {
   "cell_type": "code",
   "execution_count": 68,
   "id": "9964f747-fa04-41ba-b384-bf61cf7a371f",
   "metadata": {},
   "outputs": [
    {
     "data": {
      "application/vnd.jupyter.widget-view+json": {
       "model_id": "c2ce3623095246edb26e9bb95878aa8a",
       "version_major": 2,
       "version_minor": 0
      },
      "text/plain": [
       "  0%|          | 0/3140 [00:00<?, ?it/s]"
      ]
     },
     "metadata": {},
     "output_type": "display_data"
    }
   ],
   "source": [
    "items = predictor.test(image_paths[:])"
   ]
  },
  {
   "cell_type": "code",
   "execution_count": 69,
   "id": "7fc83c25-6eb3-4323-a247-e2cf6e19b6da",
   "metadata": {},
   "outputs": [],
   "source": [
    "write_list('./llv3-dice-loss-sub-classes.txt', items)"
   ]
  },
  {
   "cell_type": "markdown",
   "id": "a75274a9-8287-41dd-ac49-7770d95b6ed8",
   "metadata": {},
   "source": [
    "# Compare"
   ]
  },
  {
   "cell_type": "code",
   "execution_count": 70,
   "id": "6a74d7e9-8206-464d-97d3-f15fab6c0407",
   "metadata": {},
   "outputs": [],
   "source": [
    "wrongs = read_list_from_txt('inconsist_list.txt')\n",
    "base_dir = '/data/ephemeral/home/dataset/docsy-deskew/'\n",
    "paths = [os.path.join(base_dir, i) for i in wrongs]"
   ]
  },
  {
   "cell_type": "code",
   "execution_count": 94,
   "id": "39919a26-0821-4148-a8fe-4b7aa03841db",
   "metadata": {},
   "outputs": [],
   "source": [
    "answers = [(item[0][:-4] + '.jpg', np.argmax(np.array(item[1])), np.array(item[1]).max()) for item in items]\n",
    "df = pd.DataFrame(answers, columns=['ID', 'target', 'prob'])\n",
    "hists = [ df ]"
   ]
  },
  {
   "cell_type": "code",
   "execution_count": 108,
   "id": "44258aa6-7872-4552-bfe6-c5be45226988",
   "metadata": {},
   "outputs": [],
   "source": [
    "class_names = predictor.class_names\n",
    "def pick(filename):\n",
    "    x = [item for item in items if item[0] == filename][0]\n",
    "    probs = x[1]\n",
    "    row = [float(\"{:.4f}\".format(p)) for p in probs] \n",
    "    columns = [f'{name}({i})' for i, name in enumerate(class_names)]\n",
    "    df = pd.DataFrame([row], columns=columns)\n",
    "    return df"
   ]
  },
  {
   "cell_type": "code",
   "execution_count": 109,
   "id": "f14dfe0a-de93-4a5f-9f96-5d5e2b558d53",
   "metadata": {},
   "outputs": [
    {
     "data": {
      "text/html": [
       "<div>\n",
       "<style scoped>\n",
       "    .dataframe tbody tr th:only-of-type {\n",
       "        vertical-align: middle;\n",
       "    }\n",
       "\n",
       "    .dataframe tbody tr th {\n",
       "        vertical-align: top;\n",
       "    }\n",
       "\n",
       "    .dataframe thead th {\n",
       "        text-align: right;\n",
       "    }\n",
       "</style>\n",
       "<table border=\"1\" class=\"dataframe\">\n",
       "  <thead>\n",
       "    <tr style=\"text-align: right;\">\n",
       "      <th></th>\n",
       "      <th>계좌번호(0)</th>\n",
       "      <th>임신/출산(1)</th>\n",
       "      <th>계기판(2)</th>\n",
       "      <th>입퇴원 확인서(3)</th>\n",
       "      <th>진단서(4)</th>\n",
       "      <th>면허증(5)</th>\n",
       "      <th>의료비 영수증(6)</th>\n",
       "      <th>진료/통원 확인서(7)</th>\n",
       "      <th>주민등록증(8)</th>\n",
       "      <th>여권(9)</th>\n",
       "      <th>납입 확인서(10)</th>\n",
       "      <th>약국 영수증(11)</th>\n",
       "      <th>처방전(12)</th>\n",
       "      <th>이력서(13)</th>\n",
       "      <th>소견서(14)</th>\n",
       "      <th>차량등록증(15)</th>\n",
       "      <th>자동차(16)</th>\n",
       "    </tr>\n",
       "  </thead>\n",
       "  <tbody>\n",
       "    <tr>\n",
       "      <th>0</th>\n",
       "      <td>0.0001</td>\n",
       "      <td>0.0004</td>\n",
       "      <td>0.0001</td>\n",
       "      <td>0.1276</td>\n",
       "      <td>0.0042</td>\n",
       "      <td>0.0001</td>\n",
       "      <td>0.0001</td>\n",
       "      <td>0.6749</td>\n",
       "      <td>0.0001</td>\n",
       "      <td>0.0001</td>\n",
       "      <td>0.0001</td>\n",
       "      <td>0.0001</td>\n",
       "      <td>0.0001</td>\n",
       "      <td>0.0006</td>\n",
       "      <td>0.1915</td>\n",
       "      <td>0.0001</td>\n",
       "      <td>0.0001</td>\n",
       "    </tr>\n",
       "  </tbody>\n",
       "</table>\n",
       "</div>"
      ],
      "text/plain": [
       "   계좌번호(0)  임신/출산(1)  계기판(2)  입퇴원 확인서(3)  진단서(4)  면허증(5)  의료비 영수증(6)  \\\n",
       "0   0.0001    0.0004  0.0001      0.1276  0.0042  0.0001      0.0001   \n",
       "\n",
       "   진료/통원 확인서(7)  주민등록증(8)   여권(9)  납입 확인서(10)  약국 영수증(11)  처방전(12)  이력서(13)  \\\n",
       "0        0.6749    0.0001  0.0001      0.0001      0.0001   0.0001   0.0006   \n",
       "\n",
       "   소견서(14)  차량등록증(15)  자동차(16)  \n",
       "0   0.1915     0.0001   0.0001  "
      ]
     },
     "execution_count": 109,
     "metadata": {},
     "output_type": "execute_result"
    }
   ],
   "source": [
    "pick('279c0046ee09258d.jpg')"
   ]
  },
  {
   "cell_type": "code",
   "execution_count": 95,
   "id": "fb19e4d5-f5a9-4a2f-b886-1027b982b54a",
   "metadata": {},
   "outputs": [
    {
     "data": {
      "application/vnd.jupyter.widget-view+json": {
       "model_id": "a2959167af324368bce40bdbf1f26916",
       "version_major": 2,
       "version_minor": 0
      },
      "text/plain": [
       "VBox(children=(HBox(children=(Button(description='PREV', style=ButtonStyle()), Button(description='NEXT', styl…"
      ]
     },
     "metadata": {},
     "output_type": "display_data"
    }
   ],
   "source": [
    "inv = ImageNavigator(paths, hists, predictor.id2kor)"
   ]
  }
 ],
 "metadata": {
  "kernelspec": {
   "display_name": "py12",
   "language": "python",
   "name": "py12"
  },
  "language_info": {
   "codemirror_mode": {
    "name": "ipython",
    "version": 3
   },
   "file_extension": ".py",
   "mimetype": "text/x-python",
   "name": "python",
   "nbconvert_exporter": "python",
   "pygments_lexer": "ipython3",
   "version": "3.12.10"
  }
 },
 "nbformat": 4,
 "nbformat_minor": 5
}
