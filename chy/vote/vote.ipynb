{
 "cells": [
  {
   "cell_type": "code",
   "execution_count": 87,
   "id": "9a365691-09d1-4778-ac74-81601c98af38",
   "metadata": {},
   "outputs": [],
   "source": [
    "import importlib\n",
    "import inv\n",
    "import labs\n",
    "import vote\n",
    "\n",
    "importlib.reload(labs)\n",
    "importlib.reload(inv)\n",
    "importlib.reload(vote)\n",
    "\n",
    "from vote import *\n",
    "from inv import *\n",
    "from labs import *\n",
    "\n",
    "label2id, id2label = make_doc_class_mapper('/data/ephemeral/home/dataset/dtc/doc_classes.json')\n",
    "id2kor = make_id2kor(id2label)"
   ]
  },
  {
   "cell_type": "markdown",
   "id": "1228d10e-ccaa-4af9-8585-a4abc2a86952",
   "metadata": {},
   "source": [
    "# load history"
   ]
  },
  {
   "cell_type": "code",
   "execution_count": 2,
   "id": "f7e14704-0142-4877-a82c-556d9524f22a",
   "metadata": {},
   "outputs": [
    {
     "data": {
      "application/vnd.jupyter.widget-view+json": {
       "model_id": "999159c78c4149c4a8de31dfab3cae5e",
       "version_major": 2,
       "version_minor": 0
      },
      "text/plain": [
       "0it [00:00, ?it/s]"
      ]
     },
     "metadata": {},
     "output_type": "display_data"
    }
   ],
   "source": [
    "path_csvs = grep_files('./history/', exts=['csv'])\n",
    "\n",
    "submits = []\n",
    "for p in path_csvs: \n",
    "    df = pd.read_csv(p)\n",
    "    submits.append(df)"
   ]
  },
  {
   "cell_type": "markdown",
   "id": "b9149aa1-4566-4f54-89ac-dd05b7e2129a",
   "metadata": {},
   "source": [
    "# Voting\n",
    "- TODO\n",
    "  - fixed 된 것에서 cnv 대비 다른 것 \n",
    "  - cnv가 약점(1, 3, 4, 7, 13, 14) 로 예상한 리스트는 llv 따름\n",
    "  - cnv가 비약점 클래스에서 90 이상인 것은 고정"
   ]
  },
  {
   "cell_type": "code",
   "execution_count": 17,
   "id": "6e7750ab-698a-4367-bf7a-c85c45dca312",
   "metadata": {},
   "outputs": [],
   "source": [
    "misses = read_list_from_txt('./inconsist_list.txt')"
   ]
  },
  {
   "cell_type": "code",
   "execution_count": 3,
   "id": "b16f8eca-7b83-4a73-9a22-e238c03b8e32",
   "metadata": {},
   "outputs": [],
   "source": [
    "cnv_probs = read_list_from_txt('./probs/cnv2-easy-rot-dice-loss.txt')\n",
    "llv_probs = read_list_from_txt('./probs/llv3-dice-loss-sub-classes.txt')"
   ]
  },
  {
   "cell_type": "code",
   "execution_count": 42,
   "id": "86392074-c43f-4971-b1b0-8ef3a540290b",
   "metadata": {},
   "outputs": [],
   "source": [
    "def load_probs(path, misses, exclude_weak=True):\n",
    "    weaks = [1, 3, 4, 7, 13, 14]\n",
    "    name2probs = read_list_from_txt(path)\n",
    "    rows = []\n",
    "    for line in name2probs:\n",
    "        item = eval(line)\n",
    "        filename = item[0][:-6] + '.jpg'\n",
    "        probs = np.array(item[1])\n",
    "        label_id = np.argmax(probs)\n",
    "        score = probs[label_id]\n",
    "        if exclude_weak and int(label_id) in weaks:\n",
    "            continue\n",
    "        if filename in misses and score > 0.80:\n",
    "            rows.append((filename, label_id, score))\n",
    "    return rows"
   ]
  },
  {
   "cell_type": "code",
   "execution_count": 43,
   "id": "3b1ae7ed-542b-4073-826a-4a2970aeb85b",
   "metadata": {},
   "outputs": [],
   "source": [
    "name2probs = load_probs('./probs/cnv2-easy-rot-dice-loss.txt', misses=misses)"
   ]
  },
  {
   "cell_type": "code",
   "execution_count": 64,
   "id": "274df9d3-332d-4e4a-9842-74ccc403fa17",
   "metadata": {},
   "outputs": [],
   "source": [
    "# 1차 비약점 cnv 확신답 모음\n",
    "answers = name2probs[:]\n",
    "checked_codes = [a[0] for a in answers]"
   ]
  },
  {
   "cell_type": "code",
   "execution_count": 65,
   "id": "52825762-5ecb-4cb4-a3cb-9dd37db38420",
   "metadata": {},
   "outputs": [],
   "source": [
    "for line in llv_probs:\n",
    "    item = eval(line)\n",
    "    filename = item[0]\n",
    "    probs = np.array(item[1])\n",
    "    label_id = np.argmax(probs)\n",
    "    score = probs[label_id]\n",
    "    if filename in checked_codes:\n",
    "        continue\n",
    "    if filename in misses:\n",
    "        answers.append((filename, label_id, score))"
   ]
  },
  {
   "cell_type": "code",
   "execution_count": 66,
   "id": "d9d83edb-586a-4136-b767-c31e9323fdf2",
   "metadata": {},
   "outputs": [
    {
     "data": {
      "text/plain": [
       "409"
      ]
     },
     "execution_count": 66,
     "metadata": {},
     "output_type": "execute_result"
    }
   ],
   "source": [
    "len(answers)"
   ]
  },
  {
   "cell_type": "code",
   "execution_count": 70,
   "id": "1e8b6407-f344-4b22-828c-75fbd90a6720",
   "metadata": {},
   "outputs": [
    {
     "data": {
      "text/plain": [
       "('77a1ccb7d5125c15.jpg', 11, 0.9976)"
      ]
     },
     "execution_count": 70,
     "metadata": {},
     "output_type": "execute_result"
    }
   ],
   "source": [
    "answers[0]"
   ]
  },
  {
   "cell_type": "markdown",
   "id": "8f905450-9010-444e-bc06-a1b2e1357be3",
   "metadata": {},
   "source": [
    "# 불일치 채우기"
   ]
  },
  {
   "cell_type": "code",
   "execution_count": 80,
   "id": "0b1003a4-3258-4a26-8e33-63c979b5a803",
   "metadata": {},
   "outputs": [],
   "source": [
    "df = pd.read_csv('./fixed.csv')"
   ]
  },
  {
   "cell_type": "code",
   "execution_count": 81,
   "id": "c10c8016-7dc4-406d-84be-4fef9d688f75",
   "metadata": {},
   "outputs": [],
   "source": [
    "for item in answers:\n",
    "    matched = df.index[df['ID'] == item[0]]\n",
    "    idx = matched[0]\n",
    "    df.loc[idx, 'target'] = int(item[1])"
   ]
  },
  {
   "cell_type": "code",
   "execution_count": 83,
   "id": "8acd332a-524b-4e70-8236-5c50b72a6a01",
   "metadata": {},
   "outputs": [],
   "source": [
    "df.to_csv('voted.csv', index=False)"
   ]
  },
  {
   "cell_type": "markdown",
   "id": "1050b689-ac8a-4c02-a5de-90d5c4fbc810",
   "metadata": {},
   "source": [
    "# 보기"
   ]
  },
  {
   "cell_type": "code",
   "execution_count": 84,
   "id": "e370af66-4884-4056-9b73-4baafcc02dbe",
   "metadata": {},
   "outputs": [],
   "source": [
    "ds_dir_path = '/data/ephemeral/home/dataset/docsy-deskew/'\n",
    "miss_paths = [os.path.join(ds_dir_path, m) for m in misses]"
   ]
  },
  {
   "cell_type": "code",
   "execution_count": 88,
   "id": "c8b7b3d9-108f-4466-a0ca-f50c24871174",
   "metadata": {},
   "outputs": [
    {
     "data": {
      "application/vnd.jupyter.widget-view+json": {
       "model_id": "06dde8007eb447a88704084b1d3dc098",
       "version_major": 2,
       "version_minor": 0
      },
      "text/plain": [
       "VBox(children=(HBox(children=(Button(description='PREV', style=ButtonStyle()), Button(description='NEXT', styl…"
      ]
     },
     "metadata": {},
     "output_type": "display_data"
    }
   ],
   "source": [
    "inv = ImageNavigator(miss_paths, [df], id2kor)"
   ]
  }
 ],
 "metadata": {
  "kernelspec": {
   "display_name": "py12",
   "language": "python",
   "name": "py12"
  },
  "language_info": {
   "codemirror_mode": {
    "name": "ipython",
    "version": 3
   },
   "file_extension": ".py",
   "mimetype": "text/x-python",
   "name": "python",
   "nbconvert_exporter": "python",
   "pygments_lexer": "ipython3",
   "version": "3.12.10"
  }
 },
 "nbformat": 4,
 "nbformat_minor": 5
}
